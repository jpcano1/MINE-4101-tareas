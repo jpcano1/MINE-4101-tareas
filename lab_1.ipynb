{
 "cells": [
  {
   "cell_type": "markdown",
   "metadata": {},
   "source": [
    "## Bienvenido a la primera práctica de Jupyter Notebook\n",
    "\n",
    "Esta primera práctica se realizará sobre los datos obtenidos de la página de [datos](http://insideairbnb.com/get-the-data.html) de AirBnB\n",
    "\n",
    "<table align=\"left\">\n",
    "  <td>\n",
    "    <a target=\"_blank\" href=\"https://colab.research.google.com/github/jpcano1/MINE-4101-tareas/blob/master/lab_1.ipynb\"><img src=\"https://www.tensorflow.org/images/colab_logo_32px.png\"/>Run in Google Colab</a>\n",
    "  </td>\n",
    "</table>"
   ]
  },
  {
   "cell_type": "markdown",
   "metadata": {},
   "source": [
    "## **Preguntas**\n",
    "\n",
    "1. Realizar un \"enriquecimiento\" de información, utilizando los datos que se encuentra en la página de [AirBnB](http://insideairbnb.com/get-the-data.html), para tal fin,  utilice la función [merge](http://www.datasciencemadesimple.com/join-merge-data-frames-pandas-python/).\n",
    "2. Seleccione un conjunto de variables que pueda ser de interés.\n",
    "3. Teniendo en cuenta los resultados del ítem 2, realizar un análisis y el tratamiendo adecuado en función del tipo de variables, datos faltantes y datos duplicados.\n",
    "4. Formule 4 hipótesis que se puedan abarcar sobre el conjunto de datos resultantes en el punto anterior, y de ser prosible dar respuesta a estas utilizando pandas profiling."
   ]
  }
 ],
 "metadata": {
  "kernelspec": {
   "display_name": "ds_venv",
   "language": "python",
   "name": "ds_venv"
  },
  "language_info": {
   "codemirror_mode": {
    "name": "ipython",
    "version": 3
   },
   "file_extension": ".py",
   "mimetype": "text/x-python",
   "name": "python",
   "nbconvert_exporter": "python",
   "pygments_lexer": "ipython3",
   "version": "3.8.2"
  }
 },
 "nbformat": 4,
 "nbformat_minor": 4
}
