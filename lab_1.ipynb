{
  "nbformat": 4,
  "nbformat_minor": 0,
  "metadata": {
    "kernelspec": {
      "display_name": "ds_venv",
      "language": "python",
      "name": "ds_venv"
    },
    "language_info": {
      "codemirror_mode": {
        "name": "ipython",
        "version": 3
      },
      "file_extension": ".py",
      "mimetype": "text/x-python",
      "name": "python",
      "nbconvert_exporter": "python",
      "pygments_lexer": "ipython3",
      "version": "3.8.2"
    },
    "colab": {
      "name": "lab_1.ipynb",
      "provenance": []
    }
  },
  "cells": [
    {
      "cell_type": "markdown",
      "metadata": {
        "id": "ExJRDRJytdAj",
        "colab_type": "text"
      },
      "source": [
        "## Bienvenido a la primera práctica de Jupyter Notebook\n",
        "\n",
        "Esta primera práctica se realizará sobre los datos obtenidos de la página de [datos](http://insideairbnb.com/get-the-data.html) de AirBnB\n",
        "\n",
        "<table align=\"left\">\n",
        "  <td>\n",
        "    <a target=\"_blank\" href=\"https://colab.research.google.com/github/jpcano1/MINE-4101-tareas/blob/master/lab_1.ipynb\"><img src=\"https://www.tensorflow.org/images/colab_logo_32px.png\"/>Run in Google Colab</a>\n",
        "  </td>\n",
        "</table>"
      ]
    },
    {
      "cell_type": "markdown",
      "metadata": {
        "id": "etGQqGHUtdAk",
        "colab_type": "text"
      },
      "source": [
        "## **Preguntas**\n",
        "\n",
        "1. Realizar un \"enriquecimiento\" de información, utilizando los datos que se encuentra en la página de [AirBnB](http://insideairbnb.com/get-the-data.html), para tal fin,  utilice la función [merge](http://www.datasciencemadesimple.com/join-merge-data-frames-pandas-python/).\n",
        "2. Seleccione un conjunto de variables que pueda ser de interés.\n",
        "3. Teniendo en cuenta los resultados del ítem 2, realizar un análisis y el tratamiendo adecuado en función del tipo de variables, datos faltantes y datos duplicados.\n",
        "4. Formule 4 hipótesis que se puedan abarcar sobre el conjunto de datos resultantes en el punto anterior, y de ser prosible dar respuesta a estas utilizando pandas profiling."
      ]
    },
    {
      "cell_type": "code",
      "metadata": {
        "id": "4WCYb4uA6K3B",
        "colab_type": "code",
        "colab": {}
      },
      "source": [
        "!pip install -q mplleaflet"
      ],
      "execution_count": null,
      "outputs": []
    },
    {
      "cell_type": "code",
      "metadata": {
        "id": "7Hi-YK_SvK32",
        "colab_type": "code",
        "colab": {}
      },
      "source": [
        "import pandas as pd\n",
        "import numpy as np\n",
        "import matplotlib.pyplot as plt\n",
        "\n",
        "import mplleaflet\n",
        "\n",
        "import requests"
      ],
      "execution_count": 67,
      "outputs": []
    },
    {
      "cell_type": "code",
      "metadata": {
        "id": "R1NGUpuywQl2",
        "colab_type": "code",
        "colab": {}
      },
      "source": [
        "url = \"http://data.insideairbnb.com/the-netherlands/north-holland/amsterdam/2019-07-08/data/listings.csv.gz\"\n",
        "url1 = \"http://data.insideairbnb.com/the-netherlands/north-holland/amsterdam/2019-07-08/data/calendar.csv.gz\"\n",
        "url2 = \"http://data.insideairbnb.com/the-netherlands/north-holland/amsterdam/2019-07-08/data/reviews.csv.gz\""
      ],
      "execution_count": 48,
      "outputs": []
    },
    {
      "cell_type": "code",
      "metadata": {
        "id": "Gkbwwo_Lv3zG",
        "colab_type": "code",
        "colab": {}
      },
      "source": [
        "def download_data(url, filename=\"listings.csv.gz\"):\n",
        "    r = requests.get(url)\n",
        "    with open(filename, \"wb\") as f:\n",
        "        f.write(r.content)\n",
        "    return "
      ],
      "execution_count": 15,
      "outputs": []
    },
    {
      "cell_type": "code",
      "metadata": {
        "id": "qEIFOMarwSdE",
        "colab_type": "code",
        "colab": {}
      },
      "source": [
        "download_data(url)\n",
        "download_data(url1, \"calendar.csv.gz\")\n",
        "download_data(url2, \"reviews.csv.gz\")"
      ],
      "execution_count": 49,
      "outputs": []
    },
    {
      "cell_type": "code",
      "metadata": {
        "id": "PNFsLP-ZvWl5",
        "colab_type": "code",
        "colab": {}
      },
      "source": [
        "listings = pd.read_csv(\"listings.csv.gz\", low_memory=False)\n",
        "calendar = pd.read_csv(\"calendar.csv.gz\", low_memory=False)\n",
        "reviews = pd.read_csv(\"reviews.csv.gz\", low_memory=False)"
      ],
      "execution_count": 50,
      "outputs": []
    },
    {
      "cell_type": "code",
      "metadata": {
        "id": "JdmkydzY3XYR",
        "colab_type": "code",
        "colab": {}
      },
      "source": [
        "pd.merge(listings, calendar, left_on=\"id\", right_on=\"listing_id\").shape"
      ],
      "execution_count": null,
      "outputs": []
    },
    {
      "cell_type": "code",
      "metadata": {
        "id": "-N1lE_mz3id0",
        "colab_type": "code",
        "colab": {}
      },
      "source": [
        "plt.figure()\n",
        "plt.scatter(listings[\"longitude\"][:1000], listings[\"latitude\"][:1000])\n",
        "mplleaflet.display(fig=plt.gcf())"
      ],
      "execution_count": null,
      "outputs": []
    },
    {
      "cell_type": "code",
      "metadata": {
        "id": "XNVEJKA95OeB",
        "colab_type": "code",
        "colab": {}
      },
      "source": [
        ""
      ],
      "execution_count": null,
      "outputs": []
    }
  ]
}