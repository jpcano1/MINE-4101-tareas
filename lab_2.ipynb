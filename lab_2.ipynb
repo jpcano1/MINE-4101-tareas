{
  "nbformat": 4,
  "nbformat_minor": 0,
  "metadata": {
    "colab": {
      "name": "lab_2.ipynb",
      "provenance": []
    },
    "kernelspec": {
      "display_name": "Python 3",
      "language": "python",
      "name": "python3"
    },
    "language_info": {
      "codemirror_mode": {
        "name": "ipython",
        "version": 3
      },
      "file_extension": ".py",
      "mimetype": "text/x-python",
      "name": "python",
      "nbconvert_exporter": "python",
      "pygments_lexer": "ipython3",
      "version": "3.8.2"
    }
  },
  "cells": [
    {
      "cell_type": "markdown",
      "metadata": {
        "colab_type": "text",
        "id": "sjy_JbMNparJ"
      },
      "source": [
        "## **Bienvenido a la segunda práctica de Jupyter Notebook**\n",
        "\n",
        "<table align=\"left\">\n",
        "  <td>\n",
        "    <a target=\"_blank\" href=\"https://colab.research.google.com/github/jpcano1/MINE-4101-tareas/blob/master/lab_2.ipynb\"><img src=\"https://www.tensorflow.org/images/colab_logo_32px.png\"/>Run in Google Colab</a>\n",
        "  </td>\n",
        "</table>"
      ]
    },
    {
      "cell_type": "markdown",
      "metadata": {
        "id": "2ldzMrthb84e",
        "colab_type": "text"
      },
      "source": [
        "## **Preguntas**\n",
        "1. Descargue las bases de datos B.Condiciones de la vivienda y H.Fuerza de trabajo (uso del tiempo e ingresos) de la siguiente [página](http://microdatos.dane.gov.co/index.php/catalog/214/get_microdata).\n",
        "En esta misma página, en la pestaña “Descripción de variables” podrá encontrar una descripción detallada de las variables que contiene las dos bases de datos.\n",
        "2. Importe las dos bases de datos a Jupyter Notebook.\n",
        "3. Para cada uno de las bases de datos realice:\n",
        "    -  Realice un análisis del tipo de variables que contiene las bases de datos (si son cuantitativas o cualitativas), para esto, utilice la función `df.dtypes` (ver práctica 27 de agosto), si el tipo de un variable no es consistente, realizar la respectiva corrección.\n",
        "    - Realice un análisis de datos duplicados y tome una decisión con relación a estos (eliminarlos o no), justifique su respuesta.\n",
        "    - Determine el porcentaje de datos faltantes por cada una de las variables y tome una acción con relación a estos (eliminar las variables que tienen datos missing, eliminar los registros con datos missing, etc). Justifique su respuesta.\n",
        "    - Para cada una de las bases de datos, seleccione un conjunto de variables que usted considere de interés, realice un análisis sobre los posibles valores que pueden tener esta variable, para esto utilice la función `df.variable.unique()`, donde df es el nombre del dataframe que contiene una base de datos (ver práctica 3 de septiembre). Si en una variable contiene valores que no son lógicos  ¿qué acción realizaría sobre esta base de datos? Justifique su respuesta.\n",
        "\n",
        "4. De la misma página del punto 1, descargue un tercer conjunto de datos (cualquiera que sea interesante para usted) y replique los puntos 3.1, 3.2, y 3.3.\n",
        "5. Con las tres bases de datos obtenidas de los puntos 3 y 4, realice un tipo de JOIN (left, right, inner, etc), y a partir de esta base consolidada, realice un análisis muy general de las variables utilizando la función pandas profiling.\n",
        "6. ¿Qué tipo de restricciones legales pueden consideran pueden tener al momento de trabajar sobre estos datos?\n",
        "7. Plantear tres hipótesis de relevancia para el negocio a la luz del negocio."
      ]
    },
    {
      "cell_type": "markdown",
      "metadata": {
        "id": "kSwiUkMqZ7il",
        "colab_type": "text"
      },
      "source": [
        "## **1. Descarga de las bases de datos**"
      ]
    },
    {
      "cell_type": "code",
      "metadata": {
        "colab_type": "code",
        "id": "sS6Og0MUparM",
        "colab": {}
      },
      "source": [
        "!wget -q \"https://github.com/jpcano1/MINE-4101-tareas/blob/master/datasets/CAPITULO%20B.%20CONDICIONES%20DE%20LA%20VIVIENDA.sav?raw=true\" -O \"condiciones_vivienda.sav\"\n",
        "!wget -q \"https://github.com/jpcano1/MINE-4101-tareas/blob/master/datasets/CAPITULO%20H.%20FUERZA%20DE%20TRABAJO%20-%20Uso%20del%20tiempo%20e%20ingresos.sav?raw=true\" -O \"fuerza_trabajo.sav\"\n",
        "!wget -q \"https://github.com/jpcano1/MINE-4101-tareas/blob/master/datasets/CAPITULO%20D.%20COMPOSICION%20DEL%20HOGAR.sav?raw=true\" -O \"composicion_hogar.sav\""
      ],
      "execution_count": 1,
      "outputs": []
    },
    {
      "cell_type": "code",
      "metadata": {
        "id": "cnkBs9N80Gmo",
        "colab_type": "code",
        "colab": {}
      },
      "source": [
        "!pip install -q pyreadstat\n",
        "!pip install -q https://github.com/pandas-profiling/pandas-profiling/archive/master.zip"
      ],
      "execution_count": null,
      "outputs": []
    },
    {
      "cell_type": "code",
      "metadata": {
        "colab_type": "code",
        "id": "K2UBZuBPqFv3",
        "colab": {}
      },
      "source": [
        "import pandas as pd\n",
        "import numpy as np\n",
        "import matplotlib.pyplot as plt\n",
        "plt.style.use(\"ggplot\")\n",
        "import seaborn as sns"
      ],
      "execution_count": null,
      "outputs": []
    },
    {
      "cell_type": "markdown",
      "metadata": {
        "id": "Vz96XM0OofZd",
        "colab_type": "text"
      },
      "source": [
        "## **2. Importación de las bases de datos**"
      ]
    },
    {
      "cell_type": "code",
      "metadata": {
        "colab_type": "code",
        "id": "NgRxC8_lqbHj",
        "colab": {}
      },
      "source": [
        "data_condiciones = pd.read_spss(\"condiciones_vivienda.sav\")\n",
        "data_fuerza = pd.read_spss(\"fuerza_trabajo.sav\")"
      ],
      "execution_count": 4,
      "outputs": []
    },
    {
      "cell_type": "code",
      "metadata": {
        "colab_type": "code",
        "id": "DnnYaPInuFpP",
        "colab": {}
      },
      "source": [
        "columns_condiciones = {\n",
        "    \"FEX_C\": \"factores_expansion\",\n",
        "    \"P424\": \"tipo_vivienda\",\n",
        "    \"P4030S1\": \"energia_electrica\",\n",
        "    \"P4030S1A1\": \"estrato\",\n",
        "    \"P4030S5\": \"acueducto\",\n",
        "    \"P4030S3\": \"alcantarillado\",\n",
        "    \"P4030S4\": \"recoleccion_basuras\",\n",
        "    \"P4030S4A1\": \"dias_x_semana\",\n",
        "    \"P4030S2\": \"gas_natural_dom\",\n",
        "    \"P4020\": \"material_pisos\",\n",
        "    \"DIA_REFERENCIA_2\": \"dia_referencia\"\n",
        "}"
      ],
      "execution_count": 5,
      "outputs": []
    },
    {
      "cell_type": "code",
      "metadata": {
        "colab_type": "code",
        "id": "SciNTW80q-JQ",
        "colab": {}
      },
      "source": [
        "data_condiciones.rename(columns=columns_condiciones, inplace=True)\n",
        "data_condiciones.rename(columns=lambda x: x.lower(), inplace=True)"
      ],
      "execution_count": 6,
      "outputs": []
    },
    {
      "cell_type": "code",
      "metadata": {
        "colab_type": "code",
        "id": "xtd2oKmZxUEk",
        "colab": {}
      },
      "source": [
        "columns_fuerza_list = [\"oficio_princ\", \"rama_princ\", \n",
        "                       \"lugar_trabajo\", \"contrato\", \"misma_empresa\", \n",
        "                       \"horas_semana\", \"trabajo_dia\", \"horas_trabajo\", \n",
        "                       \"minutos_trabajo\",  \"total_ida\", \"horas_ida\", \n",
        "                       \"minutos_ida\",  \"motivo_no_trabajo\", \"este_trabajo\", \n",
        "                       \"ganancias_mes_pasado\", \"ganancia_neta_mes_pasado\", \n",
        "                       \"numero_meses\", \"cantidad_tiempo\", \"numero_personas\",\n",
        "                       \"empleo_secundario\", \"horas_semana_empleo_secundario\", \n",
        "                       \"trabajo_secundario_dia\", \"horas_trabajo_secundario\", \n",
        "                       \"minutos_trabajo_secundario\", \"ida_secundario_horas\", \n",
        "                       \"ida_secundario_minutos\",  \"ganancia_secundaria_mes_pasado\", \n",
        "                       \"ganancia_jubilacion\", \"valor_jubilacion\", \"ganancia_arriendo\",  \n",
        "                       \"valor_arriendo\",  \"ganancia_ayudas\", \"ayuda_provino_de\", \n",
        "                       \"valor_ayudas\"]"
      ],
      "execution_count": 7,
      "outputs": []
    },
    {
      "cell_type": "code",
      "metadata": {
        "colab_type": "code",
        "id": "DAEkCZj9vlSX",
        "colab": {}
      },
      "source": [
        "index = 0\n",
        "columns_fuerza = {}\n",
        "for col in data_fuerza.columns[3:]:\n",
        "    columns_fuerza[col] = columns_fuerza_list[index]\n",
        "    index += 1"
      ],
      "execution_count": 8,
      "outputs": []
    },
    {
      "cell_type": "code",
      "metadata": {
        "id": "gklaojfroVRw",
        "colab_type": "code",
        "colab": {
          "base_uri": "https://localhost:8080/",
          "height": 595
        },
        "outputId": "e535e067-73a5-4af0-b13d-fd74480f6a0a"
      },
      "source": [
        "columns_fuerza"
      ],
      "execution_count": 42,
      "outputs": [
        {
          "output_type": "execute_result",
          "data": {
            "text/plain": [
              "{'P1098': 'motivo_no_trabajo',\n",
              " 'P1099': 'total_ida',\n",
              " 'P1099S1': 'horas_ida',\n",
              " 'P1099S2': 'minutos_ida',\n",
              " 'P1145': 'ganancia_ayudas',\n",
              " 'P1145S1': 'ayuda_provino_de',\n",
              " 'P1145S2': 'valor_ayudas',\n",
              " 'P1148S1': 'ida_secundario_horas',\n",
              " 'P1148S2': 'ida_secundario_minutos',\n",
              " 'P1149': 'trabajo_secundario_dia',\n",
              " 'P1149S1': 'horas_trabajo_secundario',\n",
              " 'P1149S2': 'minutos_trabajo_secundario',\n",
              " 'P1150': 'trabajo_dia',\n",
              " 'P1150S1': 'horas_trabajo',\n",
              " 'P1150S2': 'minutos_trabajo',\n",
              " 'P1151': 'horas_semana',\n",
              " 'P427': 'este_trabajo',\n",
              " 'P428': 'numero_personas',\n",
              " 'P6250': 'empleo_secundario',\n",
              " 'P6370S1': 'oficio_princ',\n",
              " 'P6390S1': 'rama_princ',\n",
              " 'P6400': 'misma_empresa',\n",
              " 'P6426': 'cantidad_tiempo',\n",
              " 'P6440': 'contrato',\n",
              " 'P6500': 'ganancias_mes_pasado',\n",
              " 'P6510': 'ganancia_jubilacion',\n",
              " 'P6510S1': 'valor_jubilacion',\n",
              " 'P6545': 'ganancia_arriendo',\n",
              " 'P6545S1': 'valor_arriendo',\n",
              " 'P6750': 'ganancia_neta_mes_pasado',\n",
              " 'P6760': 'numero_meses',\n",
              " 'P6850': 'horas_semana_empleo_secundario',\n",
              " 'P6880': 'lugar_trabajo',\n",
              " 'P7070': 'ganancia_secundaria_mes_pasado'}"
            ]
          },
          "metadata": {
            "tags": []
          },
          "execution_count": 42
        }
      ]
    },
    {
      "cell_type": "code",
      "metadata": {
        "colab_type": "code",
        "id": "dqteyimgEdi-",
        "colab": {}
      },
      "source": [
        "data_fuerza.rename(columns=columns_fuerza, inplace=True)\n",
        "data_fuerza.rename(columns=lambda x: x.lower(), inplace=True)"
      ],
      "execution_count": 9,
      "outputs": []
    },
    {
      "cell_type": "markdown",
      "metadata": {
        "id": "IpyT-Hckoc5x",
        "colab_type": "text"
      },
      "source": [
        "### **3. Análisis de datos**\n",
        "- Tercer Punto\n",
        "\n",
        "## **3.1. Análisis del tipo de variable**\n",
        "- Análisis para condiciones de vivienda:"
      ]
    },
    {
      "cell_type": "code",
      "metadata": {
        "id": "LxpjLeeeZhCs",
        "colab_type": "code",
        "colab": {
          "base_uri": "https://localhost:8080/",
          "height": 272
        },
        "outputId": "d98a7417-1234-4d78-9241-d84f291e3a92"
      },
      "source": [
        "data_condiciones.dtypes"
      ],
      "execution_count": 10,
      "outputs": [
        {
          "output_type": "execute_result",
          "data": {
            "text/plain": [
              "directorio              float64\n",
              "factores_expansion      float64\n",
              "region                 category\n",
              "dia_referencia         category\n",
              "clase                  category\n",
              "tipo_vivienda          category\n",
              "energia_electrica      category\n",
              "estrato                 float64\n",
              "acueducto              category\n",
              "alcantarillado         category\n",
              "recoleccion_basuras    category\n",
              "dias_x_semana           float64\n",
              "gas_natural_dom        category\n",
              "material_pisos         category\n",
              "dtype: object"
            ]
          },
          "metadata": {
            "tags": []
          },
          "execution_count": 10
        }
      ]
    },
    {
      "cell_type": "markdown",
      "metadata": {
        "id": "Fxrz-VBUo4PG",
        "colab_type": "text"
      },
      "source": [
        "- Análisis para fuerza de trabajo"
      ]
    },
    {
      "cell_type": "code",
      "metadata": {
        "id": "KKqm8iyYn7Qw",
        "colab_type": "code",
        "colab": {
          "base_uri": "https://localhost:8080/",
          "height": 663
        },
        "outputId": "7314bb65-3ce2-4808-b3eb-84f8ed68e97b"
      },
      "source": [
        "data_fuerza.dtypes"
      ],
      "execution_count": 11,
      "outputs": [
        {
          "output_type": "execute_result",
          "data": {
            "text/plain": [
              "directorio                         float64\n",
              "secuencia_p                        float64\n",
              "orden                              float64\n",
              "oficio_princ                        object\n",
              "rama_princ                          object\n",
              "lugar_trabajo                     category\n",
              "contrato                          category\n",
              "misma_empresa                     category\n",
              "horas_semana                       float64\n",
              "trabajo_dia                       category\n",
              "horas_trabajo                      float64\n",
              "minutos_trabajo                    float64\n",
              "total_ida                          float64\n",
              "horas_ida                          float64\n",
              "minutos_ida                        float64\n",
              "motivo_no_trabajo                 category\n",
              "este_trabajo                      category\n",
              "ganancias_mes_pasado               float64\n",
              "ganancia_neta_mes_pasado           float64\n",
              "numero_meses                       float64\n",
              "cantidad_tiempo                    float64\n",
              "numero_personas                   category\n",
              "empleo_secundario                 category\n",
              "horas_semana_empleo_secundario     float64\n",
              "trabajo_secundario_dia            category\n",
              "horas_trabajo_secundario           float64\n",
              "minutos_trabajo_secundario         float64\n",
              "ida_secundario_horas               float64\n",
              "ida_secundario_minutos             float64\n",
              "ganancia_secundaria_mes_pasado     float64\n",
              "ganancia_jubilacion               category\n",
              "valor_jubilacion                   float64\n",
              "ganancia_arriendo                 category\n",
              "valor_arriendo                     float64\n",
              "ganancia_ayudas                   category\n",
              "ayuda_provino_de                  category\n",
              "valor_ayudas                       float64\n",
              "dtype: object"
            ]
          },
          "metadata": {
            "tags": []
          },
          "execution_count": 11
        }
      ]
    },
    {
      "cell_type": "markdown",
      "metadata": {
        "id": "mNTZHhJGqCdG",
        "colab_type": "text"
      },
      "source": [
        "### **3.2 Análisis de duplicados**\n",
        "- Dado que la mayoría de las respuestas de la encuesta realizada son de opción multiple, lo más seguro es que esté llena de duplicados. Por lo que, lo mejor sería no borrarlos, porque cada respuesta, aunque duplicada, nos da una visión de la tendencia de respuestas."
      ]
    },
    {
      "cell_type": "markdown",
      "metadata": {
        "id": "TyYjuVQqs2KO",
        "colab_type": "text"
      },
      "source": [
        "### **3.3 Análisis de datos faltantes**"
      ]
    },
    {
      "cell_type": "code",
      "metadata": {
        "id": "mTzvJh7TuHD3",
        "colab_type": "code",
        "colab": {}
      },
      "source": [
        "def null_percentage(df, int_mode=False):\n",
        "    null_percentages = dict()\n",
        "    for col in df.columns:\n",
        "        percentage = df[col].isna().sum() * 100\n",
        "        percentage /= df.shape[0]\n",
        "        if not int_mode:\n",
        "            percentage = f\"{percentage}% of null values\"\n",
        "        null_percentages[col] = percentage\n",
        "    return null_percentages"
      ],
      "execution_count": 12,
      "outputs": []
    },
    {
      "cell_type": "code",
      "metadata": {
        "id": "Xa5DrHagumQs",
        "colab_type": "code",
        "colab": {}
      },
      "source": [
        "condiciones_null = null_percentage(data_condiciones)"
      ],
      "execution_count": 13,
      "outputs": []
    },
    {
      "cell_type": "markdown",
      "metadata": {
        "id": "cXrgDTavvzji",
        "colab_type": "text"
      },
      "source": [
        "- Dado que este dataset está muy limpio de variables nulas, se dejarán todas para ver qué conclusiones se pueden sacar."
      ]
    },
    {
      "cell_type": "code",
      "metadata": {
        "id": "YnpjlXhzurdO",
        "colab_type": "code",
        "colab": {
          "base_uri": "https://localhost:8080/",
          "height": 255
        },
        "outputId": "db94d4c0-5587-48c3-b9ab-d0bfec598bf4"
      },
      "source": [
        "condiciones_null"
      ],
      "execution_count": 14,
      "outputs": [
        {
          "output_type": "execute_result",
          "data": {
            "text/plain": [
              "{'acueducto': '0.0% of null values',\n",
              " 'alcantarillado': '0.0% of null values',\n",
              " 'clase': '0.0% of null values',\n",
              " 'dia_referencia': '0.0% of null values',\n",
              " 'dias_x_semana': '17.18576327302826% of null values',\n",
              " 'directorio': '0.0% of null values',\n",
              " 'energia_electrica': '0.0% of null values',\n",
              " 'estrato': '2.062196996570888% of null values',\n",
              " 'factores_expansion': '0.0% of null values',\n",
              " 'gas_natural_dom': '0.0% of null values',\n",
              " 'material_pisos': '0.0% of null values',\n",
              " 'recoleccion_basuras': '0.0% of null values',\n",
              " 'region': '0.0% of null values',\n",
              " 'tipo_vivienda': '0.0% of null values'}"
            ]
          },
          "metadata": {
            "tags": []
          },
          "execution_count": 14
        }
      ]
    },
    {
      "cell_type": "markdown",
      "metadata": {
        "id": "bgytFzAevi-d",
        "colab_type": "text"
      },
      "source": [
        "- Dado que este set de datos tiene más variables nulas, se procederá a eliminar aquellas variables con un porcentaje de nulidad mayor al 85% para analizar las variables que tienen más datos. Para las filas más de 10 valores nulos las vamos a eliminar también."
      ]
    },
    {
      "cell_type": "code",
      "metadata": {
        "id": "45l2NCvgusQH",
        "colab_type": "code",
        "colab": {}
      },
      "source": [
        "fuerza_null = null_percentage(data_fuerza)"
      ],
      "execution_count": 15,
      "outputs": []
    },
    {
      "cell_type": "code",
      "metadata": {
        "id": "W_h47L7Lu1Zo",
        "colab_type": "code",
        "colab": {
          "base_uri": "https://localhost:8080/",
          "height": 646
        },
        "outputId": "acda7690-671e-4bb7-f0fa-c9137642d062"
      },
      "source": [
        "fuerza_null"
      ],
      "execution_count": 16,
      "outputs": [
        {
          "output_type": "execute_result",
          "data": {
            "text/plain": [
              "{'ayuda_provino_de': '88.29348989587726% of null values',\n",
              " 'cantidad_tiempo': '48.796587628531576% of null values',\n",
              " 'contrato': '48.796587628531576% of null values',\n",
              " 'directorio': '0.0% of null values',\n",
              " 'empleo_secundario': '48.796587628531576% of null values',\n",
              " 'este_trabajo': '48.796587628531576% of null values',\n",
              " 'ganancia_arriendo': '0.0% of null values',\n",
              " 'ganancia_ayudas': '0.0% of null values',\n",
              " 'ganancia_jubilacion': '0.0% of null values',\n",
              " 'ganancia_neta_mes_pasado': '78.08556878263973% of null values',\n",
              " 'ganancia_secundaria_mes_pasado': '97.5493853190178% of null values',\n",
              " 'ganancias_mes_pasado': '72.18041454474682% of null values',\n",
              " 'horas_ida': '61.526484803269646% of null values',\n",
              " 'horas_semana': '48.796587628531576% of null values',\n",
              " 'horas_semana_empleo_secundario': '97.5493853190178% of null values',\n",
              " 'horas_trabajo': '61.526484803269646% of null values',\n",
              " 'horas_trabajo_secundario': '98.82172629666871% of null values',\n",
              " 'ida_secundario_horas': '98.82172629666871% of null values',\n",
              " 'ida_secundario_minutos': '98.82172629666871% of null values',\n",
              " 'lugar_trabajo': '48.796587628531576% of null values',\n",
              " 'minutos_ida': '61.526484803269646% of null values',\n",
              " 'minutos_trabajo': '61.526484803269646% of null values',\n",
              " 'minutos_trabajo_secundario': '98.82172629666871% of null values',\n",
              " 'misma_empresa': '72.68562068182555% of null values',\n",
              " 'motivo_no_trabajo': '87.27010282526193% of null values',\n",
              " 'numero_meses': '78.08556878263973% of null values',\n",
              " 'numero_personas': '48.796587628531576% of null values',\n",
              " 'oficio_princ': '0.0% of null values',\n",
              " 'orden': '0.0% of null values',\n",
              " 'rama_princ': '0.0% of null values',\n",
              " 'secuencia_p': '0.0% of null values',\n",
              " 'total_ida': '100.0% of null values',\n",
              " 'trabajo_dia': '48.796587628531576% of null values',\n",
              " 'trabajo_secundario_dia': '97.5493853190178% of null values',\n",
              " 'valor_arriendo': '96.5689772616692% of null values',\n",
              " 'valor_ayudas': '88.29348989587726% of null values',\n",
              " 'valor_jubilacion': '93.72344221350028% of null values'}"
            ]
          },
          "metadata": {
            "tags": []
          },
          "execution_count": 16
        }
      ]
    },
    {
      "cell_type": "code",
      "metadata": {
        "id": "WwMRb5pQu2GT",
        "colab_type": "code",
        "colab": {}
      },
      "source": [
        "fuerza_null = null_percentage(data_fuerza, int_mode=True)"
      ],
      "execution_count": 17,
      "outputs": []
    },
    {
      "cell_type": "code",
      "metadata": {
        "id": "uNAn1PMIwhzY",
        "colab_type": "code",
        "colab": {}
      },
      "source": [
        "def drop_null_column(df, null_percentages, drop_perc=85):\n",
        "    for col in df.columns:\n",
        "        if null_percentages[col] > drop_perc:\n",
        "            df.drop(columns=col, inplace=True)"
      ],
      "execution_count": 18,
      "outputs": []
    },
    {
      "cell_type": "code",
      "metadata": {
        "id": "Tztpc5UrwiaQ",
        "colab_type": "code",
        "colab": {}
      },
      "source": [
        "drop_null_column(data_fuerza, fuerza_null)"
      ],
      "execution_count": 19,
      "outputs": []
    },
    {
      "cell_type": "code",
      "metadata": {
        "id": "W9lPjnZzkd-I",
        "colab_type": "code",
        "colab": {}
      },
      "source": [
        "fuerza_null = null_percentage(data_fuerza)"
      ],
      "execution_count": 20,
      "outputs": []
    },
    {
      "cell_type": "code",
      "metadata": {
        "id": "6Y-GW452kfSz",
        "colab_type": "code",
        "colab": {
          "base_uri": "https://localhost:8080/",
          "height": 425
        },
        "outputId": "7ca95dda-9bdf-4db6-be98-7f8166a4e5ec"
      },
      "source": [
        "fuerza_null"
      ],
      "execution_count": 21,
      "outputs": [
        {
          "output_type": "execute_result",
          "data": {
            "text/plain": [
              "{'cantidad_tiempo': '48.796587628531576% of null values',\n",
              " 'contrato': '48.796587628531576% of null values',\n",
              " 'directorio': '0.0% of null values',\n",
              " 'empleo_secundario': '48.796587628531576% of null values',\n",
              " 'este_trabajo': '48.796587628531576% of null values',\n",
              " 'ganancia_arriendo': '0.0% of null values',\n",
              " 'ganancia_ayudas': '0.0% of null values',\n",
              " 'ganancia_jubilacion': '0.0% of null values',\n",
              " 'ganancia_neta_mes_pasado': '78.08556878263973% of null values',\n",
              " 'ganancias_mes_pasado': '72.18041454474682% of null values',\n",
              " 'horas_ida': '61.526484803269646% of null values',\n",
              " 'horas_semana': '48.796587628531576% of null values',\n",
              " 'horas_trabajo': '61.526484803269646% of null values',\n",
              " 'lugar_trabajo': '48.796587628531576% of null values',\n",
              " 'minutos_ida': '61.526484803269646% of null values',\n",
              " 'minutos_trabajo': '61.526484803269646% of null values',\n",
              " 'misma_empresa': '72.68562068182555% of null values',\n",
              " 'numero_meses': '78.08556878263973% of null values',\n",
              " 'numero_personas': '48.796587628531576% of null values',\n",
              " 'oficio_princ': '0.0% of null values',\n",
              " 'orden': '0.0% of null values',\n",
              " 'rama_princ': '0.0% of null values',\n",
              " 'secuencia_p': '0.0% of null values',\n",
              " 'trabajo_dia': '48.796587628531576% of null values'}"
            ]
          },
          "metadata": {
            "tags": []
          },
          "execution_count": 21
        }
      ]
    },
    {
      "cell_type": "code",
      "metadata": {
        "id": "Fjy-NRIQ3OrZ",
        "colab_type": "code",
        "colab": {}
      },
      "source": [
        "data_fuerza.dropna(thresh=15, inplace=True)"
      ],
      "execution_count": 28,
      "outputs": []
    },
    {
      "cell_type": "code",
      "metadata": {
        "id": "zxn1Ox9pl_1F",
        "colab_type": "code",
        "colab": {
          "base_uri": "https://localhost:8080/",
          "height": 425
        },
        "outputId": "1b46ed24-0465-4276-8689-9c7f03496336"
      },
      "source": [
        "null_percentage(data_fuerza)"
      ],
      "execution_count": 30,
      "outputs": [
        {
          "output_type": "execute_result",
          "data": {
            "text/plain": [
              "{'cantidad_tiempo': '0.0% of null values',\n",
              " 'contrato': '0.0% of null values',\n",
              " 'directorio': '0.0% of null values',\n",
              " 'empleo_secundario': '0.0% of null values',\n",
              " 'este_trabajo': '0.0% of null values',\n",
              " 'ganancia_arriendo': '0.0% of null values',\n",
              " 'ganancia_ayudas': '0.0% of null values',\n",
              " 'ganancia_jubilacion': '0.0% of null values',\n",
              " 'ganancia_neta_mes_pasado': '57.20122897595895% of null values',\n",
              " 'ganancias_mes_pasado': '45.66849323746476% of null values',\n",
              " 'horas_ida': '24.861423458236988% of null values',\n",
              " 'horas_semana': '0.0% of null values',\n",
              " 'horas_trabajo': '24.861423458236988% of null values',\n",
              " 'lugar_trabajo': '0.0% of null values',\n",
              " 'minutos_ida': '24.861423458236988% of null values',\n",
              " 'minutos_trabajo': '24.861423458236988% of null values',\n",
              " 'misma_empresa': '46.6551582148174% of null values',\n",
              " 'numero_meses': '57.20122897595895% of null values',\n",
              " 'numero_personas': '0.0% of null values',\n",
              " 'oficio_princ': '0.0% of null values',\n",
              " 'orden': '0.0% of null values',\n",
              " 'rama_princ': '0.0% of null values',\n",
              " 'secuencia_p': '0.0% of null values',\n",
              " 'trabajo_dia': '0.0% of null values'}"
            ]
          },
          "metadata": {
            "tags": []
          },
          "execution_count": 30
        }
      ]
    },
    {
      "cell_type": "markdown",
      "metadata": {
        "id": "9HA5cQIi7yNg",
        "colab_type": "text"
      },
      "source": [
        "### **3.4 Análisis de variables restantes**\n",
        "- Para el dataset de condiciones voy a usar las variables \"estrato\", \"acueducto\", \"region\", \"alcantarillado\" y \"gas_natural_dom\" para analizar las regiones y los estratos que cuentan con los servicios ya nombrados."
      ]
    },
    {
      "cell_type": "code",
      "metadata": {
        "id": "_BpoFW2q3wPD",
        "colab_type": "code",
        "colab": {
          "base_uri": "https://localhost:8080/",
          "height": 204
        },
        "outputId": "335f9ff1-5b8d-4c94-c885-b522a2561d00"
      },
      "source": [
        "data_condiciones.head()"
      ],
      "execution_count": 29,
      "outputs": [
        {
          "output_type": "execute_result",
          "data": {
            "text/html": [
              "<div>\n",
              "<style scoped>\n",
              "    .dataframe tbody tr th:only-of-type {\n",
              "        vertical-align: middle;\n",
              "    }\n",
              "\n",
              "    .dataframe tbody tr th {\n",
              "        vertical-align: top;\n",
              "    }\n",
              "\n",
              "    .dataframe thead th {\n",
              "        text-align: right;\n",
              "    }\n",
              "</style>\n",
              "<table border=\"1\" class=\"dataframe\">\n",
              "  <thead>\n",
              "    <tr style=\"text-align: right;\">\n",
              "      <th></th>\n",
              "      <th>directorio</th>\n",
              "      <th>factores_expansion</th>\n",
              "      <th>region</th>\n",
              "      <th>dia_referencia</th>\n",
              "      <th>clase</th>\n",
              "      <th>tipo_vivienda</th>\n",
              "      <th>energia_electrica</th>\n",
              "      <th>estrato</th>\n",
              "      <th>acueducto</th>\n",
              "      <th>alcantarillado</th>\n",
              "      <th>recoleccion_basuras</th>\n",
              "      <th>dias_x_semana</th>\n",
              "      <th>gas_natural_dom</th>\n",
              "      <th>material_pisos</th>\n",
              "    </tr>\n",
              "  </thead>\n",
              "  <tbody>\n",
              "    <tr>\n",
              "      <th>0</th>\n",
              "      <td>2915591.0</td>\n",
              "      <td>463.993402</td>\n",
              "      <td>Central</td>\n",
              "      <td>Domingo</td>\n",
              "      <td>Cabecera</td>\n",
              "      <td>Casa</td>\n",
              "      <td>Sí</td>\n",
              "      <td>3.0</td>\n",
              "      <td>Sí</td>\n",
              "      <td>Sí</td>\n",
              "      <td>Sí</td>\n",
              "      <td>3.0</td>\n",
              "      <td>Sí</td>\n",
              "      <td>Cemento, gravilla</td>\n",
              "    </tr>\n",
              "    <tr>\n",
              "      <th>1</th>\n",
              "      <td>2915592.0</td>\n",
              "      <td>93.084381</td>\n",
              "      <td>Pacífica</td>\n",
              "      <td>Miércoles</td>\n",
              "      <td>Cabecera</td>\n",
              "      <td>Casa</td>\n",
              "      <td>Sí</td>\n",
              "      <td>1.0</td>\n",
              "      <td>No</td>\n",
              "      <td>No</td>\n",
              "      <td>Sí</td>\n",
              "      <td>3.0</td>\n",
              "      <td>No</td>\n",
              "      <td>Baldosa, cerámica, laminado</td>\n",
              "    </tr>\n",
              "    <tr>\n",
              "      <th>2</th>\n",
              "      <td>2915593.0</td>\n",
              "      <td>516.279638</td>\n",
              "      <td>Central</td>\n",
              "      <td>Domingo</td>\n",
              "      <td>Cabecera</td>\n",
              "      <td>Casa</td>\n",
              "      <td>Sí</td>\n",
              "      <td>1.0</td>\n",
              "      <td>Sí</td>\n",
              "      <td>Sí</td>\n",
              "      <td>Sí</td>\n",
              "      <td>3.0</td>\n",
              "      <td>Sí</td>\n",
              "      <td>Baldosa, cerámica, laminado</td>\n",
              "    </tr>\n",
              "    <tr>\n",
              "      <th>3</th>\n",
              "      <td>2915594.0</td>\n",
              "      <td>655.671443</td>\n",
              "      <td>Central</td>\n",
              "      <td>Domingo</td>\n",
              "      <td>Cabecera</td>\n",
              "      <td>Apartamento</td>\n",
              "      <td>Sí</td>\n",
              "      <td>1.0</td>\n",
              "      <td>Sí</td>\n",
              "      <td>Sí</td>\n",
              "      <td>Sí</td>\n",
              "      <td>3.0</td>\n",
              "      <td>Sí</td>\n",
              "      <td>Cemento, gravilla</td>\n",
              "    </tr>\n",
              "    <tr>\n",
              "      <th>4</th>\n",
              "      <td>2915595.0</td>\n",
              "      <td>326.783507</td>\n",
              "      <td>Central</td>\n",
              "      <td>Lunes</td>\n",
              "      <td>Cabecera</td>\n",
              "      <td>Apartamento</td>\n",
              "      <td>Sí</td>\n",
              "      <td>1.0</td>\n",
              "      <td>Sí</td>\n",
              "      <td>Sí</td>\n",
              "      <td>Sí</td>\n",
              "      <td>3.0</td>\n",
              "      <td>Sí</td>\n",
              "      <td>Baldosa, cerámica, laminado</td>\n",
              "    </tr>\n",
              "  </tbody>\n",
              "</table>\n",
              "</div>"
            ],
            "text/plain": [
              "   directorio  factores_expansion  ... gas_natural_dom               material_pisos\n",
              "0   2915591.0          463.993402  ...              Sí            Cemento, gravilla\n",
              "1   2915592.0           93.084381  ...              No  Baldosa, cerámica, laminado\n",
              "2   2915593.0          516.279638  ...              Sí  Baldosa, cerámica, laminado\n",
              "3   2915594.0          655.671443  ...              Sí            Cemento, gravilla\n",
              "4   2915595.0          326.783507  ...              Sí  Baldosa, cerámica, laminado\n",
              "\n",
              "[5 rows x 14 columns]"
            ]
          },
          "metadata": {
            "tags": []
          },
          "execution_count": 29
        }
      ]
    },
    {
      "cell_type": "code",
      "metadata": {
        "id": "QnOebKgBobEA",
        "colab_type": "code",
        "colab": {}
      },
      "source": [
        "data_condiciones = data_condiciones.query(\"estrato!=9\")"
      ],
      "execution_count": 50,
      "outputs": []
    },
    {
      "cell_type": "code",
      "metadata": {
        "id": "5Vr7uocYpPqL",
        "colab_type": "code",
        "colab": {
          "base_uri": "https://localhost:8080/",
          "height": 34
        },
        "outputId": "6c366b83-0646-4844-c769-12ae753c5384"
      },
      "source": [
        "data_condiciones[\"estrato\"].unique()"
      ],
      "execution_count": 51,
      "outputs": [
        {
          "output_type": "execute_result",
          "data": {
            "text/plain": [
              "array([ 3.,  1.,  2.,  4.,  0., nan,  5.,  6.])"
            ]
          },
          "metadata": {
            "tags": []
          },
          "execution_count": 51
        }
      ]
    },
    {
      "cell_type": "code",
      "metadata": {
        "id": "9CXVN1NLpgyB",
        "colab_type": "code",
        "colab": {
          "base_uri": "https://localhost:8080/",
          "height": 51
        },
        "outputId": "1c75bb74-c664-4bf4-b30f-97b73880b901"
      },
      "source": [
        "data_condiciones[\"region\"].unique()"
      ],
      "execution_count": 52,
      "outputs": [
        {
          "output_type": "execute_result",
          "data": {
            "text/plain": [
              "[Central, Pacífica, Oriental, Atlántica, San Andrés, Bogotá]\n",
              "Categories (6, object): [Central, Pacífica, Oriental, Atlántica, San Andrés, Bogotá]"
            ]
          },
          "metadata": {
            "tags": []
          },
          "execution_count": 52
        }
      ]
    },
    {
      "cell_type": "code",
      "metadata": {
        "id": "-2-73yM6pxzv",
        "colab_type": "code",
        "colab": {
          "base_uri": "https://localhost:8080/",
          "height": 51
        },
        "outputId": "43de4a27-738d-43bf-a789-1226c60651bf"
      },
      "source": [
        "data_condiciones[\"acueducto\"].unique()"
      ],
      "execution_count": 53,
      "outputs": [
        {
          "output_type": "execute_result",
          "data": {
            "text/plain": [
              "[Sí, No]\n",
              "Categories (2, object): [Sí, No]"
            ]
          },
          "metadata": {
            "tags": []
          },
          "execution_count": 53
        }
      ]
    },
    {
      "cell_type": "code",
      "metadata": {
        "id": "tlRGNnM8p3Tf",
        "colab_type": "code",
        "colab": {
          "base_uri": "https://localhost:8080/",
          "height": 51
        },
        "outputId": "4d22a5d9-45ba-4654-8419-d35b3bfbe930"
      },
      "source": [
        "data_condiciones[\"alcantarillado\"].unique()"
      ],
      "execution_count": 54,
      "outputs": [
        {
          "output_type": "execute_result",
          "data": {
            "text/plain": [
              "[Sí, No]\n",
              "Categories (2, object): [Sí, No]"
            ]
          },
          "metadata": {
            "tags": []
          },
          "execution_count": 54
        }
      ]
    },
    {
      "cell_type": "code",
      "metadata": {
        "id": "sa97Xrx1p6h8",
        "colab_type": "code",
        "colab": {
          "base_uri": "https://localhost:8080/",
          "height": 51
        },
        "outputId": "b936fd17-b615-4f57-9703-305af70c6e64"
      },
      "source": [
        "data_condiciones[\"gas_natural_dom\"].unique()"
      ],
      "execution_count": 55,
      "outputs": [
        {
          "output_type": "execute_result",
          "data": {
            "text/plain": [
              "[Sí, No]\n",
              "Categories (2, object): [Sí, No]"
            ]
          },
          "metadata": {
            "tags": []
          },
          "execution_count": 55
        }
      ]
    },
    {
      "cell_type": "markdown",
      "metadata": {
        "id": "3Tg0Yw05qANj",
        "colab_type": "text"
      },
      "source": [
        "- Del dataset de fuerza de trabajo voy a utilizar las columnas horas por semana, contrato y trabajo secundario"
      ]
    },
    {
      "cell_type": "code",
      "metadata": {
        "id": "UfntmXL0p9-S",
        "colab_type": "code",
        "colab": {
          "base_uri": "https://localhost:8080/",
          "height": 343
        },
        "outputId": "403abee1-5218-4d75-daa2-9973d659cf0f"
      },
      "source": [
        "data_fuerza.head()"
      ],
      "execution_count": 56,
      "outputs": [
        {
          "output_type": "execute_result",
          "data": {
            "text/html": [
              "<div>\n",
              "<style scoped>\n",
              "    .dataframe tbody tr th:only-of-type {\n",
              "        vertical-align: middle;\n",
              "    }\n",
              "\n",
              "    .dataframe tbody tr th {\n",
              "        vertical-align: top;\n",
              "    }\n",
              "\n",
              "    .dataframe thead th {\n",
              "        text-align: right;\n",
              "    }\n",
              "</style>\n",
              "<table border=\"1\" class=\"dataframe\">\n",
              "  <thead>\n",
              "    <tr style=\"text-align: right;\">\n",
              "      <th></th>\n",
              "      <th>directorio</th>\n",
              "      <th>secuencia_p</th>\n",
              "      <th>orden</th>\n",
              "      <th>oficio_princ</th>\n",
              "      <th>rama_princ</th>\n",
              "      <th>lugar_trabajo</th>\n",
              "      <th>contrato</th>\n",
              "      <th>misma_empresa</th>\n",
              "      <th>horas_semana</th>\n",
              "      <th>trabajo_dia</th>\n",
              "      <th>horas_trabajo</th>\n",
              "      <th>minutos_trabajo</th>\n",
              "      <th>horas_ida</th>\n",
              "      <th>minutos_ida</th>\n",
              "      <th>este_trabajo</th>\n",
              "      <th>ganancias_mes_pasado</th>\n",
              "      <th>ganancia_neta_mes_pasado</th>\n",
              "      <th>numero_meses</th>\n",
              "      <th>cantidad_tiempo</th>\n",
              "      <th>numero_personas</th>\n",
              "      <th>empleo_secundario</th>\n",
              "      <th>ganancia_jubilacion</th>\n",
              "      <th>ganancia_arriendo</th>\n",
              "      <th>ganancia_ayudas</th>\n",
              "    </tr>\n",
              "  </thead>\n",
              "  <tbody>\n",
              "    <tr>\n",
              "      <th>0</th>\n",
              "      <td>2915591.0</td>\n",
              "      <td>1.0</td>\n",
              "      <td>1.0</td>\n",
              "      <td>53</td>\n",
              "      <td>5529</td>\n",
              "      <td>En esta vivienda</td>\n",
              "      <td>No.</td>\n",
              "      <td>NaN</td>\n",
              "      <td>4.0</td>\n",
              "      <td>Sí</td>\n",
              "      <td>4.0</td>\n",
              "      <td>0.0</td>\n",
              "      <td>0.0</td>\n",
              "      <td>0.0</td>\n",
              "      <td>Trabajador por cuenta propia</td>\n",
              "      <td>NaN</td>\n",
              "      <td>90000.0</td>\n",
              "      <td>1.0</td>\n",
              "      <td>12.0</td>\n",
              "      <td>Trabaja solo</td>\n",
              "      <td>No</td>\n",
              "      <td>No</td>\n",
              "      <td>No.</td>\n",
              "      <td>No.</td>\n",
              "    </tr>\n",
              "    <tr>\n",
              "      <th>1</th>\n",
              "      <td>2915592.0</td>\n",
              "      <td>1.0</td>\n",
              "      <td>1.0</td>\n",
              "      <td>62</td>\n",
              "      <td>113</td>\n",
              "      <td>En el campo o área rural, mar o río</td>\n",
              "      <td>No.</td>\n",
              "      <td>NaN</td>\n",
              "      <td>12.0</td>\n",
              "      <td>No.</td>\n",
              "      <td>NaN</td>\n",
              "      <td>NaN</td>\n",
              "      <td>NaN</td>\n",
              "      <td>NaN</td>\n",
              "      <td>Trabajador de su propia finca o de finca en ar...</td>\n",
              "      <td>NaN</td>\n",
              "      <td>300000.0</td>\n",
              "      <td>1.0</td>\n",
              "      <td>96.0</td>\n",
              "      <td>2 a 4 personas</td>\n",
              "      <td>No</td>\n",
              "      <td>Sí</td>\n",
              "      <td>No.</td>\n",
              "      <td>No.</td>\n",
              "    </tr>\n",
              "    <tr>\n",
              "      <th>2</th>\n",
              "      <td>2915593.0</td>\n",
              "      <td>1.0</td>\n",
              "      <td>1.0</td>\n",
              "      <td>79</td>\n",
              "      <td>1810</td>\n",
              "      <td>En esta vivienda</td>\n",
              "      <td>No.</td>\n",
              "      <td>NaN</td>\n",
              "      <td>30.0</td>\n",
              "      <td>No.</td>\n",
              "      <td>NaN</td>\n",
              "      <td>NaN</td>\n",
              "      <td>NaN</td>\n",
              "      <td>NaN</td>\n",
              "      <td>Trabajador por cuenta propia</td>\n",
              "      <td>NaN</td>\n",
              "      <td>200000.0</td>\n",
              "      <td>1.0</td>\n",
              "      <td>84.0</td>\n",
              "      <td>Trabaja solo</td>\n",
              "      <td>No</td>\n",
              "      <td>Sí</td>\n",
              "      <td>No.</td>\n",
              "      <td>Sí</td>\n",
              "    </tr>\n",
              "    <tr>\n",
              "      <th>4</th>\n",
              "      <td>2915594.0</td>\n",
              "      <td>1.0</td>\n",
              "      <td>1.0</td>\n",
              "      <td>85</td>\n",
              "      <td>5272</td>\n",
              "      <td>Local fijo, oficina, fábrica, etc.</td>\n",
              "      <td>No.</td>\n",
              "      <td>NaN</td>\n",
              "      <td>25.0</td>\n",
              "      <td>No.</td>\n",
              "      <td>NaN</td>\n",
              "      <td>NaN</td>\n",
              "      <td>NaN</td>\n",
              "      <td>NaN</td>\n",
              "      <td>Trabajador por cuenta propia</td>\n",
              "      <td>NaN</td>\n",
              "      <td>200000.0</td>\n",
              "      <td>1.0</td>\n",
              "      <td>300.0</td>\n",
              "      <td>2 a 4 personas</td>\n",
              "      <td>Sí</td>\n",
              "      <td>No</td>\n",
              "      <td>No.</td>\n",
              "      <td>No.</td>\n",
              "    </tr>\n",
              "    <tr>\n",
              "      <th>5</th>\n",
              "      <td>2915594.0</td>\n",
              "      <td>1.0</td>\n",
              "      <td>2.0</td>\n",
              "      <td>77</td>\n",
              "      <td>1551</td>\n",
              "      <td>En esta vivienda</td>\n",
              "      <td>No.</td>\n",
              "      <td>NaN</td>\n",
              "      <td>20.0</td>\n",
              "      <td>No.</td>\n",
              "      <td>NaN</td>\n",
              "      <td>NaN</td>\n",
              "      <td>NaN</td>\n",
              "      <td>NaN</td>\n",
              "      <td>Trabajador por cuenta propia</td>\n",
              "      <td>NaN</td>\n",
              "      <td>300000.0</td>\n",
              "      <td>1.0</td>\n",
              "      <td>72.0</td>\n",
              "      <td>2 a 4 personas</td>\n",
              "      <td>No</td>\n",
              "      <td>No</td>\n",
              "      <td>No.</td>\n",
              "      <td>Sí</td>\n",
              "    </tr>\n",
              "  </tbody>\n",
              "</table>\n",
              "</div>"
            ],
            "text/plain": [
              "   directorio  secuencia_p  ...  ganancia_arriendo ganancia_ayudas\n",
              "0   2915591.0          1.0  ...                No.             No.\n",
              "1   2915592.0          1.0  ...                No.             No.\n",
              "2   2915593.0          1.0  ...                No.              Sí\n",
              "4   2915594.0          1.0  ...                No.             No.\n",
              "5   2915594.0          1.0  ...                No.              Sí\n",
              "\n",
              "[5 rows x 24 columns]"
            ]
          },
          "metadata": {
            "tags": []
          },
          "execution_count": 56
        }
      ]
    },
    {
      "cell_type": "code",
      "metadata": {
        "id": "dJqLVKh_q4EH",
        "colab_type": "code",
        "colab": {
          "base_uri": "https://localhost:8080/",
          "height": 51
        },
        "outputId": "75d87a2a-01c1-4e63-dd44-15c028663e4a"
      },
      "source": [
        "data_fuerza[\"contrato\"].unique()"
      ],
      "execution_count": 57,
      "outputs": [
        {
          "output_type": "execute_result",
          "data": {
            "text/plain": [
              "[No., Sí]\n",
              "Categories (2, object): [No., Sí]"
            ]
          },
          "metadata": {
            "tags": []
          },
          "execution_count": 57
        }
      ]
    },
    {
      "cell_type": "code",
      "metadata": {
        "id": "KGwhD_Byq7Pr",
        "colab_type": "code",
        "colab": {
          "base_uri": "https://localhost:8080/",
          "height": 221
        },
        "outputId": "9f9c435d-d78f-4d95-8d81-e67028876662"
      },
      "source": [
        "data_fuerza[\"horas_semana\"].unique()"
      ],
      "execution_count": 58,
      "outputs": [
        {
          "output_type": "execute_result",
          "data": {
            "text/plain": [
              "array([  4.,  12.,  30.,  25.,  20.,  45.,  48.,  40.,  75.,  50.,  70.,\n",
              "         8.,  54.,  36.,  44.,   6.,  21.,  84.,  14.,  10.,  28.,  56.,\n",
              "         9.,  18.,  55.,  96.,  42.,  60.,  35., 100.,  72.,  98.,  80.,\n",
              "        11.,  24.,  49.,  77.,  27.,  46.,  63.,  32.,  64.,  31., 105.,\n",
              "        37.,   3.,  16.,  15.,  71.,  59., 126.,  58.,   5.,   7.,  33.,\n",
              "         1., 112.,   2.,  66.,  38.,  52.,  68.,  85.,  78.,  22.,  76.,\n",
              "        90.,  53.,  83.,  86., 140.,  43.,  67.,  39.,  65.,  17.,  62.,\n",
              "        92.,  41., 119.,  23.,  95.,  79.,  91., 110., 108.,  51.,  73.,\n",
              "        47.,  13.,  89., 120., 107.,  19.,  82.,  57.,  97.,  94.,  87.,\n",
              "        61., 114., 133.,  81.,  74.,  29.,  26., 102.,  34., 104.,  69.,\n",
              "        88., 115., 118., 116.,  93., 132., 117., 101., 136., 103., 127.,\n",
              "       123., 106., 125., 109., 128., 113.,  99., 130.])"
            ]
          },
          "metadata": {
            "tags": []
          },
          "execution_count": 58
        }
      ]
    },
    {
      "cell_type": "code",
      "metadata": {
        "id": "PBX6h6nnq-VQ",
        "colab_type": "code",
        "colab": {
          "base_uri": "https://localhost:8080/",
          "height": 51
        },
        "outputId": "0c936ae1-5b5a-4237-9118-138a1e3784c1"
      },
      "source": [
        "data_fuerza[\"empleo_secundario\"].unique()"
      ],
      "execution_count": 59,
      "outputs": [
        {
          "output_type": "execute_result",
          "data": {
            "text/plain": [
              "[No, Sí]\n",
              "Categories (2, object): [No, Sí]"
            ]
          },
          "metadata": {
            "tags": []
          },
          "execution_count": 59
        }
      ]
    },
    {
      "cell_type": "markdown",
      "metadata": {
        "id": "Afq1uYqzrgVy",
        "colab_type": "text"
      },
      "source": [
        "## **4. Adquisición del tercer dataset**"
      ]
    },
    {
      "cell_type": "code",
      "metadata": {
        "id": "zp7W_Q5jrWhD",
        "colab_type": "code",
        "colab": {}
      },
      "source": [
        "data_composicion = pd.read_spss(\"composicion_hogar.sav\")"
      ],
      "execution_count": 60,
      "outputs": []
    },
    {
      "cell_type": "code",
      "metadata": {
        "id": "rei2eMUCrm5e",
        "colab_type": "code",
        "colab": {
          "base_uri": "https://localhost:8080/",
          "height": 289
        },
        "outputId": "454ea119-0f4b-4369-ed01-4ae8b87d18d4"
      },
      "source": [
        "data_composicion.head()"
      ],
      "execution_count": 61,
      "outputs": [
        {
          "output_type": "execute_result",
          "data": {
            "text/html": [
              "<div>\n",
              "<style scoped>\n",
              "    .dataframe tbody tr th:only-of-type {\n",
              "        vertical-align: middle;\n",
              "    }\n",
              "\n",
              "    .dataframe tbody tr th {\n",
              "        vertical-align: top;\n",
              "    }\n",
              "\n",
              "    .dataframe thead th {\n",
              "        text-align: right;\n",
              "    }\n",
              "</style>\n",
              "<table border=\"1\" class=\"dataframe\">\n",
              "  <thead>\n",
              "    <tr style=\"text-align: right;\">\n",
              "      <th></th>\n",
              "      <th>DIRECTORIO</th>\n",
              "      <th>SECUENCIA_P</th>\n",
              "      <th>ORDEN</th>\n",
              "      <th>P6040</th>\n",
              "      <th>P6020</th>\n",
              "      <th>P425</th>\n",
              "      <th>P1174</th>\n",
              "      <th>P1174S1</th>\n",
              "      <th>P1174S1A1</th>\n",
              "      <th>P1174S2</th>\n",
              "      <th>P1174S2A1</th>\n",
              "      <th>P1174S3</th>\n",
              "      <th>P1174S3A1</th>\n",
              "      <th>P1173</th>\n",
              "      <th>P426</th>\n",
              "      <th>P1172</th>\n",
              "      <th>P1172S1</th>\n",
              "      <th>P5762</th>\n",
              "      <th>P5762S2</th>\n",
              "      <th>P5754</th>\n",
              "      <th>P5754S2</th>\n",
              "    </tr>\n",
              "  </thead>\n",
              "  <tbody>\n",
              "    <tr>\n",
              "      <th>0</th>\n",
              "      <td>2915591.0</td>\n",
              "      <td>1.0</td>\n",
              "      <td>1.0</td>\n",
              "      <td>51.0</td>\n",
              "      <td>Mujer</td>\n",
              "      <td>Jefe(a) del hogar</td>\n",
              "      <td>NaN</td>\n",
              "      <td>NaN</td>\n",
              "      <td>NaN</td>\n",
              "      <td>NaN</td>\n",
              "      <td>NaN</td>\n",
              "      <td>NaN</td>\n",
              "      <td>NaN</td>\n",
              "      <td>Ninguno de los anteriores</td>\n",
              "      <td>Está separado(a) o divorciado(a)</td>\n",
              "      <td>NaN</td>\n",
              "      <td>NaN</td>\n",
              "      <td>No</td>\n",
              "      <td>NaN</td>\n",
              "      <td>No</td>\n",
              "      <td>NaN</td>\n",
              "    </tr>\n",
              "    <tr>\n",
              "      <th>1</th>\n",
              "      <td>2915592.0</td>\n",
              "      <td>1.0</td>\n",
              "      <td>1.0</td>\n",
              "      <td>63.0</td>\n",
              "      <td>Mujer</td>\n",
              "      <td>Jefe(a) del hogar</td>\n",
              "      <td>NaN</td>\n",
              "      <td>NaN</td>\n",
              "      <td>NaN</td>\n",
              "      <td>NaN</td>\n",
              "      <td>NaN</td>\n",
              "      <td>NaN</td>\n",
              "      <td>NaN</td>\n",
              "      <td>Negro, mulato (afrodescendiente)</td>\n",
              "      <td>Está separado(a) o divorciado(a)</td>\n",
              "      <td>NaN</td>\n",
              "      <td>NaN</td>\n",
              "      <td>No</td>\n",
              "      <td>NaN</td>\n",
              "      <td>No</td>\n",
              "      <td>NaN</td>\n",
              "    </tr>\n",
              "    <tr>\n",
              "      <th>2</th>\n",
              "      <td>2915593.0</td>\n",
              "      <td>1.0</td>\n",
              "      <td>1.0</td>\n",
              "      <td>38.0</td>\n",
              "      <td>Mujer</td>\n",
              "      <td>Jefe(a) del hogar</td>\n",
              "      <td>No</td>\n",
              "      <td>NaN</td>\n",
              "      <td>NaN</td>\n",
              "      <td>NaN</td>\n",
              "      <td>NaN</td>\n",
              "      <td>NaN</td>\n",
              "      <td>NaN</td>\n",
              "      <td>Ninguno de los anteriores</td>\n",
              "      <td>Está separado(a) o divorciado(a)</td>\n",
              "      <td>NaN</td>\n",
              "      <td>NaN</td>\n",
              "      <td>No</td>\n",
              "      <td>NaN</td>\n",
              "      <td>No</td>\n",
              "      <td>NaN</td>\n",
              "    </tr>\n",
              "    <tr>\n",
              "      <th>3</th>\n",
              "      <td>2915593.0</td>\n",
              "      <td>1.0</td>\n",
              "      <td>2.0</td>\n",
              "      <td>15.0</td>\n",
              "      <td>Mujer</td>\n",
              "      <td>Hijo(a), Hijastro(a)</td>\n",
              "      <td>NaN</td>\n",
              "      <td>NaN</td>\n",
              "      <td>NaN</td>\n",
              "      <td>NaN</td>\n",
              "      <td>NaN</td>\n",
              "      <td>NaN</td>\n",
              "      <td>NaN</td>\n",
              "      <td>Ninguno de los anteriores</td>\n",
              "      <td>Está soltero(a)</td>\n",
              "      <td>NaN</td>\n",
              "      <td>NaN</td>\n",
              "      <td>Sí</td>\n",
              "      <td>1.0</td>\n",
              "      <td>No</td>\n",
              "      <td>NaN</td>\n",
              "    </tr>\n",
              "    <tr>\n",
              "      <th>4</th>\n",
              "      <td>2915593.0</td>\n",
              "      <td>1.0</td>\n",
              "      <td>3.0</td>\n",
              "      <td>7.0</td>\n",
              "      <td>Mujer</td>\n",
              "      <td>Hijo(a), Hijastro(a)</td>\n",
              "      <td>NaN</td>\n",
              "      <td>NaN</td>\n",
              "      <td>NaN</td>\n",
              "      <td>NaN</td>\n",
              "      <td>NaN</td>\n",
              "      <td>NaN</td>\n",
              "      <td>NaN</td>\n",
              "      <td>Ninguno de los anteriores</td>\n",
              "      <td>NaN</td>\n",
              "      <td>NaN</td>\n",
              "      <td>NaN</td>\n",
              "      <td>Sí</td>\n",
              "      <td>1.0</td>\n",
              "      <td>No</td>\n",
              "      <td>NaN</td>\n",
              "    </tr>\n",
              "  </tbody>\n",
              "</table>\n",
              "</div>"
            ],
            "text/plain": [
              "   DIRECTORIO  SECUENCIA_P  ORDEN  P6040  ... P5762 P5762S2 P5754 P5754S2\n",
              "0   2915591.0          1.0    1.0   51.0  ...    No     NaN    No     NaN\n",
              "1   2915592.0          1.0    1.0   63.0  ...    No     NaN    No     NaN\n",
              "2   2915593.0          1.0    1.0   38.0  ...    No     NaN    No     NaN\n",
              "3   2915593.0          1.0    2.0   15.0  ...    Sí     1.0    No     NaN\n",
              "4   2915593.0          1.0    3.0    7.0  ...    Sí     1.0    No     NaN\n",
              "\n",
              "[5 rows x 21 columns]"
            ]
          },
          "metadata": {
            "tags": []
          },
          "execution_count": 61
        }
      ]
    },
    {
      "cell_type": "code",
      "metadata": {
        "id": "zSDOuKrJroAn",
        "colab_type": "code",
        "colab": {}
      },
      "source": [
        "composicion_null = null_percentage(data_composicion, int_mode=True)"
      ],
      "execution_count": 63,
      "outputs": []
    },
    {
      "cell_type": "code",
      "metadata": {
        "id": "6SoLz0KMryAN",
        "colab_type": "code",
        "colab": {}
      },
      "source": [
        "drop_null_column(data_composicion, composicion_null, drop_perc=85)"
      ],
      "execution_count": 67,
      "outputs": []
    },
    {
      "cell_type": "code",
      "metadata": {
        "id": "J3onWa7OsAGd",
        "colab_type": "code",
        "colab": {
          "base_uri": "https://localhost:8080/",
          "height": 272
        },
        "outputId": "30fe74de-6f3a-41d7-af94-25c0366637c5"
      },
      "source": [
        "null_percentage(data_composicion)"
      ],
      "execution_count": 71,
      "outputs": [
        {
          "output_type": "execute_result",
          "data": {
            "text/plain": [
              "{'DIRECTORIO': '0.0% of null values',\n",
              " 'ORDEN': '0.0% of null values',\n",
              " 'P1172': '61.63227648627535% of null values',\n",
              " 'P1172S1': '63.685585755461574% of null values',\n",
              " 'P1173': '0.0% of null values',\n",
              " 'P1174': '74.51377852005496% of null values',\n",
              " 'P425': '0.0% of null values',\n",
              " 'P426': '20.26439134768203% of null values',\n",
              " 'P5754': '0.0% of null values',\n",
              " 'P5754S2': '73.66524795948604% of null values',\n",
              " 'P5762': '0.0% of null values',\n",
              " 'P5762S2': '56.36330576731407% of null values',\n",
              " 'P6020': '0.0% of null values',\n",
              " 'P6040': '0.0% of null values',\n",
              " 'SECUENCIA_P': '0.0% of null values'}"
            ]
          },
          "metadata": {
            "tags": []
          },
          "execution_count": 71
        }
      ]
    },
    {
      "cell_type": "code",
      "metadata": {
        "id": "eZwb7erOsFVh",
        "colab_type": "code",
        "colab": {}
      },
      "source": [
        "data_composicion.dropna(thresh=10, inplace=True)"
      ],
      "execution_count": 75,
      "outputs": []
    },
    {
      "cell_type": "code",
      "metadata": {
        "id": "r3I97vLosqae",
        "colab_type": "code",
        "colab": {}
      },
      "source": [
        ""
      ],
      "execution_count": null,
      "outputs": []
    }
  ]
}