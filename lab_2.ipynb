{
  "nbformat": 4,
  "nbformat_minor": 0,
  "metadata": {
    "colab": {
      "name": "lab_2.ipynb",
      "provenance": []
    },
    "kernelspec": {
      "display_name": "Python 3",
      "language": "python",
      "name": "python3"
    },
    "language_info": {
      "codemirror_mode": {
        "name": "ipython",
        "version": 3
      },
      "file_extension": ".py",
      "mimetype": "text/x-python",
      "name": "python",
      "nbconvert_exporter": "python",
      "pygments_lexer": "ipython3",
      "version": "3.8.2"
    }
  },
  "cells": [
    {
      "cell_type": "markdown",
      "metadata": {
        "colab_type": "text",
        "id": "sjy_JbMNparJ"
      },
      "source": [
        "## **Bienvenido a la segunda práctica de Jupyter Notebook**\n",
        "\n",
        "<table align=\"left\">\n",
        "  <td>\n",
        "    <a target=\"_blank\" href=\"https://colab.research.google.com/github/jpcano1/MINE-4101-tareas/blob/master/lab_2.ipynb\"><img src=\"https://www.tensorflow.org/images/colab_logo_32px.png\"/>Run in Google Colab</a>\n",
        "  </td>\n",
        "</table>"
      ]
    },
    {
      "cell_type": "markdown",
      "metadata": {
        "id": "2ldzMrthb84e",
        "colab_type": "text"
      },
      "source": [
        "## **Preguntas**\n",
        "1. Descargue las bases de datos B.Condiciones de la vivienda y H.Fuerza de trabajo (uso del tiempo e ingresos) de la siguiente [página](http://microdatos.dane.gov.co/index.php/catalog/214/get_microdata).\n",
        "En esta misma página, en la pestaña “Descripción de variables” podrá encontrar una descripción detallada de las variables que contiene las dos bases de datos.\n",
        "2. Importe las dos bases de datos a Jupyter Notebook.\n",
        "3. Para cada uno de las bases de datos realice:\n",
        "    -  Realice un análisis del tipo de variables que contiene las bases de datos (si son cuantitativas o cualitativas), para esto, utilice la función `df.dtypes` (ver práctica 27 de agosto), si el tipo de un variable no es consistente, realizar la respectiva corrección.\n",
        "    - Realice un análisis de datos duplicados y tome una decisión con relación a estos (eliminarlos o no), justifique su respuesta.\n",
        "    - Determine el porcentaje de datos faltantes por cada una de las variables y tome una acción con relación a estos (eliminar las variables que tienen datos missing, eliminar los registros con datos missing, etc). Justifique su respuesta.\n",
        "    - Para cada una de las bases de datos, seleccione un conjunto de variables que usted considere de interés, realice un análisis sobre los posibles valores que pueden tener esta variable, para esto utilice la función `df.variable.unique()`, donde df es el nombre del dataframe que contiene una base de datos (ver práctica 3 de septiembre). Si en una variable contiene valores que no son lógicos  ¿qué acción realizaría sobre esta base de datos? Justifique su respuesta.\n",
        "\n",
        "4. De la misma página del punto 1, descargue un tercer conjunto de datos (cualquiera que sea interesante para usted) y replique los puntos 3.1, 3.2, y 3.3.\n",
        "5. Con las tres bases de datos obtenidas de los puntos 3 y 4, realice un tipo de JOIN (left, right, inner, etc), y a partir de esta base consolidada, realice un análisis muy general de las variables utilizando la función pandas profiling.\n",
        "6. ¿Qué tipo de restricciones legales pueden consideran pueden tener al momento de trabajar sobre estos datos?\n",
        "7. Plantear tres hipótesis de relevancia para el negocio a la luz del negocio."
      ]
    },
    {
      "cell_type": "markdown",
      "metadata": {
        "id": "kSwiUkMqZ7il",
        "colab_type": "text"
      },
      "source": [
        "## **1. Descarga de las bases de datos**"
      ]
    },
    {
      "cell_type": "code",
      "metadata": {
        "colab_type": "code",
        "id": "sS6Og0MUparM",
        "colab": {}
      },
      "source": [
        "!wget -q \"https://github.com/jpcano1/MINE-4101-tareas/blob/master/datasets/CAPITULO%20B.%20CONDICIONES%20DE%20LA%20VIVIENDA.txt?raw=true\" -O \"condiciones_vivienda.txt\"\n",
        "!wget -q \"https://github.com/jpcano1/MINE-4101-tareas/blob/master/datasets/CAPITULO%20H.%20FUERZA%20DE%20TRABAJO%20-%20Uso%20del%20tiempo%20e%20ingresos.txt?raw=true\" -O \"fuerza_trabajo.txt\"\n",
        "!wget -q \"https://github.com/jpcano1/MINE-4101-tareas/blob/master/datasets/CAPITULO%20D.%20COMPOSICION%20DEL%20HOGAR.txt?raw=true\" -O \"composicion_hogar.txt\""
      ],
      "execution_count": null,
      "outputs": []
    },
    {
      "cell_type": "code",
      "metadata": {
        "colab_type": "code",
        "id": "K2UBZuBPqFv3",
        "colab": {}
      },
      "source": [
        "import pandas as pd\n",
        "import numpy as np\n",
        "import matplotlib.pyplot as plt\n",
        "plt.style.use(\"ggplot\")\n",
        "import seaborn as sns"
      ],
      "execution_count": null,
      "outputs": []
    },
    {
      "cell_type": "code",
      "metadata": {
        "colab_type": "code",
        "id": "NgRxC8_lqbHj",
        "colab": {}
      },
      "source": [
        "data_condiciones = pd.read_table(\"condiciones_vivienda.txt\")\n",
        "data_fuerza = pd.read_table(\"fuerza_trabajo.txt\")"
      ],
      "execution_count": 3,
      "outputs": []
    },
    {
      "cell_type": "code",
      "metadata": {
        "colab_type": "code",
        "id": "DnnYaPInuFpP",
        "colab": {}
      },
      "source": [
        "columns_condiciones = {\n",
        "    \"FEX_C\": \"factores_expansion\",\n",
        "    \"P424\": \"tipo_vivienda\",\n",
        "    \"P4030S1\": \"energia_electrica\",\n",
        "    \"P4030S1A1\": \"estrato\",\n",
        "    \"P4030S5\": \"acueducto\",\n",
        "    \"P4030S3\": \"alcantarillado\",\n",
        "    \"P4030S4\": \"recoleccion_basuras\",\n",
        "    \"P4030S4A1\": \"dias_x_semana\",\n",
        "    \"P4030S2\": \"gas_natural_dom\",\n",
        "    \"P4020\": \"material_pisos\",\n",
        "    \"DIA_REFERENCIA_2\": \"dia_referencia\"\n",
        "}"
      ],
      "execution_count": 4,
      "outputs": []
    },
    {
      "cell_type": "code",
      "metadata": {
        "colab_type": "code",
        "id": "SciNTW80q-JQ",
        "colab": {}
      },
      "source": [
        "data_condiciones.rename(columns=columns_condiciones, inplace=True)\n",
        "data_condiciones.rename(columns=lambda x: x.lower(), inplace=True)"
      ],
      "execution_count": 5,
      "outputs": []
    },
    {
      "cell_type": "code",
      "metadata": {
        "colab_type": "code",
        "id": "xtd2oKmZxUEk",
        "colab": {}
      },
      "source": [
        "columns_fuerza_list = [\"oficio_princ\", \"rama_princ\", \n",
        "                       \"lugar_trabajo\", \"contrato\", \"misma_empresa\", \n",
        "                       \"horas_semana\", \"trabajo_dia\", \"horas_trabajo\", \n",
        "                       \"minutos_trabajo\",  \"total_ida\", \"horas_ida\", \n",
        "                       \"minutos_ida\",  \"motivo_no_trabajo\", \"este_trabajo\", \n",
        "                       \"ganancias_mes_pasado\", \"ganancia_neta_mes_pasado\", \n",
        "                       \"numero_meses\", \"cantidad_tiempo\", \"numero_personas\",\n",
        "                       \"empleo_secundario\", \"horas_semana_empleo_secundario\", \n",
        "                       \"trabajo_secundario_dia\", \"horas_trabajo_secundario\", \n",
        "                       \"minutos_trabajo_secundario\", \"ida_secundario_horas\", \n",
        "                       \"ida_secundario_minutos\",  \"ganancia_secundaria_mes_pasado\", \n",
        "                       \"ganancia_jubilacion\", \"valor_jubilacion\", \"ganancia_arriendo\",  \n",
        "                       \"valor_arriendo\",  \"ganancia_ayudas\", \"ayuda_provino_de\", \n",
        "                       \"valor_ayudas\"]"
      ],
      "execution_count": 6,
      "outputs": []
    },
    {
      "cell_type": "code",
      "metadata": {
        "colab_type": "code",
        "id": "DAEkCZj9vlSX",
        "colab": {}
      },
      "source": [
        "index = 0\n",
        "columns_fuerza = {}\n",
        "for col in data_fuerza.columns[3:]:\n",
        "    columns_fuerza[col] = columns_fuerza_list[index]\n",
        "    index += 1"
      ],
      "execution_count": 7,
      "outputs": []
    },
    {
      "cell_type": "code",
      "metadata": {
        "colab_type": "code",
        "id": "xk_Ko08XDCp1",
        "colab": {}
      },
      "source": [
        "columns_fuerza"
      ],
      "execution_count": null,
      "outputs": []
    },
    {
      "cell_type": "code",
      "metadata": {
        "colab_type": "code",
        "id": "dqteyimgEdi-",
        "colab": {}
      },
      "source": [
        "data_fuerza.rename(columns=columns_fuerza, inplace=True)\n",
        "data_fuerza.rename(columns=lambda x: x.lower(), inplace=True)"
      ],
      "execution_count": 10,
      "outputs": []
    },
    {
      "cell_type": "code",
      "metadata": {
        "id": "LxpjLeeeZhCs",
        "colab_type": "code",
        "colab": {}
      },
      "source": [
        ""
      ],
      "execution_count": null,
      "outputs": []
    }
  ]
}