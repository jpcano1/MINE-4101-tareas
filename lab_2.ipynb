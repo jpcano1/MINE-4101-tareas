{
  "nbformat": 4,
  "nbformat_minor": 0,
  "metadata": {
    "colab": {
      "name": "lab_2.ipynb",
      "provenance": []
    },
    "kernelspec": {
      "display_name": "Python 3",
      "language": "python",
      "name": "python3"
    },
    "language_info": {
      "codemirror_mode": {
        "name": "ipython",
        "version": 3
      },
      "file_extension": ".py",
      "mimetype": "text/x-python",
      "name": "python",
      "nbconvert_exporter": "python",
      "pygments_lexer": "ipython3",
      "version": "3.8.2"
    }
  },
  "cells": [
    {
      "cell_type": "markdown",
      "metadata": {
        "colab_type": "text",
        "id": "sjy_JbMNparJ"
      },
      "source": [
        "## **Bienvenido a la segunda práctica de Jupyter Notebook**\n",
        "\n",
        "<table align=\"left\">\n",
        "  <td>\n",
        "    <a target=\"_blank\" href=\"https://colab.research.google.com/github/jpcano1/MINE-4101-tareas/blob/master/lab_2.ipynb\"><img src=\"https://www.tensorflow.org/images/colab_logo_32px.png\"/>Run in Google Colab</a>\n",
        "  </td>\n",
        "</table>"
      ]
    },
    {
      "cell_type": "markdown",
      "metadata": {
        "id": "2ldzMrthb84e",
        "colab_type": "text"
      },
      "source": [
        "## **Preguntas**\n",
        "1. Descargue las bases de datos B.Condiciones de la vivienda y H.Fuerza de trabajo (uso del tiempo e ingresos) de la siguiente [página](http://microdatos.dane.gov.co/index.php/catalog/214/get_microdata).\n",
        "En esta misma página, en la pestaña “Descripción de variables” podrá encontrar una descripción detallada de las variables que contiene las dos bases de datos.\n",
        "2. Importe las dos bases de datos a Jupyter Notebook.\n",
        "3. Para cada uno de las bases de datos realice:\n",
        "    -  Realice un análisis del tipo de variables que contiene las bases de datos (si son cuantitativas o cualitativas), para esto, utilice la función `df.dtypes` (ver práctica 27 de agosto), si el tipo de un variable no es consistente, realizar la respectiva corrección.\n",
        "    - Realice un análisis de datos duplicados y tome una decisión con relación a estos (eliminarlos o no), justifique su respuesta.\n",
        "    - Determine el porcentaje de datos faltantes por cada una de las variables y tome una acción con relación a estos (eliminar las variables que tienen datos missing, eliminar los registros con datos missing, etc). Justifique su respuesta.\n",
        "    - Para cada una de las bases de datos, seleccione un conjunto de variables que usted considere de interés, realice un análisis sobre los posibles valores que pueden tener esta variable, para esto utilice la función `df.variable.unique()`, donde df es el nombre del dataframe que contiene una base de datos (ver práctica 3 de septiembre). Si en una variable contiene valores que no son lógicos  ¿qué acción realizaría sobre esta base de datos? Justifique su respuesta.\n",
        "\n",
        "4. De la misma página del punto 1, descargue un tercer conjunto de datos (cualquiera que sea interesante para usted) y replique los puntos 3.1, 3.2, y 3.3.\n",
        "5. Con las tres bases de datos obtenidas de los puntos 3 y 4, realice un tipo de JOIN (left, right, inner, etc), y a partir de esta base consolidada, realice un análisis muy general de las variables utilizando la función pandas profiling.\n",
        "6. ¿Qué tipo de restricciones legales pueden consideran pueden tener al momento de trabajar sobre estos datos?\n",
        "7. Plantear tres hipótesis de relevancia para el negocio a la luz del negocio."
      ]
    },
    {
      "cell_type": "markdown",
      "metadata": {
        "id": "kSwiUkMqZ7il",
        "colab_type": "text"
      },
      "source": [
        "## **1. Descarga de las bases de datos**"
      ]
    },
    {
      "cell_type": "code",
      "metadata": {
        "colab_type": "code",
        "id": "sS6Og0MUparM",
        "colab": {}
      },
      "source": [
        "!wget -q \"https://github.com/jpcano1/MINE-4101-tareas/blob/master/datasets/CAPITULO%20B.%20CONDICIONES%20DE%20LA%20VIVIENDA.txt?raw=true\" -O \"condiciones_vivienda.txt\"\n",
        "!wget -q \"https://github.com/jpcano1/MINE-4101-tareas/blob/master/datasets/CAPITULO%20H.%20FUERZA%20DE%20TRABAJO%20-%20Uso%20del%20tiempo%20e%20ingresos.txt?raw=true\" -O \"fuerza_trabajo.txt\"\n",
        "!wget -q \"https://github.com/jpcano1/MINE-4101-tareas/blob/master/datasets/CAPITULO%20D.%20COMPOSICION%20DEL%20HOGAR.txt?raw=true\" -O \"composicion_hogar.txt\""
      ],
      "execution_count": 1,
      "outputs": []
    },
    {
      "cell_type": "code",
      "metadata": {
        "colab_type": "code",
        "id": "K2UBZuBPqFv3",
        "colab": {
          "base_uri": "https://localhost:8080/",
          "height": 51
        },
        "outputId": "a4c35aa0-2817-4ebc-d964-94dbb45d56da"
      },
      "source": [
        "import pandas as pd\n",
        "import numpy as np\n",
        "import matplotlib.pyplot as plt\n",
        "plt.style.use(\"ggplot\")\n",
        "import seaborn as sns"
      ],
      "execution_count": 2,
      "outputs": [
        {
          "output_type": "stream",
          "text": [
            "/usr/local/lib/python3.6/dist-packages/statsmodels/tools/_testing.py:19: FutureWarning: pandas.util.testing is deprecated. Use the functions in the public API at pandas.testing instead.\n",
            "  import pandas.util.testing as tm\n"
          ],
          "name": "stderr"
        }
      ]
    },
    {
      "cell_type": "markdown",
      "metadata": {
        "id": "Vz96XM0OofZd",
        "colab_type": "text"
      },
      "source": [
        "## **2. Importación de las bases de datos**"
      ]
    },
    {
      "cell_type": "code",
      "metadata": {
        "colab_type": "code",
        "id": "NgRxC8_lqbHj",
        "colab": {}
      },
      "source": [
        "data_condiciones = pd.read_table(\"condiciones_vivienda.txt\")\n",
        "data_fuerza = pd.read_table(\"fuerza_trabajo.txt\")"
      ],
      "execution_count": 3,
      "outputs": []
    },
    {
      "cell_type": "code",
      "metadata": {
        "colab_type": "code",
        "id": "DnnYaPInuFpP",
        "colab": {}
      },
      "source": [
        "columns_condiciones = {\n",
        "    \"FEX_C\": \"factores_expansion\",\n",
        "    \"P424\": \"tipo_vivienda\",\n",
        "    \"P4030S1\": \"energia_electrica\",\n",
        "    \"P4030S1A1\": \"estrato\",\n",
        "    \"P4030S5\": \"acueducto\",\n",
        "    \"P4030S3\": \"alcantarillado\",\n",
        "    \"P4030S4\": \"recoleccion_basuras\",\n",
        "    \"P4030S4A1\": \"dias_x_semana\",\n",
        "    \"P4030S2\": \"gas_natural_dom\",\n",
        "    \"P4020\": \"material_pisos\",\n",
        "    \"DIA_REFERENCIA_2\": \"dia_referencia\"\n",
        "}"
      ],
      "execution_count": 4,
      "outputs": []
    },
    {
      "cell_type": "code",
      "metadata": {
        "colab_type": "code",
        "id": "SciNTW80q-JQ",
        "colab": {}
      },
      "source": [
        "data_condiciones.rename(columns=columns_condiciones, inplace=True)\n",
        "data_condiciones.rename(columns=lambda x: x.lower(), inplace=True)"
      ],
      "execution_count": 5,
      "outputs": []
    },
    {
      "cell_type": "code",
      "metadata": {
        "colab_type": "code",
        "id": "xtd2oKmZxUEk",
        "colab": {}
      },
      "source": [
        "columns_fuerza_list = [\"oficio_princ\", \"rama_princ\", \n",
        "                       \"lugar_trabajo\", \"contrato\", \"misma_empresa\", \n",
        "                       \"horas_semana\", \"trabajo_dia\", \"horas_trabajo\", \n",
        "                       \"minutos_trabajo\",  \"total_ida\", \"horas_ida\", \n",
        "                       \"minutos_ida\",  \"motivo_no_trabajo\", \"este_trabajo\", \n",
        "                       \"ganancias_mes_pasado\", \"ganancia_neta_mes_pasado\", \n",
        "                       \"numero_meses\", \"cantidad_tiempo\", \"numero_personas\",\n",
        "                       \"empleo_secundario\", \"horas_semana_empleo_secundario\", \n",
        "                       \"trabajo_secundario_dia\", \"horas_trabajo_secundario\", \n",
        "                       \"minutos_trabajo_secundario\", \"ida_secundario_horas\", \n",
        "                       \"ida_secundario_minutos\",  \"ganancia_secundaria_mes_pasado\", \n",
        "                       \"ganancia_jubilacion\", \"valor_jubilacion\", \"ganancia_arriendo\",  \n",
        "                       \"valor_arriendo\",  \"ganancia_ayudas\", \"ayuda_provino_de\", \n",
        "                       \"valor_ayudas\"]"
      ],
      "execution_count": 6,
      "outputs": []
    },
    {
      "cell_type": "code",
      "metadata": {
        "colab_type": "code",
        "id": "DAEkCZj9vlSX",
        "colab": {}
      },
      "source": [
        "index = 0\n",
        "columns_fuerza = {}\n",
        "for col in data_fuerza.columns[3:]:\n",
        "    columns_fuerza[col] = columns_fuerza_list[index]\n",
        "    index += 1"
      ],
      "execution_count": 7,
      "outputs": []
    },
    {
      "cell_type": "code",
      "metadata": {
        "colab_type": "code",
        "id": "dqteyimgEdi-",
        "colab": {}
      },
      "source": [
        "data_fuerza.rename(columns=columns_fuerza, inplace=True)\n",
        "data_fuerza.rename(columns=lambda x: x.lower(), inplace=True)"
      ],
      "execution_count": 8,
      "outputs": []
    },
    {
      "cell_type": "markdown",
      "metadata": {
        "id": "IpyT-Hckoc5x",
        "colab_type": "text"
      },
      "source": [
        "### **3. Análisis de datos**\n",
        "- Tercer Punto\n",
        "\n",
        "## **3.1. Análisis del tipo de variable**\n",
        "- Análisis para condiciones de vivienda:\n",
        "    - Como se puede observar, los tipos de datos son muy grandes, se pueden reducir en memoria"
      ]
    },
    {
      "cell_type": "code",
      "metadata": {
        "id": "LxpjLeeeZhCs",
        "colab_type": "code",
        "colab": {
          "base_uri": "https://localhost:8080/",
          "height": 272
        },
        "outputId": "a071505b-5b4f-44ed-90ac-9a6eee8e01ff"
      },
      "source": [
        "data_condiciones.dtypes"
      ],
      "execution_count": 10,
      "outputs": [
        {
          "output_type": "execute_result",
          "data": {
            "text/plain": [
              "directorio               int64\n",
              "factores_expansion     float64\n",
              "region                   int64\n",
              "dia_referencia           int64\n",
              "clase                    int64\n",
              "tipo_vivienda            int64\n",
              "energia_electrica        int64\n",
              "estrato                float64\n",
              "acueducto                int64\n",
              "alcantarillado           int64\n",
              "recoleccion_basuras      int64\n",
              "dias_x_semana          float64\n",
              "gas_natural_dom          int64\n",
              "material_pisos           int64\n",
              "dtype: object"
            ]
          },
          "metadata": {
            "tags": []
          },
          "execution_count": 10
        }
      ]
    },
    {
      "cell_type": "markdown",
      "metadata": {
        "id": "Fxrz-VBUo4PG",
        "colab_type": "text"
      },
      "source": [
        "- Análisis para fuerza de trabajo"
      ]
    },
    {
      "cell_type": "code",
      "metadata": {
        "id": "KKqm8iyYn7Qw",
        "colab_type": "code",
        "colab": {
          "base_uri": "https://localhost:8080/",
          "height": 663
        },
        "outputId": "706d6147-b084-4174-e726-977d0e286b79"
      },
      "source": [
        "data_fuerza.dtypes"
      ],
      "execution_count": 11,
      "outputs": [
        {
          "output_type": "execute_result",
          "data": {
            "text/plain": [
              "directorio                          int64\n",
              "secuencia_p                         int64\n",
              "orden                               int64\n",
              "oficio_princ                      float64\n",
              "rama_princ                        float64\n",
              "lugar_trabajo                     float64\n",
              "contrato                          float64\n",
              "misma_empresa                     float64\n",
              "horas_semana                      float64\n",
              "trabajo_dia                       float64\n",
              "horas_trabajo                     float64\n",
              "minutos_trabajo                   float64\n",
              "total_ida                         float64\n",
              "horas_ida                         float64\n",
              "minutos_ida                       float64\n",
              "motivo_no_trabajo                 float64\n",
              "este_trabajo                      float64\n",
              "ganancias_mes_pasado              float64\n",
              "ganancia_neta_mes_pasado          float64\n",
              "numero_meses                      float64\n",
              "cantidad_tiempo                   float64\n",
              "numero_personas                   float64\n",
              "empleo_secundario                 float64\n",
              "horas_semana_empleo_secundario    float64\n",
              "trabajo_secundario_dia            float64\n",
              "horas_trabajo_secundario          float64\n",
              "minutos_trabajo_secundario        float64\n",
              "ida_secundario_horas              float64\n",
              "ida_secundario_minutos            float64\n",
              "ganancia_secundaria_mes_pasado    float64\n",
              "ganancia_jubilacion                 int64\n",
              "valor_jubilacion                  float64\n",
              "ganancia_arriendo                   int64\n",
              "valor_arriendo                    float64\n",
              "ganancia_ayudas                     int64\n",
              "ayuda_provino_de                  float64\n",
              "valor_ayudas                      float64\n",
              "dtype: object"
            ]
          },
          "metadata": {
            "tags": []
          },
          "execution_count": 11
        }
      ]
    },
    {
      "cell_type": "markdown",
      "metadata": {
        "id": "mNTZHhJGqCdG",
        "colab_type": "text"
      },
      "source": [
        "### **3.2 Análisis de duplicados**\n",
        "- Dado que la mayoría de las respuestas de la encuesta realizada son de opción multiple, lo más seguro es que esté llena de duplicados. Por lo que, lo mejor sería no borrarlos, porque cada respuesta, aunque duplicada, nos da una visión de la tendencia de respuestas."
      ]
    },
    {
      "cell_type": "markdown",
      "metadata": {
        "id": "TyYjuVQqs2KO",
        "colab_type": "text"
      },
      "source": [
        "### **3.3 Análisis de datos faltantes**"
      ]
    },
    {
      "cell_type": "code",
      "metadata": {
        "id": "mTzvJh7TuHD3",
        "colab_type": "code",
        "colab": {}
      },
      "source": [
        "def null_percentage(df):\n",
        "    null_percentages = dict()\n",
        "    for col in df.columns:\n",
        "        percentage = df[col].isna().sum() * 100\n",
        "        percentage /= df.shape[0]\n",
        "        null_percentages[col] = f\"{percentage}% of null values\"\n",
        "    return null_percentages"
      ],
      "execution_count": 42,
      "outputs": []
    },
    {
      "cell_type": "code",
      "metadata": {
        "id": "Xa5DrHagumQs",
        "colab_type": "code",
        "colab": {}
      },
      "source": [
        "condiciones_null = null_percentage(data_condiciones)"
      ],
      "execution_count": 43,
      "outputs": []
    },
    {
      "cell_type": "code",
      "metadata": {
        "id": "YnpjlXhzurdO",
        "colab_type": "code",
        "colab": {
          "base_uri": "https://localhost:8080/",
          "height": 255
        },
        "outputId": "00def9f3-2aff-4719-c145-92d01b59ee4f"
      },
      "source": [
        "condiciones_null"
      ],
      "execution_count": 44,
      "outputs": [
        {
          "output_type": "execute_result",
          "data": {
            "text/plain": [
              "{'acueducto': '0.0% of null values',\n",
              " 'alcantarillado': '0.0% of null values',\n",
              " 'clase': '0.0% of null values',\n",
              " 'dia_referencia': '0.0% of null values',\n",
              " 'dias_x_semana': '17.18576327302826% of null values',\n",
              " 'directorio': '0.0% of null values',\n",
              " 'energia_electrica': '0.0% of null values',\n",
              " 'estrato': '2.062196996570888% of null values',\n",
              " 'factores_expansion': '0.0% of null values',\n",
              " 'gas_natural_dom': '0.0% of null values',\n",
              " 'material_pisos': '0.0% of null values',\n",
              " 'recoleccion_basuras': '0.0% of null values',\n",
              " 'region': '0.0% of null values',\n",
              " 'tipo_vivienda': '0.0% of null values'}"
            ]
          },
          "metadata": {
            "tags": []
          },
          "execution_count": 44
        }
      ]
    },
    {
      "cell_type": "code",
      "metadata": {
        "id": "45l2NCvgusQH",
        "colab_type": "code",
        "colab": {}
      },
      "source": [
        "fuerza_null = null_percentage(data_fuerza)"
      ],
      "execution_count": 45,
      "outputs": []
    },
    {
      "cell_type": "code",
      "metadata": {
        "id": "W_h47L7Lu1Zo",
        "colab_type": "code",
        "colab": {
          "base_uri": "https://localhost:8080/",
          "height": 646
        },
        "outputId": "4346f389-0398-4b5f-9d49-b58ca822c291"
      },
      "source": [
        "fuerza_null"
      ],
      "execution_count": null,
      "outputs": [
        {
          "output_type": "execute_result",
          "data": {
            "text/plain": [
              "{'ayuda_provino_de': '88.29348989587726% of null values',\n",
              " 'cantidad_tiempo': '48.796587628531576% of null values',\n",
              " 'contrato': '48.796587628531576% of null values',\n",
              " 'directorio': '0.0% of null values',\n",
              " 'empleo_secundario': '48.796587628531576% of null values',\n",
              " 'este_trabajo': '48.796587628531576% of null values',\n",
              " 'ganancia_arriendo': '0.0% of null values',\n",
              " 'ganancia_ayudas': '0.0% of null values',\n",
              " 'ganancia_jubilacion': '0.0% of null values',\n",
              " 'ganancia_neta_mes_pasado': '78.08556878263973% of null values',\n",
              " 'ganancia_secundaria_mes_pasado': '97.5493853190178% of null values',\n",
              " 'ganancias_mes_pasado': '72.18041454474682% of null values',\n",
              " 'horas_ida': '61.526484803269646% of null values',\n",
              " 'horas_semana': '48.796587628531576% of null values',\n",
              " 'horas_semana_empleo_secundario': '97.5493853190178% of null values',\n",
              " 'horas_trabajo': '61.526484803269646% of null values',\n",
              " 'horas_trabajo_secundario': '98.82172629666871% of null values',\n",
              " 'ida_secundario_horas': '98.82172629666871% of null values',\n",
              " 'ida_secundario_minutos': '98.82172629666871% of null values',\n",
              " 'lugar_trabajo': '48.796587628531576% of null values',\n",
              " 'minutos_ida': '61.526484803269646% of null values',\n",
              " 'minutos_trabajo': '61.526484803269646% of null values',\n",
              " 'minutos_trabajo_secundario': '98.82172629666871% of null values',\n",
              " 'misma_empresa': '72.68562068182555% of null values',\n",
              " 'motivo_no_trabajo': '87.27010282526193% of null values',\n",
              " 'numero_meses': '78.08556878263973% of null values',\n",
              " 'numero_personas': '48.796587628531576% of null values',\n",
              " 'oficio_princ': '48.796587628531576% of null values',\n",
              " 'orden': '0.0% of null values',\n",
              " 'rama_princ': '48.796587628531576% of null values',\n",
              " 'secuencia_p': '0.0% of null values',\n",
              " 'total_ida': '100.0% of null values',\n",
              " 'trabajo_dia': '48.796587628531576% of null values',\n",
              " 'trabajo_secundario_dia': '97.5493853190178% of null values',\n",
              " 'valor_arriendo': '96.5689772616692% of null values',\n",
              " 'valor_ayudas': '88.29348989587726% of null values',\n",
              " 'valor_jubilacion': '93.72344221350028% of null values'}"
            ]
          },
          "metadata": {
            "tags": []
          },
          "execution_count": 46
        }
      ]
    },
    {
      "cell_type": "code",
      "metadata": {
        "id": "WwMRb5pQu2GT",
        "colab_type": "code",
        "colab": {}
      },
      "source": [
        ""
      ],
      "execution_count": null,
      "outputs": []
    }
  ]
}