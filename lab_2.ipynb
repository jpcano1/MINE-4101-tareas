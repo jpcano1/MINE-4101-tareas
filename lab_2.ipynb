{
 "cells": [
  {
   "cell_type": "markdown",
   "metadata": {
    "colab_type": "text",
    "id": "sjy_JbMNparJ"
   },
   "source": [
    "## Bienvenido a la segunda práctica de Jupyter Notebook\n",
    "\n",
    "<table align=\"left\">\n",
    "  <td>\n",
    "    <a target=\"_blank\" href=\"https://colab.research.google.com/github/jpcano1/MINE-4101-tareas/blob/master/lab_2.ipynb\"><img src=\"https://www.tensorflow.org/images/colab_logo_32px.png\"/>Run in Google Colab</a>\n",
    "  </td>\n",
    "</table>"
   ]
  },
  {
   "cell_type": "code",
   "execution_count": 9,
   "metadata": {
    "colab": {},
    "colab_type": "code",
    "id": "sS6Og0MUparM"
   },
   "outputs": [],
   "source": [
    "!wget -q \"https://github.com/jpcano1/MINE-4101-tareas/blob/master/datasets/CAPITULO%20B.%20CONDICIONES%20DE%20LA%20VIVIENDA.txt?raw=true\" -O \"condiciones_vivienda.txt\"\n",
    "!wget -q \"https://github.com/jpcano1/MINE-4101-tareas/blob/master/datasets/CAPITULO%20H.%20FUERZA%20DE%20TRABAJO%20-%20Uso%20del%20tiempo%20e%20ingresos.txt?raw=true\" -O \"fuerza_trabajo.txt\""
   ]
  },
  {
   "cell_type": "code",
   "execution_count": null,
   "metadata": {
    "colab": {},
    "colab_type": "code",
    "id": "K2UBZuBPqFv3"
   },
   "outputs": [],
   "source": [
    "import pandas as pd\n",
    "import numpy as np\n",
    "import matplotlib.pyplot as plt\n",
    "plt.style.use(\"ggplot\")\n",
    "import seaborn as sns"
   ]
  },
  {
   "cell_type": "code",
   "execution_count": 19,
   "metadata": {
    "colab": {},
    "colab_type": "code",
    "id": "NgRxC8_lqbHj"
   },
   "outputs": [],
   "source": [
    "data_condiciones = pd.read_table(\"condiciones_vivienda.txt\")\n",
    "data_fuerza = pd.read_table(\"fuerza_trabajo.txt\")"
   ]
  },
  {
   "cell_type": "code",
   "execution_count": 20,
   "metadata": {
    "colab": {},
    "colab_type": "code",
    "id": "DnnYaPInuFpP"
   },
   "outputs": [],
   "source": [
    "columns_condiciones = {\n",
    "    \"FEX_C\": \"factores_expansion\",\n",
    "    \"P424\": \"tipo_vivienda\",\n",
    "    \"P4030S1\": \"energia_electrica\",\n",
    "    \"P4030S1A1\": \"estrato\",\n",
    "    \"P4030S5\": \"acueducto\",\n",
    "    \"P4030S3\": \"alcantarillado\",\n",
    "    \"P4030S4\": \"recoleccion_basuras\",\n",
    "    \"P4030S4A1\": \"dias_x_semana\",\n",
    "    \"P4030S2\": \"gas_natural_dom\",\n",
    "    \"P4020\": \"material_pisos\",\n",
    "    \"DIA_REFERENCIA_2\": \"dia_referencia\"\n",
    "}"
   ]
  },
  {
   "cell_type": "code",
   "execution_count": 21,
   "metadata": {
    "colab": {},
    "colab_type": "code",
    "id": "SciNTW80q-JQ"
   },
   "outputs": [],
   "source": [
    "data_condiciones.rename(columns=columns_condiciones, inplace=True)\n",
    "data_condiciones.rename(columns=lambda x: x.lower(), inplace=True)"
   ]
  },
  {
   "cell_type": "code",
   "execution_count": 49,
   "metadata": {
    "colab": {},
    "colab_type": "code",
    "id": "xtd2oKmZxUEk"
   },
   "outputs": [],
   "source": [
    "columns_fuerza_list = [\"oficio_princ\", \"rama_princ\", \n",
    "                       \"lugar_trabajo\", \"contrato\", \"misma_empresa\", \n",
    "                       \"horas_semana\", \"trabajo_dia\", \"horas_trabajo\", \n",
    "                       \"minutos_trabajo\",  \"total_ida\", \"horas_ida\", \n",
    "                       \"minutos_ida\",  \"motivo_no_trabajo\", \"este_trabajo\", \n",
    "                       \"ganancias_mes_pasado\", \"ganancia_neta_mes_pasado\", \n",
    "                       \"numero_meses\", \"cantidad_tiempo\", \"numero_personas\",\n",
    "                       \"empleo_secundario\", \"horas_semana_empleo_secundario\", \n",
    "                       \"trabajo_secundario_dia\", \"horas_trabajo_secundario\", \n",
    "                       \"minutos_trabajo_secundario\", \"ida_secundario_horas\", \n",
    "                       \"ida_secundario_minutos\",  \"ganancia_secundaria_mes_pasado\", \n",
    "                       \"ganancia_jubilacion\", \"valor_jubilacion\", \"ganancia_arriendo\",  \n",
    "                       \"valor_arriendo\",  \"ganancia_ayudas\", \"ayuda_provino_de\", \n",
    "                       \"valor_ayudas\"]"
   ]
  },
  {
   "cell_type": "code",
   "execution_count": 52,
   "metadata": {
    "colab": {},
    "colab_type": "code",
    "id": "DAEkCZj9vlSX"
   },
   "outputs": [],
   "source": [
    "index = 0\n",
    "columns_fuerza = {}\n",
    "for col in data_fuerza.columns[3:]:\n",
    "    columns_fuerza[col] = columns_fuerza_list[index]\n",
    "    index += 1"
   ]
  },
  {
   "cell_type": "code",
   "execution_count": null,
   "metadata": {
    "colab": {},
    "colab_type": "code",
    "id": "xk_Ko08XDCp1"
   },
   "outputs": [],
   "source": [
    "columns_fuerza"
   ]
  },
  {
   "cell_type": "code",
   "execution_count": null,
   "metadata": {
    "colab": {},
    "colab_type": "code",
    "id": "dqteyimgEdi-"
   },
   "outputs": [],
   "source": [
    "data_fuerza.rename(columns=columns_fuerza)"
   ]
  },
  {
   "cell_type": "code",
   "execution_count": null,
   "metadata": {
    "colab": {},
    "colab_type": "code",
    "id": "q3Ae9KMLwUPy"
   },
   "outputs": [],
   "source": [
    "data_fuerza.rename(columns=lambda x: x.lower())"
   ]
  }
 ],
 "metadata": {
  "colab": {
   "name": "lab_2.ipynb",
   "provenance": []
  },
  "kernelspec": {
   "display_name": "Python 3",
   "language": "python",
   "name": "python3"
  },
  "language_info": {
   "codemirror_mode": {
    "name": "ipython",
    "version": 3
   },
   "file_extension": ".py",
   "mimetype": "text/x-python",
   "name": "python",
   "nbconvert_exporter": "python",
   "pygments_lexer": "ipython3",
   "version": "3.8.2"
  }
 },
 "nbformat": 4,
 "nbformat_minor": 1
}
