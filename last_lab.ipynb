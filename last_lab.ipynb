{
 "cells": [
  {
   "cell_type": "code",
   "execution_count": null,
   "metadata": {
    "colab": {
     "base_uri": "https://localhost:8080/"
    },
    "executionInfo": {
     "elapsed": 8794,
     "status": "ok",
     "timestamp": 1605924072660,
     "user": {
      "displayName": "Carlos Salazar",
      "photoUrl": "https://lh3.googleusercontent.com/a-/AOh14GgH84T2Xvx50f0em9P2Heq7GqAxYodnLZjVFN5iOw=s64",
      "userId": "07587018632810695766"
     },
     "user_tz": 300
    },
    "id": "OUGZfxue7URQ",
    "outputId": "d8a87de9-f4d0-4e61-9829-9a7e57b2a517"
   },
   "outputs": [
    {
     "name": "stdout",
     "output_type": "stream",
     "text": [
      "  Building wheel for pandas-profiling (setup.py) ... \u001b[?25l\u001b[?25hdone\n"
     ]
    }
   ],
   "source": [
    "!shred -u setup_colab.py\n",
    "!shred -u setup_colab_general.py\n",
    "!wget -q \"https://github.com/jpcano1/python_utils/raw/main/setup_colab_general.py\" -O setup_colab_general.py\n",
    "!wget -q \"https://github.com/jpcano1/python_utils/raw/main/MINE_4101/setup_colab.py\" -O setup_colab.py\n",
    "!pip install -q https://github.com/pandas-profiling/pandas-profiling/archive/master.zip"
   ]
  },
  {
   "cell_type": "markdown",
   "metadata": {
    "id": "TJlbDEq1uhQd"
   },
   "source": [
    "- **Taller realizado por Carlos Andrés Salazar Aroca y por Juan Pablo Cano**"
   ]
  },
  {
   "cell_type": "code",
   "execution_count": null,
   "metadata": {
    "id": "llrgSaXPLwoU"
   },
   "outputs": [],
   "source": [
    "import setup_colab as setup\n",
    "import pandas as pd\n",
    "import numpy as np\n",
    "import pandas_profiling as pp\n",
    "\n",
    "import matplotlib.pyplot as plt\n",
    "plt.style.use(\"seaborn-deep\")\n",
    "\n",
    "from sklearn.ensemble import RandomForestClassifier\n",
    "from sklearn.model_selection import GridSearchCV\n",
    "from sklearn.preprocessing import LabelEncoder, LabelBinarizer\n",
    "from sklearn.model_selection import StratifiedShuffleSplit\n",
    "from sklearn.metrics import recall_score, precision_score, confusion_matrix\n",
    "from sklearn.utils import resample"
   ]
  },
  {
   "cell_type": "code",
   "execution_count": null,
   "metadata": {
    "colab": {
     "base_uri": "https://localhost:8080/",
     "height": 291
    },
    "executionInfo": {
     "elapsed": 9820,
     "status": "ok",
     "timestamp": 1605924073822,
     "user": {
      "displayName": "Carlos Salazar",
      "photoUrl": "https://lh3.googleusercontent.com/a-/AOh14GgH84T2Xvx50f0em9P2Heq7GqAxYodnLZjVFN5iOw=s64",
      "userId": "07587018632810695766"
     },
     "user_tz": 300
    },
    "id": "HZbOXtCT7gyB",
    "outputId": "ca6ed9dc-1469-467f-d29c-26be9decc686"
   },
   "outputs": [
    {
     "data": {
      "text/html": [
       "<div>\n",
       "<style scoped>\n",
       "    .dataframe tbody tr th:only-of-type {\n",
       "        vertical-align: middle;\n",
       "    }\n",
       "\n",
       "    .dataframe tbody tr th {\n",
       "        vertical-align: top;\n",
       "    }\n",
       "\n",
       "    .dataframe thead th {\n",
       "        text-align: right;\n",
       "    }\n",
       "</style>\n",
       "<table border=\"1\" class=\"dataframe\">\n",
       "  <thead>\n",
       "    <tr style=\"text-align: right;\">\n",
       "      <th></th>\n",
       "      <th>CUENTA_TDC</th>\n",
       "      <th>ALTURA_MORA_TDC</th>\n",
       "      <th>HABITO_PAGO_TDC</th>\n",
       "      <th>Edad</th>\n",
       "      <th>ALTURA_MORA_CC</th>\n",
       "      <th>ALTURA_MORA_SBG</th>\n",
       "      <th>ALTURA_MOR_MAX</th>\n",
       "      <th>SALDO_TDC</th>\n",
       "      <th>SALDO_CC</th>\n",
       "      <th>SALDO_SBG</th>\n",
       "      <th>CUPO_TDC</th>\n",
       "      <th>CUPO_CC</th>\n",
       "      <th>CUPO_SBG</th>\n",
       "      <th>SALDO_TOTAL</th>\n",
       "      <th>Y</th>\n",
       "      <th>UTIL_TDC</th>\n",
       "      <th>CUPO_TOTAL</th>\n",
       "      <th>UTIL_TOTAL</th>\n",
       "      <th>SUMA_ALTURA_MORA</th>\n",
       "      <th>MORA_MAX_N_12</th>\n",
       "      <th>MAX_CUPO_TDC_3</th>\n",
       "      <th>MAX_CUPO_TDC_6</th>\n",
       "      <th>MAX_CUPO_TDC_12</th>\n",
       "      <th>NUM_MESES_SIN_MORA_3</th>\n",
       "      <th>NUM_MESES_SIN_MORA_6</th>\n",
       "      <th>NUM_MESES_SIN_MORA_12</th>\n",
       "      <th>estrato</th>\n",
       "      <th>NOMBRE_CIUDAD</th>\n",
       "      <th>DEPARTAMENTO</th>\n",
       "      <th>ACT_ECO</th>\n",
       "      <th>SEXO</th>\n",
       "      <th>NIVEL_EST</th>\n",
       "    </tr>\n",
       "  </thead>\n",
       "  <tbody>\n",
       "    <tr>\n",
       "      <th>0</th>\n",
       "      <td>55202</td>\n",
       "      <td>0</td>\n",
       "      <td>1</td>\n",
       "      <td>38.0</td>\n",
       "      <td>0.0</td>\n",
       "      <td>NaN</td>\n",
       "      <td>0</td>\n",
       "      <td>456563.07</td>\n",
       "      <td>7596420.74</td>\n",
       "      <td>0.0</td>\n",
       "      <td>5750000</td>\n",
       "      <td>8250000.0</td>\n",
       "      <td>0</td>\n",
       "      <td>8052983.81</td>\n",
       "      <td>0</td>\n",
       "      <td>0.079402</td>\n",
       "      <td>14000000.0</td>\n",
       "      <td>0.575213</td>\n",
       "      <td>0</td>\n",
       "      <td>2</td>\n",
       "      <td>5750000</td>\n",
       "      <td>5750000</td>\n",
       "      <td>5750000</td>\n",
       "      <td>2</td>\n",
       "      <td>4</td>\n",
       "      <td>9</td>\n",
       "      <td>3.0</td>\n",
       "      <td>CALI</td>\n",
       "      <td>Valle del</td>\n",
       "      <td>Empleado Privado</td>\n",
       "      <td>M</td>\n",
       "      <td>Profesional</td>\n",
       "    </tr>\n",
       "    <tr>\n",
       "      <th>1</th>\n",
       "      <td>92786</td>\n",
       "      <td>0</td>\n",
       "      <td>1</td>\n",
       "      <td>41.0</td>\n",
       "      <td>0.0</td>\n",
       "      <td>NaN</td>\n",
       "      <td>0</td>\n",
       "      <td>0.00</td>\n",
       "      <td>0.00</td>\n",
       "      <td>0.0</td>\n",
       "      <td>3000000</td>\n",
       "      <td>9300000.0</td>\n",
       "      <td>0</td>\n",
       "      <td>0.00</td>\n",
       "      <td>0</td>\n",
       "      <td>0.000000</td>\n",
       "      <td>12300000.0</td>\n",
       "      <td>0.000000</td>\n",
       "      <td>0</td>\n",
       "      <td>0</td>\n",
       "      <td>3000000</td>\n",
       "      <td>3000000</td>\n",
       "      <td>3000000</td>\n",
       "      <td>3</td>\n",
       "      <td>6</td>\n",
       "      <td>12</td>\n",
       "      <td>4.0</td>\n",
       "      <td>BOGOTA</td>\n",
       "      <td>Bogotá D.C</td>\n",
       "      <td>Empleado Privado</td>\n",
       "      <td>F</td>\n",
       "      <td>Profesional</td>\n",
       "    </tr>\n",
       "    <tr>\n",
       "      <th>2</th>\n",
       "      <td>62164</td>\n",
       "      <td>6</td>\n",
       "      <td>2</td>\n",
       "      <td>45.0</td>\n",
       "      <td>NaN</td>\n",
       "      <td>NaN</td>\n",
       "      <td>6</td>\n",
       "      <td>1176889.59</td>\n",
       "      <td>0.00</td>\n",
       "      <td>0.0</td>\n",
       "      <td>4200000</td>\n",
       "      <td>0.0</td>\n",
       "      <td>0</td>\n",
       "      <td>1176889.59</td>\n",
       "      <td>0</td>\n",
       "      <td>0.280212</td>\n",
       "      <td>4200000.0</td>\n",
       "      <td>0.280212</td>\n",
       "      <td>6</td>\n",
       "      <td>6</td>\n",
       "      <td>4200000</td>\n",
       "      <td>4200000</td>\n",
       "      <td>4200000</td>\n",
       "      <td>2</td>\n",
       "      <td>4</td>\n",
       "      <td>9</td>\n",
       "      <td>4.0</td>\n",
       "      <td>BOGOTA</td>\n",
       "      <td>Bogotá D.C</td>\n",
       "      <td>Empleado Publico</td>\n",
       "      <td>M</td>\n",
       "      <td>Postgrado</td>\n",
       "    </tr>\n",
       "    <tr>\n",
       "      <th>3</th>\n",
       "      <td>21926</td>\n",
       "      <td>0</td>\n",
       "      <td>4</td>\n",
       "      <td>60.0</td>\n",
       "      <td>NaN</td>\n",
       "      <td>NaN</td>\n",
       "      <td>0</td>\n",
       "      <td>1863229.73</td>\n",
       "      <td>0.00</td>\n",
       "      <td>0.0</td>\n",
       "      <td>2800000</td>\n",
       "      <td>0.0</td>\n",
       "      <td>0</td>\n",
       "      <td>1863229.73</td>\n",
       "      <td>0</td>\n",
       "      <td>0.665439</td>\n",
       "      <td>2800000.0</td>\n",
       "      <td>0.665439</td>\n",
       "      <td>0</td>\n",
       "      <td>0</td>\n",
       "      <td>2800000</td>\n",
       "      <td>2800000</td>\n",
       "      <td>2800000</td>\n",
       "      <td>3</td>\n",
       "      <td>6</td>\n",
       "      <td>12</td>\n",
       "      <td>3.0</td>\n",
       "      <td>IBAGUE</td>\n",
       "      <td>Tolima</td>\n",
       "      <td>Pres Servicios</td>\n",
       "      <td>M</td>\n",
       "      <td>Profesional</td>\n",
       "    </tr>\n",
       "    <tr>\n",
       "      <th>4</th>\n",
       "      <td>39474</td>\n",
       "      <td>0</td>\n",
       "      <td>5</td>\n",
       "      <td>61.0</td>\n",
       "      <td>0.0</td>\n",
       "      <td>NaN</td>\n",
       "      <td>0</td>\n",
       "      <td>2823939.98</td>\n",
       "      <td>0.00</td>\n",
       "      <td>0.0</td>\n",
       "      <td>2860000</td>\n",
       "      <td>0.0</td>\n",
       "      <td>0</td>\n",
       "      <td>2823939.98</td>\n",
       "      <td>0</td>\n",
       "      <td>0.987392</td>\n",
       "      <td>2860000.0</td>\n",
       "      <td>0.987392</td>\n",
       "      <td>0</td>\n",
       "      <td>0</td>\n",
       "      <td>2860000</td>\n",
       "      <td>2860000</td>\n",
       "      <td>2860000</td>\n",
       "      <td>3</td>\n",
       "      <td>6</td>\n",
       "      <td>12</td>\n",
       "      <td>3.0</td>\n",
       "      <td>CARTAGE</td>\n",
       "      <td>Bolívar</td>\n",
       "      <td>Empleado Privado</td>\n",
       "      <td>M</td>\n",
       "      <td>Técnico/Tecnológico</td>\n",
       "    </tr>\n",
       "  </tbody>\n",
       "</table>\n",
       "</div>"
      ],
      "text/plain": [
       "   CUENTA_TDC  ALTURA_MORA_TDC  ... SEXO            NIVEL_EST\n",
       "0       55202                0  ...    M          Profesional\n",
       "1       92786                0  ...    F          Profesional\n",
       "2       62164                6  ...    M            Postgrado\n",
       "3       21926                0  ...    M          Profesional\n",
       "4       39474                0  ...    M  Técnico/Tecnológico\n",
       "\n",
       "[5 rows x 32 columns]"
      ]
     },
     "execution_count": 116,
     "metadata": {
      "tags": []
     },
     "output_type": "execute_result"
    }
   ],
   "source": [
    "df = pd.read_excel('data_parcial.xlsx')\n",
    "df.head()"
   ]
  },
  {
   "cell_type": "code",
   "execution_count": null,
   "metadata": {
    "colab": {
     "base_uri": "https://localhost:8080/"
    },
    "executionInfo": {
     "elapsed": 9809,
     "status": "ok",
     "timestamp": 1605924073823,
     "user": {
      "displayName": "Carlos Salazar",
      "photoUrl": "https://lh3.googleusercontent.com/a-/AOh14GgH84T2Xvx50f0em9P2Heq7GqAxYodnLZjVFN5iOw=s64",
      "userId": "07587018632810695766"
     },
     "user_tz": 300
    },
    "id": "WZAJ0l7F79nO",
    "outputId": "394ae62f-8ed3-40d0-e1a5-714b670208a0"
   },
   "outputs": [
    {
     "data": {
      "text/plain": [
       "(5000, 32)"
      ]
     },
     "execution_count": 117,
     "metadata": {
      "tags": []
     },
     "output_type": "execute_result"
    }
   ],
   "source": [
    "df.shape"
   ]
  },
  {
   "cell_type": "markdown",
   "metadata": {
    "id": "sH75oPfb9-G3"
   },
   "source": [
    "# Perfilamiento\n",
    "Se encontraron variables altamente correlacionadas entre sí por lo que se decide optar por dejar solo una variable entre estas correlacionadas de manera que se reduzca la complejidad del modelo, para escoger esta variable se tuvo en cuenta la cantidad de valores nulos con los que contaba. Asimismo, se elimina la columna CUENTA_TDC que indica el número de cuenta TDC lo cual viene siendo como un identificador. Se encontró que la columna HABITO_PAGO_TDC cuenta con anomalías en pocas, por lo que se decidió removerlos en lugar de dejarlos."
   ]
  },
  {
   "cell_type": "code",
   "execution_count": null,
   "metadata": {
    "colab": {
     "base_uri": "https://localhost:8080/",
     "output_embedded_package_id": "10stTANXzbOoeMoCQFxNWWLotO-Am1gs7",
     "referenced_widgets": [
      "075fca258d424237ad755c65b207bcd2",
      "41ccdc0dc90c45af8a7d70f8761fcf08",
      "d970444d1761426ea09803a22b549992",
      "a1d84be1e748460d95931d96dfa905e9",
      "d2f6c2d1a08943789a3c826d4ca61ff9",
      "3607295757e8425bbbd5b60e7d64372c",
      "5dc076f2106b48ef986782b0dd71f6d0",
      "366e72c598714da097ed84befe768aaa",
      "7dc029ac7cf34c1eb8989c889c4159fa",
      "2bc685881df04dcc98e67a1b0d202029",
      "e4004c6331404d9cad93e417c0b33355",
      "08895bb3b5574f70b6854a5f9b2d576a",
      "12a98c536d7e441eb3269066b4d5f563",
      "3e3a35d009b54c168be831286cd42922",
      "1cd1306586484d3da704cb6a031e5e04",
      "0237f24ea39943a28823937a5be87dca",
      "89dca242c6714132a188cb02005b9ec1",
      "72f335c437be497187463b97e27559bf",
      "74387bbfe01b4415802ec0b9cfa05fbf",
      "7152fc97c17a4574ad117372ef5ecf38",
      "4452166075f5447b8c381613019efc51",
      "45cde11273a84e1a90ded13a4c2acd14",
      "0b6f1813336f49baaeaab967e16d46a0",
      "03afc0a687054230a0ec833ea73c0d17",
      "d4a4d91e76804ac98368356ca46a525f",
      "801fa1346b4b44a7b790a0f0193b9f87",
      "389facbb202e4894a1aff769a308407a",
      "a884c33e1b55496cab914a4db66288ee",
      "186a7a845c9d487ba8ae679da1b26c35",
      "790a30582115434f9dc24d26bfc7071e",
      "fb4886bb946143238ab6e32cccd3085e",
      "92c8417e251d48d1ba82c8c4ea5a4408",
      "5e9816f9459945e18fb529bd861faf06"
     ]
    },
    "executionInfo": {
     "elapsed": 118028,
     "status": "ok",
     "timestamp": 1605924182052,
     "user": {
      "displayName": "Carlos Salazar",
      "photoUrl": "https://lh3.googleusercontent.com/a-/AOh14GgH84T2Xvx50f0em9P2Heq7GqAxYodnLZjVFN5iOw=s64",
      "userId": "07587018632810695766"
     },
     "user_tz": 300
    },
    "id": "THnbzEXu_b-j",
    "outputId": "38bfd2d7-cb28-407b-c2bb-dd9dab7b0b86"
   },
   "outputs": [
    {
     "data": {
      "text/plain": [
       "Output hidden; open in https://colab.research.google.com to view."
      ]
     },
     "metadata": {},
     "output_type": "display_data"
    }
   ],
   "source": [
    "pp.ProfileReport(df)"
   ]
  },
  {
   "cell_type": "markdown",
   "metadata": {
    "id": "RySQfFuf-3tR"
   },
   "source": [
    "### Variables categóricas\n",
    "\n",
    "* HABITO_PAGO_TDC\n",
    "* Edad\n",
    "* Y\n",
    "* NUM_MESES_SIN_MORA_3\n",
    "* NUM_MESES_SIN_MORA_6\n",
    "* NUM_MESES_SIN_MORA_12\n",
    "* estrato\n",
    "* NOMBRE_CIUDAD\n",
    "* DEPARTAMENTO\n",
    "* ACT_ECO\n",
    "* SEXO \n",
    "* NIVEL_EST\n"
   ]
  },
  {
   "cell_type": "markdown",
   "metadata": {
    "id": "L-_rWpZfB0KR"
   },
   "source": [
    "## Columnas de interés\n",
    "Con base al resultado del perfilamiento se seleccionaron las columnas de interés"
   ]
  },
  {
   "cell_type": "code",
   "execution_count": null,
   "metadata": {
    "colab": {
     "base_uri": "https://localhost:8080/"
    },
    "executionInfo": {
     "elapsed": 118023,
     "status": "ok",
     "timestamp": 1605924182054,
     "user": {
      "displayName": "Carlos Salazar",
      "photoUrl": "https://lh3.googleusercontent.com/a-/AOh14GgH84T2Xvx50f0em9P2Heq7GqAxYodnLZjVFN5iOw=s64",
      "userId": "07587018632810695766"
     },
     "user_tz": 300
    },
    "id": "xkAVSyxL9_z6",
    "outputId": "b504355b-cb5d-470a-887e-76e452a0fcdc"
   },
   "outputs": [
    {
     "data": {
      "text/html": [
       "<div>\n",
       "<style scoped>\n",
       "    .dataframe tbody tr th:only-of-type {\n",
       "        vertical-align: middle;\n",
       "    }\n",
       "\n",
       "    .dataframe tbody tr th {\n",
       "        vertical-align: top;\n",
       "    }\n",
       "\n",
       "    .dataframe thead th {\n",
       "        text-align: right;\n",
       "    }\n",
       "</style>\n",
       "<table border=\"1\" class=\"dataframe\">\n",
       "  <thead>\n",
       "    <tr style=\"text-align: right;\">\n",
       "      <th></th>\n",
       "      <th>Total</th>\n",
       "      <th>Percent</th>\n",
       "    </tr>\n",
       "  </thead>\n",
       "  <tbody>\n",
       "    <tr>\n",
       "      <th>ALTURA_MORA_SBG</th>\n",
       "      <td>4942</td>\n",
       "      <td>0.9884</td>\n",
       "    </tr>\n",
       "    <tr>\n",
       "      <th>ALTURA_MORA_CC</th>\n",
       "      <td>4259</td>\n",
       "      <td>0.8518</td>\n",
       "    </tr>\n",
       "    <tr>\n",
       "      <th>SEXO</th>\n",
       "      <td>66</td>\n",
       "      <td>0.0132</td>\n",
       "    </tr>\n",
       "    <tr>\n",
       "      <th>Edad</th>\n",
       "      <td>66</td>\n",
       "      <td>0.0132</td>\n",
       "    </tr>\n",
       "    <tr>\n",
       "      <th>NIVEL_EST</th>\n",
       "      <td>65</td>\n",
       "      <td>0.0130</td>\n",
       "    </tr>\n",
       "    <tr>\n",
       "      <th>ACT_ECO</th>\n",
       "      <td>65</td>\n",
       "      <td>0.0130</td>\n",
       "    </tr>\n",
       "    <tr>\n",
       "      <th>estrato</th>\n",
       "      <td>65</td>\n",
       "      <td>0.0130</td>\n",
       "    </tr>\n",
       "    <tr>\n",
       "      <th>HABITO_PAGO_TDC</th>\n",
       "      <td>63</td>\n",
       "      <td>0.0126</td>\n",
       "    </tr>\n",
       "    <tr>\n",
       "      <th>DEPARTAMENTO</th>\n",
       "      <td>23</td>\n",
       "      <td>0.0046</td>\n",
       "    </tr>\n",
       "    <tr>\n",
       "      <th>NOMBRE_CIUDAD</th>\n",
       "      <td>23</td>\n",
       "      <td>0.0046</td>\n",
       "    </tr>\n",
       "    <tr>\n",
       "      <th>UTIL_TDC</th>\n",
       "      <td>7</td>\n",
       "      <td>0.0014</td>\n",
       "    </tr>\n",
       "    <tr>\n",
       "      <th>UTIL_TOTAL</th>\n",
       "      <td>6</td>\n",
       "      <td>0.0012</td>\n",
       "    </tr>\n",
       "    <tr>\n",
       "      <th>MAX_CUPO_TDC_3</th>\n",
       "      <td>0</td>\n",
       "      <td>0.0000</td>\n",
       "    </tr>\n",
       "    <tr>\n",
       "      <th>SALDO_SBG</th>\n",
       "      <td>0</td>\n",
       "      <td>0.0000</td>\n",
       "    </tr>\n",
       "    <tr>\n",
       "      <th>ALTURA_MORA_TDC</th>\n",
       "      <td>0</td>\n",
       "      <td>0.0000</td>\n",
       "    </tr>\n",
       "    <tr>\n",
       "      <th>NUM_MESES_SIN_MORA_12</th>\n",
       "      <td>0</td>\n",
       "      <td>0.0000</td>\n",
       "    </tr>\n",
       "    <tr>\n",
       "      <th>NUM_MESES_SIN_MORA_6</th>\n",
       "      <td>0</td>\n",
       "      <td>0.0000</td>\n",
       "    </tr>\n",
       "    <tr>\n",
       "      <th>NUM_MESES_SIN_MORA_3</th>\n",
       "      <td>0</td>\n",
       "      <td>0.0000</td>\n",
       "    </tr>\n",
       "    <tr>\n",
       "      <th>MAX_CUPO_TDC_12</th>\n",
       "      <td>0</td>\n",
       "      <td>0.0000</td>\n",
       "    </tr>\n",
       "    <tr>\n",
       "      <th>ALTURA_MOR_MAX</th>\n",
       "      <td>0</td>\n",
       "      <td>0.0000</td>\n",
       "    </tr>\n",
       "    <tr>\n",
       "      <th>SALDO_TDC</th>\n",
       "      <td>0</td>\n",
       "      <td>0.0000</td>\n",
       "    </tr>\n",
       "    <tr>\n",
       "      <th>SALDO_CC</th>\n",
       "      <td>0</td>\n",
       "      <td>0.0000</td>\n",
       "    </tr>\n",
       "    <tr>\n",
       "      <th>CUPO_TDC</th>\n",
       "      <td>0</td>\n",
       "      <td>0.0000</td>\n",
       "    </tr>\n",
       "    <tr>\n",
       "      <th>MORA_MAX_N_12</th>\n",
       "      <td>0</td>\n",
       "      <td>0.0000</td>\n",
       "    </tr>\n",
       "    <tr>\n",
       "      <th>CUPO_CC</th>\n",
       "      <td>0</td>\n",
       "      <td>0.0000</td>\n",
       "    </tr>\n",
       "    <tr>\n",
       "      <th>CUPO_SBG</th>\n",
       "      <td>0</td>\n",
       "      <td>0.0000</td>\n",
       "    </tr>\n",
       "    <tr>\n",
       "      <th>SALDO_TOTAL</th>\n",
       "      <td>0</td>\n",
       "      <td>0.0000</td>\n",
       "    </tr>\n",
       "    <tr>\n",
       "      <th>Y</th>\n",
       "      <td>0</td>\n",
       "      <td>0.0000</td>\n",
       "    </tr>\n",
       "    <tr>\n",
       "      <th>MAX_CUPO_TDC_6</th>\n",
       "      <td>0</td>\n",
       "      <td>0.0000</td>\n",
       "    </tr>\n",
       "    <tr>\n",
       "      <th>CUPO_TOTAL</th>\n",
       "      <td>0</td>\n",
       "      <td>0.0000</td>\n",
       "    </tr>\n",
       "    <tr>\n",
       "      <th>SUMA_ALTURA_MORA</th>\n",
       "      <td>0</td>\n",
       "      <td>0.0000</td>\n",
       "    </tr>\n",
       "    <tr>\n",
       "      <th>CUENTA_TDC</th>\n",
       "      <td>0</td>\n",
       "      <td>0.0000</td>\n",
       "    </tr>\n",
       "  </tbody>\n",
       "</table>\n",
       "</div>"
      ],
      "text/plain": [
       "                       Total  Percent\n",
       "ALTURA_MORA_SBG         4942   0.9884\n",
       "ALTURA_MORA_CC          4259   0.8518\n",
       "SEXO                      66   0.0132\n",
       "Edad                      66   0.0132\n",
       "NIVEL_EST                 65   0.0130\n",
       "ACT_ECO                   65   0.0130\n",
       "estrato                   65   0.0130\n",
       "HABITO_PAGO_TDC           63   0.0126\n",
       "DEPARTAMENTO              23   0.0046\n",
       "NOMBRE_CIUDAD             23   0.0046\n",
       "UTIL_TDC                   7   0.0014\n",
       "UTIL_TOTAL                 6   0.0012\n",
       "MAX_CUPO_TDC_3             0   0.0000\n",
       "SALDO_SBG                  0   0.0000\n",
       "ALTURA_MORA_TDC            0   0.0000\n",
       "NUM_MESES_SIN_MORA_12      0   0.0000\n",
       "NUM_MESES_SIN_MORA_6       0   0.0000\n",
       "NUM_MESES_SIN_MORA_3       0   0.0000\n",
       "MAX_CUPO_TDC_12            0   0.0000\n",
       "ALTURA_MOR_MAX             0   0.0000\n",
       "SALDO_TDC                  0   0.0000\n",
       "SALDO_CC                   0   0.0000\n",
       "CUPO_TDC                   0   0.0000\n",
       "MORA_MAX_N_12              0   0.0000\n",
       "CUPO_CC                    0   0.0000\n",
       "CUPO_SBG                   0   0.0000\n",
       "SALDO_TOTAL                0   0.0000\n",
       "Y                          0   0.0000\n",
       "MAX_CUPO_TDC_6             0   0.0000\n",
       "CUPO_TOTAL                 0   0.0000\n",
       "SUMA_ALTURA_MORA           0   0.0000\n",
       "CUENTA_TDC                 0   0.0000"
      ]
     },
     "execution_count": 119,
     "metadata": {
      "tags": []
     },
     "output_type": "execute_result"
    }
   ],
   "source": [
    "def nullValues(df):\n",
    "  total = df.isnull().sum().sort_values(ascending=False)\n",
    "  percent = (df.isnull().sum()/df.isnull().count()).sort_values(ascending=False)\n",
    "  missing_data = pd.concat([total, percent], axis=1, keys=['Total', 'Percent'])\n",
    "  return missing_data\n",
    "missing_data = nullValues(df)\n",
    "missing_data"
   ]
  },
  {
   "cell_type": "code",
   "execution_count": null,
   "metadata": {
    "colab": {
     "base_uri": "https://localhost:8080/"
    },
    "executionInfo": {
     "elapsed": 118018,
     "status": "ok",
     "timestamp": 1605924182056,
     "user": {
      "displayName": "Carlos Salazar",
      "photoUrl": "https://lh3.googleusercontent.com/a-/AOh14GgH84T2Xvx50f0em9P2Heq7GqAxYodnLZjVFN5iOw=s64",
      "userId": "07587018632810695766"
     },
     "user_tz": 300
    },
    "id": "Zd20Q3GXByPn",
    "outputId": "df75965a-5cac-48b8-ce00-12422e4aef0f"
   },
   "outputs": [
    {
     "data": {
      "text/html": [
       "<div>\n",
       "<style scoped>\n",
       "    .dataframe tbody tr th:only-of-type {\n",
       "        vertical-align: middle;\n",
       "    }\n",
       "\n",
       "    .dataframe tbody tr th {\n",
       "        vertical-align: top;\n",
       "    }\n",
       "\n",
       "    .dataframe thead th {\n",
       "        text-align: right;\n",
       "    }\n",
       "</style>\n",
       "<table border=\"1\" class=\"dataframe\">\n",
       "  <thead>\n",
       "    <tr style=\"text-align: right;\">\n",
       "      <th></th>\n",
       "      <th>ALTURA_MORA_TDC</th>\n",
       "      <th>HABITO_PAGO_TDC</th>\n",
       "      <th>Edad</th>\n",
       "      <th>Y</th>\n",
       "      <th>UTIL_TDC</th>\n",
       "      <th>SUMA_ALTURA_MORA</th>\n",
       "      <th>NUM_MESES_SIN_MORA_12</th>\n",
       "      <th>estrato</th>\n",
       "      <th>DEPARTAMENTO</th>\n",
       "      <th>ACT_ECO</th>\n",
       "      <th>SEXO</th>\n",
       "      <th>NIVEL_EST</th>\n",
       "    </tr>\n",
       "  </thead>\n",
       "  <tbody>\n",
       "    <tr>\n",
       "      <th>0</th>\n",
       "      <td>0</td>\n",
       "      <td>1</td>\n",
       "      <td>38.0</td>\n",
       "      <td>0</td>\n",
       "      <td>0.079402</td>\n",
       "      <td>0</td>\n",
       "      <td>9</td>\n",
       "      <td>3.0</td>\n",
       "      <td>Valle del</td>\n",
       "      <td>Empleado Privado</td>\n",
       "      <td>M</td>\n",
       "      <td>Profesional</td>\n",
       "    </tr>\n",
       "    <tr>\n",
       "      <th>1</th>\n",
       "      <td>0</td>\n",
       "      <td>1</td>\n",
       "      <td>41.0</td>\n",
       "      <td>0</td>\n",
       "      <td>0.000000</td>\n",
       "      <td>0</td>\n",
       "      <td>12</td>\n",
       "      <td>4.0</td>\n",
       "      <td>Bogotá D.C</td>\n",
       "      <td>Empleado Privado</td>\n",
       "      <td>F</td>\n",
       "      <td>Profesional</td>\n",
       "    </tr>\n",
       "    <tr>\n",
       "      <th>2</th>\n",
       "      <td>6</td>\n",
       "      <td>2</td>\n",
       "      <td>45.0</td>\n",
       "      <td>0</td>\n",
       "      <td>0.280212</td>\n",
       "      <td>6</td>\n",
       "      <td>9</td>\n",
       "      <td>4.0</td>\n",
       "      <td>Bogotá D.C</td>\n",
       "      <td>Empleado Publico</td>\n",
       "      <td>M</td>\n",
       "      <td>Postgrado</td>\n",
       "    </tr>\n",
       "    <tr>\n",
       "      <th>3</th>\n",
       "      <td>0</td>\n",
       "      <td>4</td>\n",
       "      <td>60.0</td>\n",
       "      <td>0</td>\n",
       "      <td>0.665439</td>\n",
       "      <td>0</td>\n",
       "      <td>12</td>\n",
       "      <td>3.0</td>\n",
       "      <td>Tolima</td>\n",
       "      <td>Pres Servicios</td>\n",
       "      <td>M</td>\n",
       "      <td>Profesional</td>\n",
       "    </tr>\n",
       "    <tr>\n",
       "      <th>4</th>\n",
       "      <td>0</td>\n",
       "      <td>5</td>\n",
       "      <td>61.0</td>\n",
       "      <td>0</td>\n",
       "      <td>0.987392</td>\n",
       "      <td>0</td>\n",
       "      <td>12</td>\n",
       "      <td>3.0</td>\n",
       "      <td>Bolívar</td>\n",
       "      <td>Empleado Privado</td>\n",
       "      <td>M</td>\n",
       "      <td>Técnico/Tecnológico</td>\n",
       "    </tr>\n",
       "  </tbody>\n",
       "</table>\n",
       "</div>"
      ],
      "text/plain": [
       "   ALTURA_MORA_TDC HABITO_PAGO_TDC  ...  SEXO            NIVEL_EST\n",
       "0                0               1  ...     M          Profesional\n",
       "1                0               1  ...     F          Profesional\n",
       "2                6               2  ...     M            Postgrado\n",
       "3                0               4  ...     M          Profesional\n",
       "4                0               5  ...     M  Técnico/Tecnológico\n",
       "\n",
       "[5 rows x 12 columns]"
      ]
     },
     "execution_count": 120,
     "metadata": {
      "tags": []
     },
     "output_type": "execute_result"
    }
   ],
   "source": [
    "no_interes = ['CUENTA_TDC','ALTURA_MORA_SBG','ALTURA_MORA_CC',\n",
    "              'NUM_MESES_SIN_MORA_6','NUM_MESES_SIN_MORA_3',\n",
    "              'ALTURA_MOR_MAX','SALDO_TDC','SALDO_CC','SALDO_SBG',\n",
    "              'CUPO_TDC','CUPO_CC','CUPO_SBG','UTIL_TOTAL',\n",
    "              'SALDO_TOTAL','CUPO_TOTAL','MORA_MAX_N_12','MAX_CUPO_TDC_3',\n",
    "              'MAX_CUPO_TDC_12','NOMBRE_CIUDAD','MAX_CUPO_TDC_6']\n",
    "df = df[[col for col in df.columns if col not in no_interes]]\n",
    "df.head()"
   ]
  },
  {
   "cell_type": "code",
   "execution_count": null,
   "metadata": {
    "id": "AH9KanBHMxny"
   },
   "outputs": [],
   "source": [
    "df = df.query(\"HABITO_PAGO_TDC not in ['A', 'B', 'C', 'D', 'E']\")"
   ]
  },
  {
   "cell_type": "markdown",
   "metadata": {
    "id": "tyK00Z19F9O7"
   },
   "source": [
    "## Problemas de calidad de los datos\n",
    "* Había problemas con la cantidad de variables correlacionadas los cuales fueron solucionados eligiendo una variable de todas estas correlacionadas.\n",
    "* Había variables con un porcentaje superior al 80% de valores nulos (ALTURA_MORA_SBG, ALTURA_MORA_CC)\n",
    "* La variable que indica si el cliente se pierde por mal comportamiento o no cuenta con un 94% de valores como 0, es decir el 94% de los datos son de clientes que no se pierden por mal comportamiento lo que claramente indica que hay un desbalanceo en el dataset"
   ]
  },
  {
   "cell_type": "code",
   "execution_count": null,
   "metadata": {
    "colab": {
     "base_uri": "https://localhost:8080/"
    },
    "executionInfo": {
     "elapsed": 118002,
     "status": "ok",
     "timestamp": 1605924182057,
     "user": {
      "displayName": "Carlos Salazar",
      "photoUrl": "https://lh3.googleusercontent.com/a-/AOh14GgH84T2Xvx50f0em9P2Heq7GqAxYodnLZjVFN5iOw=s64",
      "userId": "07587018632810695766"
     },
     "user_tz": 300
    },
    "id": "6ujEK6FLD9iM",
    "outputId": "64f17602-e873-4a8d-9dc6-a7ece0692f34"
   },
   "outputs": [
    {
     "data": {
      "text/html": [
       "<div>\n",
       "<style scoped>\n",
       "    .dataframe tbody tr th:only-of-type {\n",
       "        vertical-align: middle;\n",
       "    }\n",
       "\n",
       "    .dataframe tbody tr th {\n",
       "        vertical-align: top;\n",
       "    }\n",
       "\n",
       "    .dataframe thead th {\n",
       "        text-align: right;\n",
       "    }\n",
       "</style>\n",
       "<table border=\"1\" class=\"dataframe\">\n",
       "  <thead>\n",
       "    <tr style=\"text-align: right;\">\n",
       "      <th></th>\n",
       "      <th>Comun</th>\n",
       "      <th>P.Apariciones</th>\n",
       "    </tr>\n",
       "  </thead>\n",
       "  <tbody>\n",
       "    <tr>\n",
       "      <th>ALTURA_MORA_TDC</th>\n",
       "      <td>0</td>\n",
       "      <td>0.864158</td>\n",
       "    </tr>\n",
       "    <tr>\n",
       "      <th>HABITO_PAGO_TDC</th>\n",
       "      <td>1</td>\n",
       "      <td>0.389931</td>\n",
       "    </tr>\n",
       "    <tr>\n",
       "      <th>Edad</th>\n",
       "      <td>36</td>\n",
       "      <td>0.031199</td>\n",
       "    </tr>\n",
       "    <tr>\n",
       "      <th>Y</th>\n",
       "      <td>0</td>\n",
       "      <td>0.948279</td>\n",
       "    </tr>\n",
       "    <tr>\n",
       "      <th>UTIL_TDC</th>\n",
       "      <td>0</td>\n",
       "      <td>0.128324</td>\n",
       "    </tr>\n",
       "    <tr>\n",
       "      <th>SUMA_ALTURA_MORA</th>\n",
       "      <td>0</td>\n",
       "      <td>0.860938</td>\n",
       "    </tr>\n",
       "    <tr>\n",
       "      <th>NUM_MESES_SIN_MORA_12</th>\n",
       "      <td>12</td>\n",
       "      <td>0.582813</td>\n",
       "    </tr>\n",
       "    <tr>\n",
       "      <th>estrato</th>\n",
       "      <td>3</td>\n",
       "      <td>0.522120</td>\n",
       "    </tr>\n",
       "    <tr>\n",
       "      <th>DEPARTAMENTO</th>\n",
       "      <td>Bogotá D.C</td>\n",
       "      <td>0.440154</td>\n",
       "    </tr>\n",
       "    <tr>\n",
       "      <th>ACT_ECO</th>\n",
       "      <td>Empleado Privado</td>\n",
       "      <td>0.418552</td>\n",
       "    </tr>\n",
       "    <tr>\n",
       "      <th>SEXO</th>\n",
       "      <td>F</td>\n",
       "      <td>0.518148</td>\n",
       "    </tr>\n",
       "    <tr>\n",
       "      <th>NIVEL_EST</th>\n",
       "      <td>Profesional</td>\n",
       "      <td>0.438736</td>\n",
       "    </tr>\n",
       "  </tbody>\n",
       "</table>\n",
       "</div>"
      ],
      "text/plain": [
       "                                  Comun  P.Apariciones\n",
       "ALTURA_MORA_TDC                       0       0.864158\n",
       "HABITO_PAGO_TDC                       1       0.389931\n",
       "Edad                                 36       0.031199\n",
       "Y                                     0       0.948279\n",
       "UTIL_TDC                              0       0.128324\n",
       "SUMA_ALTURA_MORA                      0       0.860938\n",
       "NUM_MESES_SIN_MORA_12                12       0.582813\n",
       "estrato                               3       0.522120\n",
       "DEPARTAMENTO                 Bogotá D.C       0.440154\n",
       "ACT_ECO                Empleado Privado       0.418552\n",
       "SEXO                                  F       0.518148\n",
       "NIVEL_EST                   Profesional       0.438736"
      ]
     },
     "execution_count": 122,
     "metadata": {
      "tags": []
     },
     "output_type": "execute_result"
    }
   ],
   "source": [
    "def comunes(df):\n",
    "  max_valu = []\n",
    "  max_qty = []\n",
    "  for col in df:\n",
    "    count = df[col].value_counts()\n",
    "    max_valu.append(list(count.index)[0])\n",
    "    max_qty.append(count.max()/count.sum())\n",
    "  ans = pd.DataFrame({'Comun':max_valu,'P.Apariciones':max_qty},index=list(df.columns))\n",
    "  return ans\n",
    "comunes(df)"
   ]
  },
  {
   "cell_type": "markdown",
   "metadata": {
    "id": "UL5dh4P6HJFv"
   },
   "source": [
    "# Entendimiento del negocio\n",
    "Financiera de los Alpes, es una empresa del sector financiero, que ofrece tres productos: TDC (tarjeta de crédito), CC (crédito de consumo o de libre inversión) y SBG (sobregiro). Esa empresa, desea generar estrategias comerciales que permitan reducir el número de clientes perdidos por mal comportamiento crediticio, es decir, clientes con una altura de mora mayor a 90 días en algunos de sus productos. Cuando esta situación ocurre, la entidad bloquea todos los productos de ese cliente y no es posible cambiar su estado, llevando a la pérdida definitiva del cliente. La empresa está buscando reducir la cantidad de clientes perdidos por mal comportamiento crediticio con estrategias basadas en las características de los clientes a perderse."
   ]
  },
  {
   "cell_type": "markdown",
   "metadata": {
    "id": "6QEstcIkHURh"
   },
   "source": [
    "# Hipótesis de interés\n",
    "1. La variable dependiente (Y) depende del estrato y del departamento del cliente.\n",
    "2. El número de meses sin mora en el último año, el sexo y la edad tienen influencia sobre la variable objetivo\n",
    "3. Los días de mora en la tarjeta de crédito (ALTURA_MORA_TDC), el porcentaje de uso de la tarjeta de crédito (UTIL_TDC) y el estrato hacen que el cliente sea más propenso a perderse por mal comportamiento crediticio"
   ]
  },
  {
   "cell_type": "markdown",
   "metadata": {
    "id": "xwcE3iqXIRTZ"
   },
   "source": [
    "# Hipótesis seleccionada\n",
    "La hipótesis seleccionada es la hipótesis #3. Los días de mora en la tarjeta de crédito (ALTURA_MORA_TDC), el porcentaje de uso de la tarjeta de crédito (UTIL_TDC) y el estrato hacen que el cliente sea más propenso a perderse por mal comportamiento crediticio, el modelo seleccionado para validarla es random forest pues se cuenta con el software y los recursos computacionales para implementarlo, conocimiento personal y experiencia con este modelo en casos \n",
    "similares y con resultados satisfactorios."
   ]
  },
  {
   "cell_type": "code",
   "execution_count": null,
   "metadata": {
    "id": "WtQvI8ygLX1Y"
   },
   "outputs": [],
   "source": [
    "df.dropna(inplace=True)"
   ]
  },
  {
   "cell_type": "code",
   "execution_count": null,
   "metadata": {
    "id": "gq7JY4OFKtOY"
   },
   "outputs": [],
   "source": [
    "X = df.drop(\"Y\", axis=1)\n",
    "y = df[\"Y\"]"
   ]
  },
  {
   "cell_type": "code",
   "execution_count": null,
   "metadata": {
    "colab": {
     "base_uri": "https://localhost:8080/",
     "height": 189
    },
    "executionInfo": {
     "elapsed": 117979,
     "status": "ok",
     "timestamp": 1605924182059,
     "user": {
      "displayName": "Carlos Salazar",
      "photoUrl": "https://lh3.googleusercontent.com/a-/AOh14GgH84T2Xvx50f0em9P2Heq7GqAxYodnLZjVFN5iOw=s64",
      "userId": "07587018632810695766"
     },
     "user_tz": 300
    },
    "id": "mcMUkx1DLemt",
    "outputId": "f8c3c346-1dfa-42c6-8552-1e6617191ae4"
   },
   "outputs": [
    {
     "data": {
      "text/html": [
       "<div>\n",
       "<style scoped>\n",
       "    .dataframe tbody tr th:only-of-type {\n",
       "        vertical-align: middle;\n",
       "    }\n",
       "\n",
       "    .dataframe tbody tr th {\n",
       "        vertical-align: top;\n",
       "    }\n",
       "\n",
       "    .dataframe thead th {\n",
       "        text-align: right;\n",
       "    }\n",
       "</style>\n",
       "<table border=\"1\" class=\"dataframe\">\n",
       "  <thead>\n",
       "    <tr style=\"text-align: right;\">\n",
       "      <th></th>\n",
       "      <th>ALTURA_MORA_TDC</th>\n",
       "      <th>HABITO_PAGO_TDC</th>\n",
       "      <th>Edad</th>\n",
       "      <th>UTIL_TDC</th>\n",
       "      <th>SUMA_ALTURA_MORA</th>\n",
       "      <th>NUM_MESES_SIN_MORA_12</th>\n",
       "      <th>estrato</th>\n",
       "      <th>DEPARTAMENTO</th>\n",
       "      <th>ACT_ECO</th>\n",
       "      <th>SEXO</th>\n",
       "      <th>NIVEL_EST</th>\n",
       "    </tr>\n",
       "  </thead>\n",
       "  <tbody>\n",
       "    <tr>\n",
       "      <th>0</th>\n",
       "      <td>0</td>\n",
       "      <td>1</td>\n",
       "      <td>38.0</td>\n",
       "      <td>0.079402</td>\n",
       "      <td>0</td>\n",
       "      <td>9</td>\n",
       "      <td>3.0</td>\n",
       "      <td>Valle del</td>\n",
       "      <td>Empleado Privado</td>\n",
       "      <td>M</td>\n",
       "      <td>Profesional</td>\n",
       "    </tr>\n",
       "    <tr>\n",
       "      <th>1</th>\n",
       "      <td>0</td>\n",
       "      <td>1</td>\n",
       "      <td>41.0</td>\n",
       "      <td>0.000000</td>\n",
       "      <td>0</td>\n",
       "      <td>12</td>\n",
       "      <td>4.0</td>\n",
       "      <td>Bogotá D.C</td>\n",
       "      <td>Empleado Privado</td>\n",
       "      <td>F</td>\n",
       "      <td>Profesional</td>\n",
       "    </tr>\n",
       "    <tr>\n",
       "      <th>2</th>\n",
       "      <td>6</td>\n",
       "      <td>2</td>\n",
       "      <td>45.0</td>\n",
       "      <td>0.280212</td>\n",
       "      <td>6</td>\n",
       "      <td>9</td>\n",
       "      <td>4.0</td>\n",
       "      <td>Bogotá D.C</td>\n",
       "      <td>Empleado Publico</td>\n",
       "      <td>M</td>\n",
       "      <td>Postgrado</td>\n",
       "    </tr>\n",
       "    <tr>\n",
       "      <th>3</th>\n",
       "      <td>0</td>\n",
       "      <td>4</td>\n",
       "      <td>60.0</td>\n",
       "      <td>0.665439</td>\n",
       "      <td>0</td>\n",
       "      <td>12</td>\n",
       "      <td>3.0</td>\n",
       "      <td>Tolima</td>\n",
       "      <td>Pres Servicios</td>\n",
       "      <td>M</td>\n",
       "      <td>Profesional</td>\n",
       "    </tr>\n",
       "    <tr>\n",
       "      <th>4</th>\n",
       "      <td>0</td>\n",
       "      <td>5</td>\n",
       "      <td>61.0</td>\n",
       "      <td>0.987392</td>\n",
       "      <td>0</td>\n",
       "      <td>12</td>\n",
       "      <td>3.0</td>\n",
       "      <td>Bolívar</td>\n",
       "      <td>Empleado Privado</td>\n",
       "      <td>M</td>\n",
       "      <td>Técnico/Tecnológico</td>\n",
       "    </tr>\n",
       "  </tbody>\n",
       "</table>\n",
       "</div>"
      ],
      "text/plain": [
       "   ALTURA_MORA_TDC HABITO_PAGO_TDC  ...  SEXO            NIVEL_EST\n",
       "0                0               1  ...     M          Profesional\n",
       "1                0               1  ...     F          Profesional\n",
       "2                6               2  ...     M            Postgrado\n",
       "3                0               4  ...     M          Profesional\n",
       "4                0               5  ...     M  Técnico/Tecnológico\n",
       "\n",
       "[5 rows x 11 columns]"
      ]
     },
     "execution_count": 125,
     "metadata": {
      "tags": []
     },
     "output_type": "execute_result"
    }
   ],
   "source": [
    "X.head()"
   ]
  },
  {
   "cell_type": "code",
   "execution_count": null,
   "metadata": {
    "id": "RQ78IHGpLg2o"
   },
   "outputs": [],
   "source": [
    "encoder = LabelEncoder()"
   ]
  },
  {
   "cell_type": "code",
   "execution_count": null,
   "metadata": {
    "id": "cu9tIPfTNSys"
   },
   "outputs": [],
   "source": [
    "X[\"HABITO_PAGO_TDC\"] = X[\"HABITO_PAGO_TDC\"].astype(\"int\")"
   ]
  },
  {
   "cell_type": "code",
   "execution_count": null,
   "metadata": {
    "id": "uKLsbHkeLjj-"
   },
   "outputs": [],
   "source": [
    "X[\"DEPARTAMENTO\"] = encoder.fit_transform(X[\"DEPARTAMENTO\"])"
   ]
  },
  {
   "cell_type": "code",
   "execution_count": null,
   "metadata": {
    "id": "S837gj5uLnxh"
   },
   "outputs": [],
   "source": [
    "X[\"ACT_ECO\"] = encoder.fit_transform(X[\"ACT_ECO\"])"
   ]
  },
  {
   "cell_type": "code",
   "execution_count": null,
   "metadata": {
    "id": "VYx2ShyOL2mJ"
   },
   "outputs": [],
   "source": [
    "X[\"SEXO\"] = encoder.fit_transform(X[\"SEXO\"])"
   ]
  },
  {
   "cell_type": "code",
   "execution_count": null,
   "metadata": {
    "id": "KdZOfjTZL72C"
   },
   "outputs": [],
   "source": [
    "X[\"NIVEL_EST\"] = encoder.fit_transform(X[\"NIVEL_EST\"])"
   ]
  },
  {
   "cell_type": "code",
   "execution_count": null,
   "metadata": {
    "colab": {
     "base_uri": "https://localhost:8080/",
     "height": 189
    },
    "executionInfo": {
     "elapsed": 117853,
     "status": "ok",
     "timestamp": 1605924182062,
     "user": {
      "displayName": "Carlos Salazar",
      "photoUrl": "https://lh3.googleusercontent.com/a-/AOh14GgH84T2Xvx50f0em9P2Heq7GqAxYodnLZjVFN5iOw=s64",
      "userId": "07587018632810695766"
     },
     "user_tz": 300
    },
    "id": "MNG82GoKfqmw",
    "outputId": "fee0c1de-ca4b-4304-be29-a3978f7ba504"
   },
   "outputs": [
    {
     "data": {
      "text/html": [
       "<div>\n",
       "<style scoped>\n",
       "    .dataframe tbody tr th:only-of-type {\n",
       "        vertical-align: middle;\n",
       "    }\n",
       "\n",
       "    .dataframe tbody tr th {\n",
       "        vertical-align: top;\n",
       "    }\n",
       "\n",
       "    .dataframe thead th {\n",
       "        text-align: right;\n",
       "    }\n",
       "</style>\n",
       "<table border=\"1\" class=\"dataframe\">\n",
       "  <thead>\n",
       "    <tr style=\"text-align: right;\">\n",
       "      <th></th>\n",
       "      <th>ALTURA_MORA_TDC</th>\n",
       "      <th>HABITO_PAGO_TDC</th>\n",
       "      <th>Edad</th>\n",
       "      <th>UTIL_TDC</th>\n",
       "      <th>SUMA_ALTURA_MORA</th>\n",
       "      <th>NUM_MESES_SIN_MORA_12</th>\n",
       "      <th>estrato</th>\n",
       "      <th>DEPARTAMENTO</th>\n",
       "      <th>ACT_ECO</th>\n",
       "      <th>SEXO</th>\n",
       "      <th>NIVEL_EST</th>\n",
       "    </tr>\n",
       "  </thead>\n",
       "  <tbody>\n",
       "    <tr>\n",
       "      <th>0</th>\n",
       "      <td>0</td>\n",
       "      <td>1</td>\n",
       "      <td>38.0</td>\n",
       "      <td>0.079402</td>\n",
       "      <td>0</td>\n",
       "      <td>9</td>\n",
       "      <td>3.0</td>\n",
       "      <td>17</td>\n",
       "      <td>2</td>\n",
       "      <td>1</td>\n",
       "      <td>3</td>\n",
       "    </tr>\n",
       "    <tr>\n",
       "      <th>1</th>\n",
       "      <td>0</td>\n",
       "      <td>1</td>\n",
       "      <td>41.0</td>\n",
       "      <td>0.000000</td>\n",
       "      <td>0</td>\n",
       "      <td>12</td>\n",
       "      <td>4.0</td>\n",
       "      <td>2</td>\n",
       "      <td>2</td>\n",
       "      <td>0</td>\n",
       "      <td>3</td>\n",
       "    </tr>\n",
       "    <tr>\n",
       "      <th>2</th>\n",
       "      <td>6</td>\n",
       "      <td>2</td>\n",
       "      <td>45.0</td>\n",
       "      <td>0.280212</td>\n",
       "      <td>6</td>\n",
       "      <td>9</td>\n",
       "      <td>4.0</td>\n",
       "      <td>2</td>\n",
       "      <td>3</td>\n",
       "      <td>1</td>\n",
       "      <td>1</td>\n",
       "    </tr>\n",
       "    <tr>\n",
       "      <th>3</th>\n",
       "      <td>0</td>\n",
       "      <td>4</td>\n",
       "      <td>60.0</td>\n",
       "      <td>0.665439</td>\n",
       "      <td>0</td>\n",
       "      <td>12</td>\n",
       "      <td>3.0</td>\n",
       "      <td>16</td>\n",
       "      <td>8</td>\n",
       "      <td>1</td>\n",
       "      <td>3</td>\n",
       "    </tr>\n",
       "    <tr>\n",
       "      <th>4</th>\n",
       "      <td>0</td>\n",
       "      <td>5</td>\n",
       "      <td>61.0</td>\n",
       "      <td>0.987392</td>\n",
       "      <td>0</td>\n",
       "      <td>12</td>\n",
       "      <td>3.0</td>\n",
       "      <td>3</td>\n",
       "      <td>2</td>\n",
       "      <td>1</td>\n",
       "      <td>5</td>\n",
       "    </tr>\n",
       "  </tbody>\n",
       "</table>\n",
       "</div>"
      ],
      "text/plain": [
       "   ALTURA_MORA_TDC  HABITO_PAGO_TDC  Edad  ...  ACT_ECO  SEXO  NIVEL_EST\n",
       "0                0                1  38.0  ...        2     1          3\n",
       "1                0                1  41.0  ...        2     0          3\n",
       "2                6                2  45.0  ...        3     1          1\n",
       "3                0                4  60.0  ...        8     1          3\n",
       "4                0                5  61.0  ...        2     1          5\n",
       "\n",
       "[5 rows x 11 columns]"
      ]
     },
     "execution_count": 132,
     "metadata": {
      "tags": []
     },
     "output_type": "execute_result"
    }
   ],
   "source": [
    "X.head()"
   ]
  },
  {
   "cell_type": "markdown",
   "metadata": {
    "id": "Q7BTQ463N7eY"
   },
   "source": [
    "# Proceso de Contrucción de Modelo\n",
    "1. De acuerdo con nuestras hipótesis de negocio, decidimos utilizar las variables \"estrato\", \"ALTURA_MORA_TDC\" y \"UTIL_TDC\" porque son las que más relevancia van a dar a nuestro análisis.\n",
    "2. Se utilizó un LabelEncoder para transformar variables categóricas de cadenas de caracteres a enteros por categoría. De igual forma, se dividió el dataset usando una partición estratificada.\n",
    "3. Esta separación es importante porque con una parte hacemos el entrenamiento del dataset y con la otra parte validamos que los resultados del entrenamiento hayan sido buenos. Para cada uno de los datos incluimos todas las variables nombradas en el anterior punto.\n",
    "4. Para mejorar el pronóstico entrenamos un RandomForest con datos desbalanceados y con datos balanceados con Resampling. Primero, hicimos una búsqueda en cuadrícula cambiando los parámetros \"n_estimators\", \"criterion\" y \"max_depth\" y verificando el recall durante la búsqueda. Luego, hicimos uso de la función de resample para disminuir el número de muestras con clase negativa y hacer ambas clases balanceadas. Hicimos nuevamente la búsqueda en cuadrícula en búsqueda de los mejores hiperparámetros y al final utilizamos el recall como métrica de validación de los mejores hiperparámetros. "
   ]
  },
  {
   "cell_type": "code",
   "execution_count": null,
   "metadata": {
    "id": "3JFU71AeWnhn"
   },
   "outputs": [],
   "source": [
    "total = pd.concat([X, y], axis=1)"
   ]
  },
  {
   "cell_type": "code",
   "execution_count": null,
   "metadata": {
    "id": "Z5AlIc9MW5wJ"
   },
   "outputs": [],
   "source": [
    "total = total[[\"estrato\", \"ALTURA_MORA_TDC\", \"UTIL_TDC\", \"Y\"]]"
   ]
  },
  {
   "cell_type": "code",
   "execution_count": null,
   "metadata": {
    "id": "Khq24TdqW--M"
   },
   "outputs": [],
   "source": [
    "X = total.drop(\"Y\", axis=1)\n",
    "y = total[\"Y\"]"
   ]
  },
  {
   "cell_type": "code",
   "execution_count": null,
   "metadata": {
    "id": "oz60FMX_OBYJ"
   },
   "outputs": [],
   "source": [
    "sss = StratifiedShuffleSplit(test_size=0.2)"
   ]
  },
  {
   "cell_type": "code",
   "execution_count": null,
   "metadata": {
    "id": "5fmD1Q3TOSbR"
   },
   "outputs": [],
   "source": [
    "for train_index, test_index in sss.split(X, y):\n",
    "    pass"
   ]
  },
  {
   "cell_type": "code",
   "execution_count": null,
   "metadata": {
    "id": "ww2k29gyOXGD"
   },
   "outputs": [],
   "source": [
    "X_train , X_test = X.iloc[train_index], X.iloc[test_index]\n",
    "y_train, y_test = y.iloc[train_index], y.iloc[test_index]"
   ]
  },
  {
   "cell_type": "markdown",
   "metadata": {
    "id": "-c5A6XTRLIP0"
   },
   "source": [
    "### Sin Downsampling"
   ]
  },
  {
   "cell_type": "code",
   "execution_count": null,
   "metadata": {
    "id": "aKgBQX2rJ7Yu"
   },
   "outputs": [],
   "source": [
    "forest_clf = RandomForestClassifier(n_jobs=-1)"
   ]
  },
  {
   "cell_type": "code",
   "execution_count": null,
   "metadata": {
    "colab": {
     "base_uri": "https://localhost:8080/"
    },
    "executionInfo": {
     "elapsed": 117712,
     "status": "ok",
     "timestamp": 1605924182066,
     "user": {
      "displayName": "Carlos Salazar",
      "photoUrl": "https://lh3.googleusercontent.com/a-/AOh14GgH84T2Xvx50f0em9P2Heq7GqAxYodnLZjVFN5iOw=s64",
      "userId": "07587018632810695766"
     },
     "user_tz": 300
    },
    "id": "UYx3hhpVKiVJ",
    "outputId": "937740f9-91fc-4199-a9d6-92b9d4f3852a"
   },
   "outputs": [
    {
     "data": {
      "text/plain": [
       "RandomForestClassifier(bootstrap=True, ccp_alpha=0.0, class_weight=None,\n",
       "                       criterion='gini', max_depth=None, max_features='auto',\n",
       "                       max_leaf_nodes=None, max_samples=None,\n",
       "                       min_impurity_decrease=0.0, min_impurity_split=None,\n",
       "                       min_samples_leaf=1, min_samples_split=2,\n",
       "                       min_weight_fraction_leaf=0.0, n_estimators=100,\n",
       "                       n_jobs=-1, oob_score=False, random_state=None, verbose=0,\n",
       "                       warm_start=False)"
      ]
     },
     "execution_count": 140,
     "metadata": {
      "tags": []
     },
     "output_type": "execute_result"
    }
   ],
   "source": [
    "forest_clf.fit(X_train, y_train)"
   ]
  },
  {
   "cell_type": "code",
   "execution_count": null,
   "metadata": {
    "id": "RZ9XQEiXMCjH"
   },
   "outputs": [],
   "source": [
    "y_pred = forest_clf.predict(X_test)"
   ]
  },
  {
   "cell_type": "code",
   "execution_count": null,
   "metadata": {
    "id": "IMNsNl7rNyZ7"
   },
   "outputs": [],
   "source": [
    "conf_matrix = confusion_matrix(y_test, y_pred)"
   ]
  },
  {
   "cell_type": "code",
   "execution_count": null,
   "metadata": {
    "colab": {
     "base_uri": "https://localhost:8080/",
     "height": 274
    },
    "executionInfo": {
     "elapsed": 117688,
     "status": "ok",
     "timestamp": 1605924182068,
     "user": {
      "displayName": "Carlos Salazar",
      "photoUrl": "https://lh3.googleusercontent.com/a-/AOh14GgH84T2Xvx50f0em9P2Heq7GqAxYodnLZjVFN5iOw=s64",
      "userId": "07587018632810695766"
     },
     "user_tz": 300
    },
    "id": "mwXmcD1VO9cv",
    "outputId": "64306edf-bdf9-4c1e-ea7a-6a42de92160e"
   },
   "outputs": [
    {
     "data": {
      "image/png": "[encoded data removed]",
      "text/plain": [
       "<Figure size 288x288 with 1 Axes>"
      ]
     },
     "metadata": {
      "needs_background": "light",
      "tags": []
     },
     "output_type": "display_data"
    }
   ],
   "source": [
    "plt.matshow(conf_matrix, cmap=\"gray\")\n",
    "plt.show()"
   ]
  },
  {
   "cell_type": "code",
   "execution_count": null,
   "metadata": {
    "id": "SQTmSB8iPbKJ"
   },
   "outputs": [],
   "source": [
    "norm_conf_mat = conf_matrix / conf_matrix.sum(axis=1, keepdims=True)\n",
    "np.fill_diagonal(norm_conf_mat, 0)"
   ]
  },
  {
   "cell_type": "code",
   "execution_count": null,
   "metadata": {
    "colab": {
     "base_uri": "https://localhost:8080/",
     "height": 274
    },
    "executionInfo": {
     "elapsed": 117670,
     "status": "ok",
     "timestamp": 1605924182068,
     "user": {
      "displayName": "Carlos Salazar",
      "photoUrl": "https://lh3.googleusercontent.com/a-/AOh14GgH84T2Xvx50f0em9P2Heq7GqAxYodnLZjVFN5iOw=s64",
      "userId": "07587018632810695766"
     },
     "user_tz": 300
    },
    "id": "ozQ9QGoGPiGx",
    "outputId": "126d860f-9e49-444e-aff4-0f0462885450"
   },
   "outputs": [
    {
     "data": {
      "image/png": "[encoded data removed]",
      "text/plain": [
       "<Figure size 288x288 with 1 Axes>"
      ]
     },
     "metadata": {
      "needs_background": "light",
      "tags": []
     },
     "output_type": "display_data"
    }
   ],
   "source": [
    "plt.matshow(norm_conf_mat, cmap=\"gray\")\n",
    "plt.show()"
   ]
  },
  {
   "cell_type": "code",
   "execution_count": null,
   "metadata": {
    "colab": {
     "base_uri": "https://localhost:8080/"
    },
    "executionInfo": {
     "elapsed": 117660,
     "status": "ok",
     "timestamp": 1605924182069,
     "user": {
      "displayName": "Carlos Salazar",
      "photoUrl": "https://lh3.googleusercontent.com/a-/AOh14GgH84T2Xvx50f0em9P2Heq7GqAxYodnLZjVFN5iOw=s64",
      "userId": "07587018632810695766"
     },
     "user_tz": 300
    },
    "id": "cg1WWmLxPIZo",
    "outputId": "5fa1011d-0967-4ca8-e6c3-a61756af5586"
   },
   "outputs": [
    {
     "data": {
      "text/plain": [
       "0.26"
      ]
     },
     "execution_count": 146,
     "metadata": {
      "tags": []
     },
     "output_type": "execute_result"
    }
   ],
   "source": [
    "recall_score(y_test, y_pred)"
   ]
  },
  {
   "cell_type": "code",
   "execution_count": null,
   "metadata": {
    "colab": {
     "base_uri": "https://localhost:8080/"
    },
    "executionInfo": {
     "elapsed": 117648,
     "status": "ok",
     "timestamp": 1605924182069,
     "user": {
      "displayName": "Carlos Salazar",
      "photoUrl": "https://lh3.googleusercontent.com/a-/AOh14GgH84T2Xvx50f0em9P2Heq7GqAxYodnLZjVFN5iOw=s64",
      "userId": "07587018632810695766"
     },
     "user_tz": 300
    },
    "id": "6j3mzyS3PMj2",
    "outputId": "42e663d3-7af1-4f35-8e61-556bbfcdfab7"
   },
   "outputs": [
    {
     "data": {
      "text/plain": [
       "0.325"
      ]
     },
     "execution_count": 147,
     "metadata": {
      "tags": []
     },
     "output_type": "execute_result"
    }
   ],
   "source": [
    "precision_score(y_test, y_pred)"
   ]
  },
  {
   "cell_type": "code",
   "execution_count": null,
   "metadata": {
    "id": "u2bh7m03QQwt"
   },
   "outputs": [],
   "source": [
    "params = {\n",
    "    \"n_estimators\": range(100, 201, 50),\n",
    "    \"criterion\": [\"gini\", \"entropy\"],\n",
    "    \"max_depth\": range(50, 101, 10)\n",
    "}"
   ]
  },
  {
   "cell_type": "code",
   "execution_count": null,
   "metadata": {
    "id": "h_RDCx6FQpZE"
   },
   "outputs": [],
   "source": [
    "grid_search = GridSearchCV(RandomForestClassifier(), params, scoring=\"recall\", \n",
    "                           n_jobs=-1, verbose=1)"
   ]
  },
  {
   "cell_type": "code",
   "execution_count": null,
   "metadata": {
    "colab": {
     "base_uri": "https://localhost:8080/"
    },
    "executionInfo": {
     "elapsed": 193264,
     "status": "ok",
     "timestamp": 1605924257713,
     "user": {
      "displayName": "Carlos Salazar",
      "photoUrl": "https://lh3.googleusercontent.com/a-/AOh14GgH84T2Xvx50f0em9P2Heq7GqAxYodnLZjVFN5iOw=s64",
      "userId": "07587018632810695766"
     },
     "user_tz": 300
    },
    "id": "T7yVKDx3RBU8",
    "outputId": "d122b2b3-2125-4fa6-8398-f744b059318f"
   },
   "outputs": [
    {
     "name": "stdout",
     "output_type": "stream",
     "text": [
      "Fitting 5 folds for each of 36 candidates, totalling 180 fits\n"
     ]
    },
    {
     "name": "stderr",
     "output_type": "stream",
     "text": [
      "[Parallel(n_jobs=-1)]: Using backend LokyBackend with 2 concurrent workers.\n",
      "[Parallel(n_jobs=-1)]: Done  46 tasks      | elapsed:   19.0s\n",
      "[Parallel(n_jobs=-1)]: Done 180 out of 180 | elapsed:  1.3min finished\n"
     ]
    },
    {
     "data": {
      "text/plain": [
       "GridSearchCV(cv=None, error_score=nan,\n",
       "             estimator=RandomForestClassifier(bootstrap=True, ccp_alpha=0.0,\n",
       "                                              class_weight=None,\n",
       "                                              criterion='gini', max_depth=None,\n",
       "                                              max_features='auto',\n",
       "                                              max_leaf_nodes=None,\n",
       "                                              max_samples=None,\n",
       "                                              min_impurity_decrease=0.0,\n",
       "                                              min_impurity_split=None,\n",
       "                                              min_samples_leaf=1,\n",
       "                                              min_samples_split=2,\n",
       "                                              min_weight_fraction_leaf=0.0,\n",
       "                                              n_estimators=100, n_jobs=None,\n",
       "                                              oob_score=False,\n",
       "                                              random_state=None, verbose=0,\n",
       "                                              warm_start=False),\n",
       "             iid='deprecated', n_jobs=-1,\n",
       "             param_grid={'criterion': ['gini', 'entropy'],\n",
       "                         'max_depth': range(50, 101, 10),\n",
       "                         'n_estimators': range(100, 201, 50)},\n",
       "             pre_dispatch='2*n_jobs', refit=True, return_train_score=False,\n",
       "             scoring='recall', verbose=1)"
      ]
     },
     "execution_count": 150,
     "metadata": {
      "tags": []
     },
     "output_type": "execute_result"
    }
   ],
   "source": [
    "grid_search.fit(X_train, y_train)"
   ]
  },
  {
   "cell_type": "code",
   "execution_count": null,
   "metadata": {
    "colab": {
     "base_uri": "https://localhost:8080/"
    },
    "executionInfo": {
     "elapsed": 193253,
     "status": "ok",
     "timestamp": 1605924257714,
     "user": {
      "displayName": "Carlos Salazar",
      "photoUrl": "https://lh3.googleusercontent.com/a-/AOh14GgH84T2Xvx50f0em9P2Heq7GqAxYodnLZjVFN5iOw=s64",
      "userId": "07587018632810695766"
     },
     "user_tz": 300
    },
    "id": "HGVFcsO3RC46",
    "outputId": "dc395641-ad9a-4d07-9d9b-17ee9cbc680c"
   },
   "outputs": [
    {
     "data": {
      "text/plain": [
       "0.22243589743589745"
      ]
     },
     "execution_count": 151,
     "metadata": {
      "tags": []
     },
     "output_type": "execute_result"
    }
   ],
   "source": [
    "grid_search.best_score_"
   ]
  },
  {
   "cell_type": "code",
   "execution_count": null,
   "metadata": {
    "id": "55fMcx2biG4G"
   },
   "outputs": [],
   "source": [
    "forest_clf = grid_search.best_estimator_"
   ]
  },
  {
   "cell_type": "code",
   "execution_count": null,
   "metadata": {
    "id": "qZxO5MobiG4H"
   },
   "outputs": [],
   "source": [
    "y_pred = forest_clf.predict(X_test)"
   ]
  },
  {
   "cell_type": "code",
   "execution_count": null,
   "metadata": {
    "id": "7EJXZiuqiG4H"
   },
   "outputs": [],
   "source": [
    "conf_matrix = confusion_matrix(y_test, y_pred)"
   ]
  },
  {
   "cell_type": "code",
   "execution_count": null,
   "metadata": {
    "colab": {
     "base_uri": "https://localhost:8080/",
     "height": 274
    },
    "executionInfo": {
     "elapsed": 193238,
     "status": "ok",
     "timestamp": 1605924257716,
     "user": {
      "displayName": "Carlos Salazar",
      "photoUrl": "https://lh3.googleusercontent.com/a-/AOh14GgH84T2Xvx50f0em9P2Heq7GqAxYodnLZjVFN5iOw=s64",
      "userId": "07587018632810695766"
     },
     "user_tz": 300
    },
    "id": "TueohczwiG4H",
    "outputId": "7f44fa37-4183-45e9-e670-d605ea0bfac8"
   },
   "outputs": [
    {
     "data": {
      "image/png": "[encoded data removed]",
      "text/plain": [
       "<Figure size 288x288 with 1 Axes>"
      ]
     },
     "metadata": {
      "needs_background": "light",
      "tags": []
     },
     "output_type": "display_data"
    }
   ],
   "source": [
    "plt.matshow(conf_matrix, cmap=\"gray\")\n",
    "plt.show()"
   ]
  },
  {
   "cell_type": "code",
   "execution_count": null,
   "metadata": {
    "colab": {
     "base_uri": "https://localhost:8080/"
    },
    "executionInfo": {
     "elapsed": 193494,
     "status": "ok",
     "timestamp": 1605924257983,
     "user": {
      "displayName": "Carlos Salazar",
      "photoUrl": "https://lh3.googleusercontent.com/a-/AOh14GgH84T2Xvx50f0em9P2Heq7GqAxYodnLZjVFN5iOw=s64",
      "userId": "07587018632810695766"
     },
     "user_tz": 300
    },
    "id": "Q6xDGp2iiG4I",
    "outputId": "d6337a25-13db-4c9a-fe45-1d7a083b5759"
   },
   "outputs": [
    {
     "data": {
      "text/plain": [
       "0.26"
      ]
     },
     "execution_count": 156,
     "metadata": {
      "tags": []
     },
     "output_type": "execute_result"
    }
   ],
   "source": [
    "recall_score(y_test, y_pred)"
   ]
  },
  {
   "cell_type": "code",
   "execution_count": null,
   "metadata": {
    "colab": {
     "base_uri": "https://localhost:8080/"
    },
    "executionInfo": {
     "elapsed": 193487,
     "status": "ok",
     "timestamp": 1605924257984,
     "user": {
      "displayName": "Carlos Salazar",
      "photoUrl": "https://lh3.googleusercontent.com/a-/AOh14GgH84T2Xvx50f0em9P2Heq7GqAxYodnLZjVFN5iOw=s64",
      "userId": "07587018632810695766"
     },
     "user_tz": 300
    },
    "id": "KwV4s49CiG4I",
    "outputId": "1a7a1d27-aee0-4c12-f23c-1284e03e2b0b"
   },
   "outputs": [
    {
     "data": {
      "text/plain": [
       "0.34210526315789475"
      ]
     },
     "execution_count": 157,
     "metadata": {
      "tags": []
     },
     "output_type": "execute_result"
    }
   ],
   "source": [
    "precision_score(y_test, y_pred)"
   ]
  },
  {
   "cell_type": "markdown",
   "metadata": {
    "id": "BYR5Tpn4LRh0"
   },
   "source": [
    "### Con Downsampling"
   ]
  },
  {
   "cell_type": "code",
   "execution_count": null,
   "metadata": {
    "id": "G4h8mlihTIgt"
   },
   "outputs": [],
   "source": [
    "total_train = pd.concat([X_train, y_train], axis=1)"
   ]
  },
  {
   "cell_type": "code",
   "execution_count": null,
   "metadata": {
    "id": "qStWHRbmTx6v"
   },
   "outputs": [],
   "source": [
    "neg_class = total_train.query(\"Y==0\")\n",
    "pos_class = total_train.query(\"Y==1\")"
   ]
  },
  {
   "cell_type": "code",
   "execution_count": null,
   "metadata": {
    "id": "4eeTz9eFT441"
   },
   "outputs": [],
   "source": [
    "neg_class_downsampled = resample(neg_class, replace=False, \n",
    "                                 n_samples=len(pos_class), random_state=1234)"
   ]
  },
  {
   "cell_type": "code",
   "execution_count": null,
   "metadata": {
    "id": "JQ72xA55UDzt"
   },
   "outputs": [],
   "source": [
    "total_train = pd.concat([pos_class, neg_class_downsampled])"
   ]
  },
  {
   "cell_type": "code",
   "execution_count": null,
   "metadata": {
    "id": "PDPfvOLdUHrr"
   },
   "outputs": [],
   "source": [
    "X_train = total_train.drop(\"Y\", axis=1)\n",
    "y_train = total_train[\"Y\"]"
   ]
  },
  {
   "cell_type": "code",
   "execution_count": null,
   "metadata": {
    "id": "k2JePnFsUMil"
   },
   "outputs": [],
   "source": [
    "grid_search = GridSearchCV(RandomForestClassifier(), params, scoring=\"recall\", \n",
    "                           n_jobs=-1, verbose=1)"
   ]
  },
  {
   "cell_type": "code",
   "execution_count": null,
   "metadata": {
    "colab": {
     "base_uri": "https://localhost:8080/"
    },
    "executionInfo": {
     "elapsed": 230296,
     "status": "ok",
     "timestamp": 1605924294859,
     "user": {
      "displayName": "Carlos Salazar",
      "photoUrl": "https://lh3.googleusercontent.com/a-/AOh14GgH84T2Xvx50f0em9P2Heq7GqAxYodnLZjVFN5iOw=s64",
      "userId": "07587018632810695766"
     },
     "user_tz": 300
    },
    "id": "9VvdbyM-UPGL",
    "outputId": "f7a2eeb2-be0b-488c-9dff-ece1cef7d342"
   },
   "outputs": [
    {
     "name": "stdout",
     "output_type": "stream",
     "text": [
      "Fitting 5 folds for each of 36 candidates, totalling 180 fits\n"
     ]
    },
    {
     "name": "stderr",
     "output_type": "stream",
     "text": [
      "[Parallel(n_jobs=-1)]: Using backend LokyBackend with 2 concurrent workers.\n",
      "[Parallel(n_jobs=-1)]: Done  46 tasks      | elapsed:    9.0s\n",
      "[Parallel(n_jobs=-1)]: Done 180 out of 180 | elapsed:   36.5s finished\n"
     ]
    },
    {
     "data": {
      "text/plain": [
       "GridSearchCV(cv=None, error_score=nan,\n",
       "             estimator=RandomForestClassifier(bootstrap=True, ccp_alpha=0.0,\n",
       "                                              class_weight=None,\n",
       "                                              criterion='gini', max_depth=None,\n",
       "                                              max_features='auto',\n",
       "                                              max_leaf_nodes=None,\n",
       "                                              max_samples=None,\n",
       "                                              min_impurity_decrease=0.0,\n",
       "                                              min_impurity_split=None,\n",
       "                                              min_samples_leaf=1,\n",
       "                                              min_samples_split=2,\n",
       "                                              min_weight_fraction_leaf=0.0,\n",
       "                                              n_estimators=100, n_jobs=None,\n",
       "                                              oob_score=False,\n",
       "                                              random_state=None, verbose=0,\n",
       "                                              warm_start=False),\n",
       "             iid='deprecated', n_jobs=-1,\n",
       "             param_grid={'criterion': ['gini', 'entropy'],\n",
       "                         'max_depth': range(50, 101, 10),\n",
       "                         'n_estimators': range(100, 201, 50)},\n",
       "             pre_dispatch='2*n_jobs', refit=True, return_train_score=False,\n",
       "             scoring='recall', verbose=1)"
      ]
     },
     "execution_count": 164,
     "metadata": {
      "tags": []
     },
     "output_type": "execute_result"
    }
   ],
   "source": [
    "grid_search.fit(X_train, y_train)"
   ]
  },
  {
   "cell_type": "code",
   "execution_count": null,
   "metadata": {
    "colab": {
     "base_uri": "https://localhost:8080/"
    },
    "executionInfo": {
     "elapsed": 230288,
     "status": "ok",
     "timestamp": 1605924294861,
     "user": {
      "displayName": "Carlos Salazar",
      "photoUrl": "https://lh3.googleusercontent.com/a-/AOh14GgH84T2Xvx50f0em9P2Heq7GqAxYodnLZjVFN5iOw=s64",
      "userId": "07587018632810695766"
     },
     "user_tz": 300
    },
    "id": "vRi8Is9kUR_M",
    "outputId": "7dd74fcb-9170-4a62-8050-796c4187b707"
   },
   "outputs": [
    {
     "data": {
      "text/plain": [
       "0.6714102564102563"
      ]
     },
     "execution_count": 165,
     "metadata": {
      "tags": []
     },
     "output_type": "execute_result"
    }
   ],
   "source": [
    "grid_search.best_score_"
   ]
  },
  {
   "cell_type": "code",
   "execution_count": null,
   "metadata": {
    "id": "gK50ToEoVNUU"
   },
   "outputs": [],
   "source": [
    "forest_clf = grid_search.best_estimator_"
   ]
  },
  {
   "cell_type": "code",
   "execution_count": null,
   "metadata": {
    "id": "urOlSUVqVSFq"
   },
   "outputs": [],
   "source": [
    "y_pred = forest_clf.predict(X_test)"
   ]
  },
  {
   "cell_type": "code",
   "execution_count": null,
   "metadata": {
    "id": "_aP02MHYVUnZ"
   },
   "outputs": [],
   "source": [
    "conf_matrix = confusion_matrix(y_test, y_pred)"
   ]
  },
  {
   "cell_type": "code",
   "execution_count": null,
   "metadata": {
    "colab": {
     "base_uri": "https://localhost:8080/",
     "height": 274
    },
    "executionInfo": {
     "elapsed": 230174,
     "status": "ok",
     "timestamp": 1605924294863,
     "user": {
      "displayName": "Carlos Salazar",
      "photoUrl": "https://lh3.googleusercontent.com/a-/AOh14GgH84T2Xvx50f0em9P2Heq7GqAxYodnLZjVFN5iOw=s64",
      "userId": "07587018632810695766"
     },
     "user_tz": 300
    },
    "id": "fx7x_Zu8VXC-",
    "outputId": "79017e96-98ba-4c64-ff72-5d02042ee180"
   },
   "outputs": [
    {
     "data": {
      "image/png": "[encoded data removed]",
      "text/plain": [
       "<Figure size 288x288 with 1 Axes>"
      ]
     },
     "metadata": {
      "needs_background": "light",
      "tags": []
     },
     "output_type": "display_data"
    }
   ],
   "source": [
    "plt.matshow(conf_matrix, cmap=\"gray\")\n",
    "plt.show()"
   ]
  },
  {
   "cell_type": "code",
   "execution_count": null,
   "metadata": {
    "colab": {
     "base_uri": "https://localhost:8080/"
    },
    "executionInfo": {
     "elapsed": 230166,
     "status": "ok",
     "timestamp": 1605924294864,
     "user": {
      "displayName": "Carlos Salazar",
      "photoUrl": "https://lh3.googleusercontent.com/a-/AOh14GgH84T2Xvx50f0em9P2Heq7GqAxYodnLZjVFN5iOw=s64",
      "userId": "07587018632810695766"
     },
     "user_tz": 300
    },
    "id": "rw9U-cZ0VZP2",
    "outputId": "6102bf0c-5cc5-4254-a6db-82c56b4b014a"
   },
   "outputs": [
    {
     "data": {
      "text/plain": [
       "0.7"
      ]
     },
     "execution_count": 170,
     "metadata": {
      "tags": []
     },
     "output_type": "execute_result"
    }
   ],
   "source": [
    "recall_score(y_test, y_pred)"
   ]
  },
  {
   "cell_type": "code",
   "execution_count": null,
   "metadata": {
    "colab": {
     "base_uri": "https://localhost:8080/"
    },
    "executionInfo": {
     "elapsed": 230158,
     "status": "ok",
     "timestamp": 1605924294864,
     "user": {
      "displayName": "Carlos Salazar",
      "photoUrl": "https://lh3.googleusercontent.com/a-/AOh14GgH84T2Xvx50f0em9P2Heq7GqAxYodnLZjVFN5iOw=s64",
      "userId": "07587018632810695766"
     },
     "user_tz": 300
    },
    "id": "Giew7nk-VcTm",
    "outputId": "8e996aa2-0f20-453c-c9a7-7fb53826f1c0"
   },
   "outputs": [
    {
     "data": {
      "text/plain": [
       "0.10736196319018405"
      ]
     },
     "execution_count": 171,
     "metadata": {
      "tags": []
     },
     "output_type": "execute_result"
    }
   ],
   "source": [
    "precision_score(y_test, y_pred)"
   ]
  },
  {
   "cell_type": "markdown",
   "metadata": {
    "id": "Sc_aRVyffxiH"
   },
   "source": [
    "## Evaluación del modelo\n",
    "Creemos que para el negocio es más importante tener un buen recall que una buena precisión pues para el negocio es peor perder un cliente que no se identificó de manera adecuada como cliente propenso a perderse que fallar diciendo que un cliente es un cliente propenso a perderse así no lo sea.\n",
    "\n",
    "Para el primer modelo obtenido sin GridSearch se obtuvo una precisión y recall muy bajos (22% ambos) lo cual no es para nada una herramienta útil para el negocio.\n",
    "\n",
    "\n",
    "Para el segundo modelo se hizo GridSearch de manera que se pudiera encontrar la mejor combinación de hiperparámetros para obtener un buen recall. Sin embargo, este recall solo aumentó un 4% con respecto al primer modelo.\n",
    "\n",
    "\n",
    "Finalmente, se probó haciendo downsampling sobre el conjunto de entrenamiento y se buscó nuevamente con GridSearch la combinación de hiperparámetros que maximizara el recall, el mejor modelo obtenido obtuvo un recall del 70% y una precisión del 10%.\n",
    "\n",
    "Los resultados obtenidos, a pesar de que la métrica a maximizar es el recall, no son del todo buenos pues, para el mejor modelo obtenido (el último), una precisión tan baja no es bien compensada por el recall obtenido y además implica que el modelo es propenso a presentar muchos falsos positivos."
   ]
  },
  {
   "cell_type": "markdown",
   "metadata": {
    "id": "C-yfuEYCYlIi"
   },
   "source": [
    "## Resultados del Negocio en el ejercicio\n",
    "- Los resultados del ejercicio se podrían utilizar en el negocio para descartar las características que tiene un cliente propenso a perderse y más bien establecerlas como las características que tiene un cliente NO propenso.\n",
    "- El modelo obtenido puede ser usado como herramienta. Sin embargo, es muy probable que se clasifiquen demasiados clientes no propensos a perderse como clientes propensos a perderse.\n",
    "- Dado que hubo un alto recall, es muy posible que un cliente con buenas estadísticas sea clasificado como propenso a perderse, lo que podría generar molestias en varios buenos clientes de la agencia. Por lo tanto, es necesario que haya mejor cantidad de datos para que haya una precisión y una cobertura en los resultados de nuestro modelos."
   ]
  },
  {
   "cell_type": "code",
   "execution_count": null,
   "metadata": {
    "id": "lbpyofVAuaqf"
   },
   "outputs": [],
   "source": []
  }
 ],
 "metadata": {
  "colab": {
   "collapsed_sections": [
    "sH75oPfb9-G3"
   ],
   "name": "parcial_2.ipynb",
   "provenance": []
  },
  "kernelspec": {
   "display_name": "Python 3",
   "language": "python",
   "name": "python3"
  },
  "language_info": {
   "codemirror_mode": {
    "name": "ipython",
    "version": 3
   },
   "file_extension": ".py",
   "mimetype": "text/x-python",
   "name": "python",
   "nbconvert_exporter": "python",
   "pygments_lexer": "ipython3",
   "version": "3.8.5"
  },
  "widgets": {
   "application/vnd.jupyter.widget-state+json": {
    "0237f24ea39943a28823937a5be87dca": {
     "model_module": "@jupyter-widgets/controls",
     "model_name": "HTMLModel",
     "state": {
      "_dom_classes": [],
      "_model_module": "@jupyter-widgets/controls",
      "_model_module_version": "1.5.0",
      "_model_name": "HTMLModel",
      "_view_count": null,
      "_view_module": "@jupyter-widgets/controls",
      "_view_module_version": "1.5.0",
      "_view_name": "HTMLView",
      "description": "",
      "description_tooltip": null,
      "layout": "IPY_MODEL_45cde11273a84e1a90ded13a4c2acd14",
      "placeholder": "​",
      "style": "IPY_MODEL_4452166075f5447b8c381613019efc51",
      "value": " 1/1 [00:16&lt;00:00, 16.05s/it]"
     }
    },
    "03afc0a687054230a0ec833ea73c0d17": {
     "model_module": "@jupyter-widgets/base",
     "model_name": "LayoutModel",
     "state": {
      "_model_module": "@jupyter-widgets/base",
      "_model_module_version": "1.2.0",
      "_model_name": "LayoutModel",
      "_view_count": null,
      "_view_module": "@jupyter-widgets/base",
      "_view_module_version": "1.2.0",
      "_view_name": "LayoutView",
      "align_content": null,
      "align_items": null,
      "align_self": null,
      "border": null,
      "bottom": null,
      "display": null,
      "flex": null,
      "flex_flow": null,
      "grid_area": null,
      "grid_auto_columns": null,
      "grid_auto_flow": null,
      "grid_auto_rows": null,
      "grid_column": null,
      "grid_gap": null,
      "grid_row": null,
      "grid_template_areas": null,
      "grid_template_columns": null,
      "grid_template_rows": null,
      "height": null,
      "justify_content": null,
      "justify_items": null,
      "left": null,
      "margin": null,
      "max_height": null,
      "max_width": null,
      "min_height": null,
      "min_width": null,
      "object_fit": null,
      "object_position": null,
      "order": null,
      "overflow": null,
      "overflow_x": null,
      "overflow_y": null,
      "padding": null,
      "right": null,
      "top": null,
      "visibility": null,
      "width": null
     }
    },
    "075fca258d424237ad755c65b207bcd2": {
     "model_module": "@jupyter-widgets/controls",
     "model_name": "HBoxModel",
     "state": {
      "_dom_classes": [],
      "_model_module": "@jupyter-widgets/controls",
      "_model_module_version": "1.5.0",
      "_model_name": "HBoxModel",
      "_view_count": null,
      "_view_module": "@jupyter-widgets/controls",
      "_view_module_version": "1.5.0",
      "_view_name": "HBoxView",
      "box_style": "",
      "children": [
       "IPY_MODEL_d970444d1761426ea09803a22b549992",
       "IPY_MODEL_a1d84be1e748460d95931d96dfa905e9",
       "IPY_MODEL_d2f6c2d1a08943789a3c826d4ca61ff9"
      ],
      "layout": "IPY_MODEL_41ccdc0dc90c45af8a7d70f8761fcf08"
     }
    },
    "08895bb3b5574f70b6854a5f9b2d576a": {
     "model_module": "@jupyter-widgets/controls",
     "model_name": "HBoxModel",
     "state": {
      "_dom_classes": [],
      "_model_module": "@jupyter-widgets/controls",
      "_model_module_version": "1.5.0",
      "_model_name": "HBoxModel",
      "_view_count": null,
      "_view_module": "@jupyter-widgets/controls",
      "_view_module_version": "1.5.0",
      "_view_name": "HBoxView",
      "box_style": "",
      "children": [
       "IPY_MODEL_3e3a35d009b54c168be831286cd42922",
       "IPY_MODEL_1cd1306586484d3da704cb6a031e5e04",
       "IPY_MODEL_0237f24ea39943a28823937a5be87dca"
      ],
      "layout": "IPY_MODEL_12a98c536d7e441eb3269066b4d5f563"
     }
    },
    "0b6f1813336f49baaeaab967e16d46a0": {
     "model_module": "@jupyter-widgets/controls",
     "model_name": "HBoxModel",
     "state": {
      "_dom_classes": [],
      "_model_module": "@jupyter-widgets/controls",
      "_model_module_version": "1.5.0",
      "_model_name": "HBoxModel",
      "_view_count": null,
      "_view_module": "@jupyter-widgets/controls",
      "_view_module_version": "1.5.0",
      "_view_name": "HBoxView",
      "box_style": "",
      "children": [
       "IPY_MODEL_d4a4d91e76804ac98368356ca46a525f",
       "IPY_MODEL_801fa1346b4b44a7b790a0f0193b9f87",
       "IPY_MODEL_389facbb202e4894a1aff769a308407a"
      ],
      "layout": "IPY_MODEL_03afc0a687054230a0ec833ea73c0d17"
     }
    },
    "12a98c536d7e441eb3269066b4d5f563": {
     "model_module": "@jupyter-widgets/base",
     "model_name": "LayoutModel",
     "state": {
      "_model_module": "@jupyter-widgets/base",
      "_model_module_version": "1.2.0",
      "_model_name": "LayoutModel",
      "_view_count": null,
      "_view_module": "@jupyter-widgets/base",
      "_view_module_version": "1.2.0",
      "_view_name": "LayoutView",
      "align_content": null,
      "align_items": null,
      "align_self": null,
      "border": null,
      "bottom": null,
      "display": null,
      "flex": null,
      "flex_flow": null,
      "grid_area": null,
      "grid_auto_columns": null,
      "grid_auto_flow": null,
      "grid_auto_rows": null,
      "grid_column": null,
      "grid_gap": null,
      "grid_row": null,
      "grid_template_areas": null,
      "grid_template_columns": null,
      "grid_template_rows": null,
      "height": null,
      "justify_content": null,
      "justify_items": null,
      "left": null,
      "margin": null,
      "max_height": null,
      "max_width": null,
      "min_height": null,
      "min_width": null,
      "object_fit": null,
      "object_position": null,
      "order": null,
      "overflow": null,
      "overflow_x": null,
      "overflow_y": null,
      "padding": null,
      "right": null,
      "top": null,
      "visibility": null,
      "width": null
     }
    },
    "186a7a845c9d487ba8ae679da1b26c35": {
     "model_module": "@jupyter-widgets/base",
     "model_name": "LayoutModel",
     "state": {
      "_model_module": "@jupyter-widgets/base",
      "_model_module_version": "1.2.0",
      "_model_name": "LayoutModel",
      "_view_count": null,
      "_view_module": "@jupyter-widgets/base",
      "_view_module_version": "1.2.0",
      "_view_name": "LayoutView",
      "align_content": null,
      "align_items": null,
      "align_self": null,
      "border": null,
      "bottom": null,
      "display": null,
      "flex": null,
      "flex_flow": null,
      "grid_area": null,
      "grid_auto_columns": null,
      "grid_auto_flow": null,
      "grid_auto_rows": null,
      "grid_column": null,
      "grid_gap": null,
      "grid_row": null,
      "grid_template_areas": null,
      "grid_template_columns": null,
      "grid_template_rows": null,
      "height": null,
      "justify_content": null,
      "justify_items": null,
      "left": null,
      "margin": null,
      "max_height": null,
      "max_width": null,
      "min_height": null,
      "min_width": null,
      "object_fit": null,
      "object_position": null,
      "order": null,
      "overflow": null,
      "overflow_x": null,
      "overflow_y": null,
      "padding": null,
      "right": null,
      "top": null,
      "visibility": null,
      "width": null
     }
    },
    "1cd1306586484d3da704cb6a031e5e04": {
     "model_module": "@jupyter-widgets/controls",
     "model_name": "FloatProgressModel",
     "state": {
      "_dom_classes": [],
      "_model_module": "@jupyter-widgets/controls",
      "_model_module_version": "1.5.0",
      "_model_name": "FloatProgressModel",
      "_view_count": null,
      "_view_module": "@jupyter-widgets/controls",
      "_view_module_version": "1.5.0",
      "_view_name": "ProgressView",
      "bar_style": "success",
      "description": "",
      "description_tooltip": null,
      "layout": "IPY_MODEL_7152fc97c17a4574ad117372ef5ecf38",
      "max": 1,
      "min": 0,
      "orientation": "horizontal",
      "style": "IPY_MODEL_74387bbfe01b4415802ec0b9cfa05fbf",
      "value": 1
     }
    },
    "2bc685881df04dcc98e67a1b0d202029": {
     "model_module": "@jupyter-widgets/controls",
     "model_name": "DescriptionStyleModel",
     "state": {
      "_model_module": "@jupyter-widgets/controls",
      "_model_module_version": "1.5.0",
      "_model_name": "DescriptionStyleModel",
      "_view_count": null,
      "_view_module": "@jupyter-widgets/base",
      "_view_module_version": "1.2.0",
      "_view_name": "StyleView",
      "description_width": ""
     }
    },
    "3607295757e8425bbbd5b60e7d64372c": {
     "model_module": "@jupyter-widgets/controls",
     "model_name": "DescriptionStyleModel",
     "state": {
      "_model_module": "@jupyter-widgets/controls",
      "_model_module_version": "1.5.0",
      "_model_name": "DescriptionStyleModel",
      "_view_count": null,
      "_view_module": "@jupyter-widgets/base",
      "_view_module_version": "1.2.0",
      "_view_name": "StyleView",
      "description_width": ""
     }
    },
    "366e72c598714da097ed84befe768aaa": {
     "model_module": "@jupyter-widgets/controls",
     "model_name": "ProgressStyleModel",
     "state": {
      "_model_module": "@jupyter-widgets/controls",
      "_model_module_version": "1.5.0",
      "_model_name": "ProgressStyleModel",
      "_view_count": null,
      "_view_module": "@jupyter-widgets/base",
      "_view_module_version": "1.2.0",
      "_view_name": "StyleView",
      "bar_color": null,
      "description_width": ""
     }
    },
    "389facbb202e4894a1aff769a308407a": {
     "model_module": "@jupyter-widgets/controls",
     "model_name": "HTMLModel",
     "state": {
      "_dom_classes": [],
      "_model_module": "@jupyter-widgets/controls",
      "_model_module_version": "1.5.0",
      "_model_name": "HTMLModel",
      "_view_count": null,
      "_view_module": "@jupyter-widgets/controls",
      "_view_module_version": "1.5.0",
      "_view_name": "HTMLView",
      "description": "",
      "description_tooltip": null,
      "layout": "IPY_MODEL_5e9816f9459945e18fb529bd861faf06",
      "placeholder": "​",
      "style": "IPY_MODEL_92c8417e251d48d1ba82c8c4ea5a4408",
      "value": " 1/1 [00:06&lt;00:00,  6.72s/it]"
     }
    },
    "3e3a35d009b54c168be831286cd42922": {
     "model_module": "@jupyter-widgets/controls",
     "model_name": "HTMLModel",
     "state": {
      "_dom_classes": [],
      "_model_module": "@jupyter-widgets/controls",
      "_model_module_version": "1.5.0",
      "_model_name": "HTMLModel",
      "_view_count": null,
      "_view_module": "@jupyter-widgets/controls",
      "_view_module_version": "1.5.0",
      "_view_name": "HTMLView",
      "description": "",
      "description_tooltip": null,
      "layout": "IPY_MODEL_72f335c437be497187463b97e27559bf",
      "placeholder": "​",
      "style": "IPY_MODEL_89dca242c6714132a188cb02005b9ec1",
      "value": "Generate report structure: 100%"
     }
    },
    "41ccdc0dc90c45af8a7d70f8761fcf08": {
     "model_module": "@jupyter-widgets/base",
     "model_name": "LayoutModel",
     "state": {
      "_model_module": "@jupyter-widgets/base",
      "_model_module_version": "1.2.0",
      "_model_name": "LayoutModel",
      "_view_count": null,
      "_view_module": "@jupyter-widgets/base",
      "_view_module_version": "1.2.0",
      "_view_name": "LayoutView",
      "align_content": null,
      "align_items": null,
      "align_self": null,
      "border": null,
      "bottom": null,
      "display": null,
      "flex": null,
      "flex_flow": null,
      "grid_area": null,
      "grid_auto_columns": null,
      "grid_auto_flow": null,
      "grid_auto_rows": null,
      "grid_column": null,
      "grid_gap": null,
      "grid_row": null,
      "grid_template_areas": null,
      "grid_template_columns": null,
      "grid_template_rows": null,
      "height": null,
      "justify_content": null,
      "justify_items": null,
      "left": null,
      "margin": null,
      "max_height": null,
      "max_width": null,
      "min_height": null,
      "min_width": null,
      "object_fit": null,
      "object_position": null,
      "order": null,
      "overflow": null,
      "overflow_x": null,
      "overflow_y": null,
      "padding": null,
      "right": null,
      "top": null,
      "visibility": null,
      "width": null
     }
    },
    "4452166075f5447b8c381613019efc51": {
     "model_module": "@jupyter-widgets/controls",
     "model_name": "DescriptionStyleModel",
     "state": {
      "_model_module": "@jupyter-widgets/controls",
      "_model_module_version": "1.5.0",
      "_model_name": "DescriptionStyleModel",
      "_view_count": null,
      "_view_module": "@jupyter-widgets/base",
      "_view_module_version": "1.2.0",
      "_view_name": "StyleView",
      "description_width": ""
     }
    },
    "45cde11273a84e1a90ded13a4c2acd14": {
     "model_module": "@jupyter-widgets/base",
     "model_name": "LayoutModel",
     "state": {
      "_model_module": "@jupyter-widgets/base",
      "_model_module_version": "1.2.0",
      "_model_name": "LayoutModel",
      "_view_count": null,
      "_view_module": "@jupyter-widgets/base",
      "_view_module_version": "1.2.0",
      "_view_name": "LayoutView",
      "align_content": null,
      "align_items": null,
      "align_self": null,
      "border": null,
      "bottom": null,
      "display": null,
      "flex": null,
      "flex_flow": null,
      "grid_area": null,
      "grid_auto_columns": null,
      "grid_auto_flow": null,
      "grid_auto_rows": null,
      "grid_column": null,
      "grid_gap": null,
      "grid_row": null,
      "grid_template_areas": null,
      "grid_template_columns": null,
      "grid_template_rows": null,
      "height": null,
      "justify_content": null,
      "justify_items": null,
      "left": null,
      "margin": null,
      "max_height": null,
      "max_width": null,
      "min_height": null,
      "min_width": null,
      "object_fit": null,
      "object_position": null,
      "order": null,
      "overflow": null,
      "overflow_x": null,
      "overflow_y": null,
      "padding": null,
      "right": null,
      "top": null,
      "visibility": null,
      "width": null
     }
    },
    "5dc076f2106b48ef986782b0dd71f6d0": {
     "model_module": "@jupyter-widgets/base",
     "model_name": "LayoutModel",
     "state": {
      "_model_module": "@jupyter-widgets/base",
      "_model_module_version": "1.2.0",
      "_model_name": "LayoutModel",
      "_view_count": null,
      "_view_module": "@jupyter-widgets/base",
      "_view_module_version": "1.2.0",
      "_view_name": "LayoutView",
      "align_content": null,
      "align_items": null,
      "align_self": null,
      "border": null,
      "bottom": null,
      "display": null,
      "flex": null,
      "flex_flow": null,
      "grid_area": null,
      "grid_auto_columns": null,
      "grid_auto_flow": null,
      "grid_auto_rows": null,
      "grid_column": null,
      "grid_gap": null,
      "grid_row": null,
      "grid_template_areas": null,
      "grid_template_columns": null,
      "grid_template_rows": null,
      "height": null,
      "justify_content": null,
      "justify_items": null,
      "left": null,
      "margin": null,
      "max_height": null,
      "max_width": null,
      "min_height": null,
      "min_width": null,
      "object_fit": null,
      "object_position": null,
      "order": null,
      "overflow": null,
      "overflow_x": null,
      "overflow_y": null,
      "padding": null,
      "right": null,
      "top": null,
      "visibility": null,
      "width": null
     }
    },
    "5e9816f9459945e18fb529bd861faf06": {
     "model_module": "@jupyter-widgets/base",
     "model_name": "LayoutModel",
     "state": {
      "_model_module": "@jupyter-widgets/base",
      "_model_module_version": "1.2.0",
      "_model_name": "LayoutModel",
      "_view_count": null,
      "_view_module": "@jupyter-widgets/base",
      "_view_module_version": "1.2.0",
      "_view_name": "LayoutView",
      "align_content": null,
      "align_items": null,
      "align_self": null,
      "border": null,
      "bottom": null,
      "display": null,
      "flex": null,
      "flex_flow": null,
      "grid_area": null,
      "grid_auto_columns": null,
      "grid_auto_flow": null,
      "grid_auto_rows": null,
      "grid_column": null,
      "grid_gap": null,
      "grid_row": null,
      "grid_template_areas": null,
      "grid_template_columns": null,
      "grid_template_rows": null,
      "height": null,
      "justify_content": null,
      "justify_items": null,
      "left": null,
      "margin": null,
      "max_height": null,
      "max_width": null,
      "min_height": null,
      "min_width": null,
      "object_fit": null,
      "object_position": null,
      "order": null,
      "overflow": null,
      "overflow_x": null,
      "overflow_y": null,
      "padding": null,
      "right": null,
      "top": null,
      "visibility": null,
      "width": null
     }
    },
    "7152fc97c17a4574ad117372ef5ecf38": {
     "model_module": "@jupyter-widgets/base",
     "model_name": "LayoutModel",
     "state": {
      "_model_module": "@jupyter-widgets/base",
      "_model_module_version": "1.2.0",
      "_model_name": "LayoutModel",
      "_view_count": null,
      "_view_module": "@jupyter-widgets/base",
      "_view_module_version": "1.2.0",
      "_view_name": "LayoutView",
      "align_content": null,
      "align_items": null,
      "align_self": null,
      "border": null,
      "bottom": null,
      "display": null,
      "flex": null,
      "flex_flow": null,
      "grid_area": null,
      "grid_auto_columns": null,
      "grid_auto_flow": null,
      "grid_auto_rows": null,
      "grid_column": null,
      "grid_gap": null,
      "grid_row": null,
      "grid_template_areas": null,
      "grid_template_columns": null,
      "grid_template_rows": null,
      "height": null,
      "justify_content": null,
      "justify_items": null,
      "left": null,
      "margin": null,
      "max_height": null,
      "max_width": null,
      "min_height": null,
      "min_width": null,
      "object_fit": null,
      "object_position": null,
      "order": null,
      "overflow": null,
      "overflow_x": null,
      "overflow_y": null,
      "padding": null,
      "right": null,
      "top": null,
      "visibility": null,
      "width": null
     }
    },
    "72f335c437be497187463b97e27559bf": {
     "model_module": "@jupyter-widgets/base",
     "model_name": "LayoutModel",
     "state": {
      "_model_module": "@jupyter-widgets/base",
      "_model_module_version": "1.2.0",
      "_model_name": "LayoutModel",
      "_view_count": null,
      "_view_module": "@jupyter-widgets/base",
      "_view_module_version": "1.2.0",
      "_view_name": "LayoutView",
      "align_content": null,
      "align_items": null,
      "align_self": null,
      "border": null,
      "bottom": null,
      "display": null,
      "flex": null,
      "flex_flow": null,
      "grid_area": null,
      "grid_auto_columns": null,
      "grid_auto_flow": null,
      "grid_auto_rows": null,
      "grid_column": null,
      "grid_gap": null,
      "grid_row": null,
      "grid_template_areas": null,
      "grid_template_columns": null,
      "grid_template_rows": null,
      "height": null,
      "justify_content": null,
      "justify_items": null,
      "left": null,
      "margin": null,
      "max_height": null,
      "max_width": null,
      "min_height": null,
      "min_width": null,
      "object_fit": null,
      "object_position": null,
      "order": null,
      "overflow": null,
      "overflow_x": null,
      "overflow_y": null,
      "padding": null,
      "right": null,
      "top": null,
      "visibility": null,
      "width": null
     }
    },
    "74387bbfe01b4415802ec0b9cfa05fbf": {
     "model_module": "@jupyter-widgets/controls",
     "model_name": "ProgressStyleModel",
     "state": {
      "_model_module": "@jupyter-widgets/controls",
      "_model_module_version": "1.5.0",
      "_model_name": "ProgressStyleModel",
      "_view_count": null,
      "_view_module": "@jupyter-widgets/base",
      "_view_module_version": "1.2.0",
      "_view_name": "StyleView",
      "bar_color": null,
      "description_width": ""
     }
    },
    "790a30582115434f9dc24d26bfc7071e": {
     "model_module": "@jupyter-widgets/controls",
     "model_name": "ProgressStyleModel",
     "state": {
      "_model_module": "@jupyter-widgets/controls",
      "_model_module_version": "1.5.0",
      "_model_name": "ProgressStyleModel",
      "_view_count": null,
      "_view_module": "@jupyter-widgets/base",
      "_view_module_version": "1.2.0",
      "_view_name": "StyleView",
      "bar_color": null,
      "description_width": ""
     }
    },
    "7dc029ac7cf34c1eb8989c889c4159fa": {
     "model_module": "@jupyter-widgets/base",
     "model_name": "LayoutModel",
     "state": {
      "_model_module": "@jupyter-widgets/base",
      "_model_module_version": "1.2.0",
      "_model_name": "LayoutModel",
      "_view_count": null,
      "_view_module": "@jupyter-widgets/base",
      "_view_module_version": "1.2.0",
      "_view_name": "LayoutView",
      "align_content": null,
      "align_items": null,
      "align_self": null,
      "border": null,
      "bottom": null,
      "display": null,
      "flex": null,
      "flex_flow": null,
      "grid_area": null,
      "grid_auto_columns": null,
      "grid_auto_flow": null,
      "grid_auto_rows": null,
      "grid_column": null,
      "grid_gap": null,
      "grid_row": null,
      "grid_template_areas": null,
      "grid_template_columns": null,
      "grid_template_rows": null,
      "height": null,
      "justify_content": null,
      "justify_items": null,
      "left": null,
      "margin": null,
      "max_height": null,
      "max_width": null,
      "min_height": null,
      "min_width": null,
      "object_fit": null,
      "object_position": null,
      "order": null,
      "overflow": null,
      "overflow_x": null,
      "overflow_y": null,
      "padding": null,
      "right": null,
      "top": null,
      "visibility": null,
      "width": null
     }
    },
    "801fa1346b4b44a7b790a0f0193b9f87": {
     "model_module": "@jupyter-widgets/controls",
     "model_name": "FloatProgressModel",
     "state": {
      "_dom_classes": [],
      "_model_module": "@jupyter-widgets/controls",
      "_model_module_version": "1.5.0",
      "_model_name": "FloatProgressModel",
      "_view_count": null,
      "_view_module": "@jupyter-widgets/controls",
      "_view_module_version": "1.5.0",
      "_view_name": "ProgressView",
      "bar_style": "success",
      "description": "",
      "description_tooltip": null,
      "layout": "IPY_MODEL_fb4886bb946143238ab6e32cccd3085e",
      "max": 1,
      "min": 0,
      "orientation": "horizontal",
      "style": "IPY_MODEL_790a30582115434f9dc24d26bfc7071e",
      "value": 1
     }
    },
    "89dca242c6714132a188cb02005b9ec1": {
     "model_module": "@jupyter-widgets/controls",
     "model_name": "DescriptionStyleModel",
     "state": {
      "_model_module": "@jupyter-widgets/controls",
      "_model_module_version": "1.5.0",
      "_model_name": "DescriptionStyleModel",
      "_view_count": null,
      "_view_module": "@jupyter-widgets/base",
      "_view_module_version": "1.2.0",
      "_view_name": "StyleView",
      "description_width": ""
     }
    },
    "92c8417e251d48d1ba82c8c4ea5a4408": {
     "model_module": "@jupyter-widgets/controls",
     "model_name": "DescriptionStyleModel",
     "state": {
      "_model_module": "@jupyter-widgets/controls",
      "_model_module_version": "1.5.0",
      "_model_name": "DescriptionStyleModel",
      "_view_count": null,
      "_view_module": "@jupyter-widgets/base",
      "_view_module_version": "1.2.0",
      "_view_name": "StyleView",
      "description_width": ""
     }
    },
    "a1d84be1e748460d95931d96dfa905e9": {
     "model_module": "@jupyter-widgets/controls",
     "model_name": "FloatProgressModel",
     "state": {
      "_dom_classes": [],
      "_model_module": "@jupyter-widgets/controls",
      "_model_module_version": "1.5.0",
      "_model_name": "FloatProgressModel",
      "_view_count": null,
      "_view_module": "@jupyter-widgets/controls",
      "_view_module_version": "1.5.0",
      "_view_name": "ProgressView",
      "bar_style": "success",
      "description": "",
      "description_tooltip": null,
      "layout": "IPY_MODEL_7dc029ac7cf34c1eb8989c889c4159fa",
      "max": 46,
      "min": 0,
      "orientation": "horizontal",
      "style": "IPY_MODEL_366e72c598714da097ed84befe768aaa",
      "value": 46
     }
    },
    "a884c33e1b55496cab914a4db66288ee": {
     "model_module": "@jupyter-widgets/controls",
     "model_name": "DescriptionStyleModel",
     "state": {
      "_model_module": "@jupyter-widgets/controls",
      "_model_module_version": "1.5.0",
      "_model_name": "DescriptionStyleModel",
      "_view_count": null,
      "_view_module": "@jupyter-widgets/base",
      "_view_module_version": "1.2.0",
      "_view_name": "StyleView",
      "description_width": ""
     }
    },
    "d2f6c2d1a08943789a3c826d4ca61ff9": {
     "model_module": "@jupyter-widgets/controls",
     "model_name": "HTMLModel",
     "state": {
      "_dom_classes": [],
      "_model_module": "@jupyter-widgets/controls",
      "_model_module_version": "1.5.0",
      "_model_name": "HTMLModel",
      "_view_count": null,
      "_view_module": "@jupyter-widgets/controls",
      "_view_module_version": "1.5.0",
      "_view_name": "HTMLView",
      "description": "",
      "description_tooltip": null,
      "layout": "IPY_MODEL_e4004c6331404d9cad93e417c0b33355",
      "placeholder": "​",
      "style": "IPY_MODEL_2bc685881df04dcc98e67a1b0d202029",
      "value": " 46/46 [01:24&lt;00:00,  1.83s/it, Completed]"
     }
    },
    "d4a4d91e76804ac98368356ca46a525f": {
     "model_module": "@jupyter-widgets/controls",
     "model_name": "HTMLModel",
     "state": {
      "_dom_classes": [],
      "_model_module": "@jupyter-widgets/controls",
      "_model_module_version": "1.5.0",
      "_model_name": "HTMLModel",
      "_view_count": null,
      "_view_module": "@jupyter-widgets/controls",
      "_view_module_version": "1.5.0",
      "_view_name": "HTMLView",
      "description": "",
      "description_tooltip": null,
      "layout": "IPY_MODEL_186a7a845c9d487ba8ae679da1b26c35",
      "placeholder": "​",
      "style": "IPY_MODEL_a884c33e1b55496cab914a4db66288ee",
      "value": "Render HTML: 100%"
     }
    },
    "d970444d1761426ea09803a22b549992": {
     "model_module": "@jupyter-widgets/controls",
     "model_name": "HTMLModel",
     "state": {
      "_dom_classes": [],
      "_model_module": "@jupyter-widgets/controls",
      "_model_module_version": "1.5.0",
      "_model_name": "HTMLModel",
      "_view_count": null,
      "_view_module": "@jupyter-widgets/controls",
      "_view_module_version": "1.5.0",
      "_view_name": "HTMLView",
      "description": "",
      "description_tooltip": null,
      "layout": "IPY_MODEL_5dc076f2106b48ef986782b0dd71f6d0",
      "placeholder": "​",
      "style": "IPY_MODEL_3607295757e8425bbbd5b60e7d64372c",
      "value": "Summarize dataset: 100%"
     }
    },
    "e4004c6331404d9cad93e417c0b33355": {
     "model_module": "@jupyter-widgets/base",
     "model_name": "LayoutModel",
     "state": {
      "_model_module": "@jupyter-widgets/base",
      "_model_module_version": "1.2.0",
      "_model_name": "LayoutModel",
      "_view_count": null,
      "_view_module": "@jupyter-widgets/base",
      "_view_module_version": "1.2.0",
      "_view_name": "LayoutView",
      "align_content": null,
      "align_items": null,
      "align_self": null,
      "border": null,
      "bottom": null,
      "display": null,
      "flex": null,
      "flex_flow": null,
      "grid_area": null,
      "grid_auto_columns": null,
      "grid_auto_flow": null,
      "grid_auto_rows": null,
      "grid_column": null,
      "grid_gap": null,
      "grid_row": null,
      "grid_template_areas": null,
      "grid_template_columns": null,
      "grid_template_rows": null,
      "height": null,
      "justify_content": null,
      "justify_items": null,
      "left": null,
      "margin": null,
      "max_height": null,
      "max_width": null,
      "min_height": null,
      "min_width": null,
      "object_fit": null,
      "object_position": null,
      "order": null,
      "overflow": null,
      "overflow_x": null,
      "overflow_y": null,
      "padding": null,
      "right": null,
      "top": null,
      "visibility": null,
      "width": null
     }
    },
    "fb4886bb946143238ab6e32cccd3085e": {
     "model_module": "@jupyter-widgets/base",
     "model_name": "LayoutModel",
     "state": {
      "_model_module": "@jupyter-widgets/base",
      "_model_module_version": "1.2.0",
      "_model_name": "LayoutModel",
      "_view_count": null,
      "_view_module": "@jupyter-widgets/base",
      "_view_module_version": "1.2.0",
      "_view_name": "LayoutView",
      "align_content": null,
      "align_items": null,
      "align_self": null,
      "border": null,
      "bottom": null,
      "display": null,
      "flex": null,
      "flex_flow": null,
      "grid_area": null,
      "grid_auto_columns": null,
      "grid_auto_flow": null,
      "grid_auto_rows": null,
      "grid_column": null,
      "grid_gap": null,
      "grid_row": null,
      "grid_template_areas": null,
      "grid_template_columns": null,
      "grid_template_rows": null,
      "height": null,
      "justify_content": null,
      "justify_items": null,
      "left": null,
      "margin": null,
      "max_height": null,
      "max_width": null,
      "min_height": null,
      "min_width": null,
      "object_fit": null,
      "object_position": null,
      "order": null,
      "overflow": null,
      "overflow_x": null,
      "overflow_y": null,
      "padding": null,
      "right": null,
      "top": null,
      "visibility": null,
      "width": null
     }
    }
   }
  }
 },
 "nbformat": 4,
 "nbformat_minor": 1
}
