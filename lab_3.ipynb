{
 "cells": [
  {
   "cell_type": "markdown",
   "metadata": {
    "colab_type": "text",
    "id": "jv1w83fE9KKL"
   },
   "source": [
    "## **Bienvenido a la tercera práctica de Jupyter Notebook**\n",
    "\n",
    "<table align=\"left\">\n",
    "  <td>\n",
    "    <a target=\"_blank\" href=\"https://colab.research.google.com/github/jpcano1/MINE-4101-tareas/blob/master/lab_3.ipynb\"><img src=\"https://www.tensorflow.org/images/colab_logo_32px.png\"/>Run in Google Colab</a>\n",
    "  </td>\n",
    "</table>"
   ]
  },
  {
   "cell_type": "markdown",
   "metadata": {
    "colab_type": "text",
    "id": "grxFWLea9KKM"
   },
   "source": [
    "## **Caso**\n",
    "- Teniendo en cuenta los datos recopilados de la encuesta Nacional de uso del tiempo-ENUT¹, utilizados en la tarea anterior:\n",
    "    1. Plantea las hipótesis de negocio que permitan profundizar el objetivo principal de ENUT (ver sección 1.2 objetivos del Manual de conceptos básicos ENUT²).\n",
    "    2. Identifique las variables que considere necesarias para dar respuesta a estas hipótesis y construya el respectivo dataframe. Puede utilizar todas las fuentes disponibles que se encuentran en la página del DANE\n",
    "    3. Realice un estudio de calidad de datos sobre el dataframe consolidado en el punto anterior, para ello, utilice los conceptos vistos en clase (ejemplo: completitud).\n",
    "    4. Realice un análisis estadístico univariado que permita validar las hipótesis planteadas en el punto 1 y presente las respectivas conclusiones.\n",
    "    \n",
    "> ¹http://microdatos.dane.gov.co/index.php/catalog/214/get_microdata\n",
    "\n",
    "> ²http://microdatos.dane.gov.co/index.php/catalog/214/related_materials\n",
    "\n",
    "***\n",
    "\n",
    "- **Objetivo General**:\n",
    "\n",
    "La encuesta Nacional del Uso del Tiempo, es una investigación desarrollada por el DANE, con el fin de generar información sobre el tiempo dedicado por la   población de 10 años y más a actividades de trabajo y personales\n",
    "\n",
    "- **Objetivos específicos**:\n",
    "    1. Proporcionar información para la construcción de la cuenta satélite de trabajo no remunerado.\n",
    "    2. Producir información para la formulación, seguimiento y evaluación de la política pública con enfoque de género.\n",
    "    3. Proporcionar información para la formulación, seguimiento y evaluación de la política pública en temas relacionados con el uso del tiempo.\n",
    "\n",
    "## **1. Hipótesis de Trabajo**\n",
    "- El estrato influye en el número de horas trabajadas a la semana\n",
    "- Dependiendo del estrato, se sabrá si el usuario vive con el papá o la mamá\n",
    "- Dependiendo de la región del país, se tendrán o no usuarios con contratos laborales."
   ]
  },
  {
   "cell_type": "markdown",
   "metadata": {
    "colab_type": "text",
    "id": "mSRNhSX9fDGb"
   },
   "source": [
    "## **2. Indentificación de Variables**"
   ]
  },
  {
   "cell_type": "code",
   "execution_count": null,
   "metadata": {
    "colab": {},
    "colab_type": "code",
    "id": "AWWdPMIFYhTm"
   },
   "outputs": [],
   "source": [
    "!pip install -q pyreadstat\n",
    "!pip install -q https://github.com/pandas-profiling/pandas-profiling/archive/master.zip"
   ]
  },
  {
   "cell_type": "code",
   "execution_count": 22,
   "metadata": {
    "colab": {},
    "colab_type": "code",
    "id": "mhj_6ROyYkfh"
   },
   "outputs": [],
   "source": [
    "import pandas as pd\n",
    "import numpy as np\n",
    "\n",
    "import requests\n",
    "\n",
    "import seaborn as sns\n",
    "import matplotlib.pyplot as plt\n",
    "plt.style.use(\"ggplot\")\n",
    "\n",
    "import pandas_profiling"
   ]
  },
  {
   "cell_type": "markdown",
   "metadata": {
    "colab_type": "text",
    "id": "iWlx8EcJfIad"
   },
   "source": [
    "### **Obtención de Datos**"
   ]
  },
  {
   "cell_type": "code",
   "execution_count": null,
   "metadata": {
    "colab": {},
    "colab_type": "code",
    "id": "imgPF96hZbmy"
   },
   "outputs": [],
   "source": [
    "# condiciones_vivienda.sav\n",
    "url_condiciones = \"https://docs.google.com/uc?export=download&id=1NR-vs40PQp4_YypFxcL0S3Hz-MvT0Tsr\" \n",
    "\n",
    "# fuerza_trabajo.sav\n",
    "url_fuerza = \"https://docs.google.com/uc?export=download&id=1yR5I34jRgLYfpt5VCi7JjEFDwJ-ypqcd\" \n",
    "\n",
    "# composicion_hogar.sav\n",
    "url_composicion = \"https://docs.google.com/uc?export=download&id=1d-Fgbxd3M886CjJKTyMyy3iH1hgGErVw\""
   ]
  },
  {
   "cell_type": "code",
   "execution_count": 3,
   "metadata": {
    "colab": {},
    "colab_type": "code",
    "id": "6GpNU4s8ZAOD"
   },
   "outputs": [],
   "source": [
    "def null_percentage(df, int_mode=False):\n",
    "    \"\"\"\n",
    "    :param df:\n",
    "    :param int_mode:\n",
    "    :return:\n",
    "    \"\"\"\n",
    "    null_percentages = dict()\n",
    "    for col in df.columns:\n",
    "        percentage = df[col].isna().sum() * 100\n",
    "        percentage /= df.shape[0]\n",
    "        if not int_mode:\n",
    "            percentage = f\"{percentage}% of null values\"\n",
    "        null_percentages[col] = percentage\n",
    "    return null_percentages\n",
    "\n",
    "def download_content(url, filename=\"image.jpg\"):\n",
    "    \"\"\"\n",
    "    Función que se encarga de descargar un archivo deseado\n",
    "    :param url: la url de descarga\n",
    "    :param filename: El nombre del archivo\n",
    "    \"\"\"\n",
    "    r = requests.get(url)\n",
    "    with open(filename, \"wb\") as f:\n",
    "        f.write(r.content)\n",
    "    return\n",
    "\n",
    "def drop_null_column(df, drop_perc=85):\n",
    "    \"\"\"\n",
    "    :param df:\n",
    "    :return:\n",
    "    \"\"\"\n",
    "    null_perc = null_percentage(df, int_mode=True)\n",
    "    for col in df.columns:\n",
    "        if null_perc[col] > drop_perc:\n",
    "            df.drop(columns=col, inplace=True)"
   ]
  },
  {
   "cell_type": "code",
   "execution_count": null,
   "metadata": {
    "colab": {},
    "colab_type": "code",
    "id": "RtduiW_raBrd"
   },
   "outputs": [],
   "source": [
    "download_content(url_condiciones, \"condiciones_vivienda.sav\")\n",
    "download_content(url_fuerza, \"fuerza_trabajo.sav\")\n",
    "download_content(url_composicion, \"composicion_hogar.sav\")"
   ]
  },
  {
   "cell_type": "code",
   "execution_count": null,
   "metadata": {
    "colab": {},
    "colab_type": "code",
    "id": "FQHDJr4vY2tJ"
   },
   "outputs": [],
   "source": [
    "data_condiciones = pd.read_spss(\"condiciones_vivienda.sav\")\n",
    "data_fuerza = pd.read_spss(\"fuerza_trabajo.sav\")\n",
    "data_composicion = pd.read_spss(\"composicion_hogar.sav\")"
   ]
  },
  {
   "cell_type": "code",
   "execution_count": null,
   "metadata": {
    "colab": {},
    "colab_type": "code",
    "id": "CBNtnt-kYujL"
   },
   "outputs": [],
   "source": [
    "columns_condiciones = {\n",
    "    \"FEX_C\": \"factores_expansion\",\n",
    "    \"P424\": \"tipo_vivienda\",\n",
    "    \"P4030S1\": \"energia_electrica\",\n",
    "    \"P4030S1A1\": \"estrato\",\n",
    "    \"P4030S5\": \"acueducto\",\n",
    "    \"P4030S3\": \"alcantarillado\",\n",
    "    \"P4030S4\": \"recoleccion_basuras\",\n",
    "    \"P4030S4A1\": \"dias_x_semana\",\n",
    "    \"P4030S2\": \"gas_natural_dom\",\n",
    "    \"P4020\": \"material_pisos\",\n",
    "    \"DIA_REFERENCIA_2\": \"dia_referencia\"\n",
    "}"
   ]
  },
  {
   "cell_type": "code",
   "execution_count": null,
   "metadata": {
    "colab": {},
    "colab_type": "code",
    "id": "MioHPSz5a8CT"
   },
   "outputs": [],
   "source": [
    "columns_fuerza = {\n",
    "    'P1099S1': 'horas_ida',\n",
    "    'P1099S2': 'minutos_ida',\n",
    "    'P1145': 'ganancia_ayudas',\n",
    "    'P1150': 'trabajo_dia',\n",
    "    'P1150S1': 'horas_trabajo',\n",
    "    'P1150S2': 'minutos_trabajo',\n",
    "    'P1151': 'horas_semana',\n",
    "    'P427': 'este_trabajo',\n",
    "    'P428': 'numero_personas',\n",
    "    'P6250': 'empleo_secundario',\n",
    "    'P6370S1': 'oficio_princ',\n",
    "    'P6390S1': 'rama_princ',\n",
    "    'P6400': 'misma_empresa',\n",
    "    'P6426': 'cantidad_tiempo',\n",
    "    'P6440': 'contrato',\n",
    "    'P6500': 'ganancias_mes_pasado',\n",
    "    'P6510': 'ganancia_jubilacion',\n",
    "    'P6545': 'ganancia_arriendo',\n",
    "    'P6750': 'ganancia_neta_mes_pasado',\n",
    "    'P6760': 'numero_meses',\n",
    "    'P6880': 'lugar_trabajo'\n",
    " }"
   ]
  },
  {
   "cell_type": "code",
   "execution_count": null,
   "metadata": {
    "colab": {},
    "colab_type": "code",
    "id": "MrTpAsMdeqeK"
   },
   "outputs": [],
   "source": [
    "columns_composicion = {\n",
    "    'P1172': 'vive_conyuge',\n",
    "    'P1172S1': 'numero_orden',\n",
    "    'P1173': 'se_reconoce',\n",
    "    'P1174': 'comparte_jefatura',\n",
    "    'P425': 'parentesco_jefe',\n",
    "    'P426': 'estado_civil',\n",
    "    'P5754': 'vive_con_padre',\n",
    "    'P5754S2': 'numero_orden_padre',\n",
    "    'P5762': 'vive_con_madre',\n",
    "    'P5762S2': 'numero_orden_madre',\n",
    "    'P6020': 'sexo',\n",
    "    'P6040': 'edad'\n",
    " }"
   ]
  },
  {
   "cell_type": "markdown",
   "metadata": {
    "colab_type": "text",
    "id": "5e-LQn7nfLuv"
   },
   "source": [
    "### **Limpieza de datos**"
   ]
  },
  {
   "cell_type": "code",
   "execution_count": null,
   "metadata": {
    "colab": {},
    "colab_type": "code",
    "id": "XY9BUOW9dUnD"
   },
   "outputs": [],
   "source": [
    "drop_null_column(data_condiciones)\n",
    "drop_null_column(data_fuerza)\n",
    "drop_null_column(data_composicion)"
   ]
  },
  {
   "cell_type": "code",
   "execution_count": null,
   "metadata": {
    "colab": {},
    "colab_type": "code",
    "id": "RfNVym8HbJnX"
   },
   "outputs": [],
   "source": [
    "data_condiciones.rename(columns=columns_condiciones, inplace=True)\n",
    "data_condiciones.rename(columns=lambda x: x.lower(), inplace=True)\n",
    "\n",
    "data_fuerza.rename(columns=columns_fuerza, inplace=True)\n",
    "data_fuerza.rename(columns=lambda x: x.lower(), inplace=True)\n",
    "\n",
    "data_composicion.rename(columns=columns_composicion, inplace=True)\n",
    "data_composicion.rename(columns=lambda x: x.lower(), inplace=True)"
   ]
  },
  {
   "cell_type": "code",
   "execution_count": null,
   "metadata": {
    "colab": {},
    "colab_type": "code",
    "id": "6XZKfBYse3de"
   },
   "outputs": [],
   "source": [
    "variables_fuerza = [\n",
    "    \"directorio\", \"contrato\", \"horas_semana\", \n",
    "    \"empleo_secundario\"\n",
    "]\n",
    "\n",
    "variables_condiciones = [\n",
    "    \"directorio\",  \"estrato\", \"region\", \"acueducto\",\n",
    "    \"alcantarillado\", \"gas_natural_dom\"\n",
    "]\n",
    "\n",
    "variables_composicion = [\n",
    "    \"directorio\", \"vive_con_padre\", \n",
    "    \"vive_con_madre\"\n",
    "]"
   ]
  },
  {
   "cell_type": "code",
   "execution_count": null,
   "metadata": {
    "colab": {},
    "colab_type": "code",
    "id": "Q-9rU4L9fka3"
   },
   "outputs": [],
   "source": [
    "data_condiciones = data_condiciones[variables_condiciones]\n",
    "data_fuerza = data_fuerza[variables_fuerza]\n",
    "data_composicion = data_composicion[variables_composicion]"
   ]
  },
  {
   "cell_type": "code",
   "execution_count": null,
   "metadata": {
    "colab": {},
    "colab_type": "code",
    "id": "CIEpfd-WgQIO"
   },
   "outputs": [],
   "source": [
    "final_data = pd.merge(data_condiciones, \n",
    "                    data_fuerza, \n",
    "                    how=\"inner\", \n",
    "                    on=\"directorio\")\n",
    "final_data = pd.merge(final_data, data_composicion, \n",
    "                    how=\"inner\", on=\"directorio\")"
   ]
  },
  {
   "cell_type": "code",
   "execution_count": null,
   "metadata": {
    "colab": {},
    "colab_type": "code",
    "id": "yigUE3DfnSBV"
   },
   "outputs": [],
   "source": [
    "final_data.to_pickle(\"final_data.pkl.gz\", compression=\"gzip\")"
   ]
  },
  {
   "cell_type": "markdown",
   "metadata": {
    "colab_type": "text",
    "id": "BR-E9Jk5j5-h"
   },
   "source": [
    "## **3. Estudio de Calidad de los Datos**\n",
    "- **Completitud**"
   ]
  },
  {
   "cell_type": "code",
   "execution_count": 4,
   "metadata": {
    "colab": {},
    "colab_type": "code",
    "id": "yJ0bPBdigxDo"
   },
   "outputs": [],
   "source": [
    "# final_data.pkl.gz\n",
    "url_final_data = \"https://docs.google.com/uc?export=download&id=1tQXOJsLhus-F8r_J4605lKYfXNERrviW\""
   ]
  },
  {
   "cell_type": "code",
   "execution_count": 5,
   "metadata": {
    "colab": {},
    "colab_type": "code",
    "id": "7kGsB9v3n_Wh"
   },
   "outputs": [],
   "source": [
    "download_content(url_final_data, \"final_data.pkl.gz\")"
   ]
  },
  {
   "cell_type": "code",
   "execution_count": 6,
   "metadata": {
    "colab": {},
    "colab_type": "code",
    "id": "G6pOb9A-lyRq"
   },
   "outputs": [],
   "source": [
    "final_data = pd.read_pickle(\"final_data.pkl.gz\")"
   ]
  },
  {
   "cell_type": "code",
   "execution_count": 7,
   "metadata": {
    "colab": {
     "base_uri": "https://localhost:8080/",
     "height": 204
    },
    "colab_type": "code",
    "id": "tqlqtPsCoEtk",
    "outputId": "b60c18cc-3075-4e6f-d73f-275c14bc22dd"
   },
   "outputs": [
    {
     "data": {
      "text/html": [
       "<div>\n",
       "<style scoped>\n",
       "    .dataframe tbody tr th:only-of-type {\n",
       "        vertical-align: middle;\n",
       "    }\n",
       "\n",
       "    .dataframe tbody tr th {\n",
       "        vertical-align: top;\n",
       "    }\n",
       "\n",
       "    .dataframe thead th {\n",
       "        text-align: right;\n",
       "    }\n",
       "</style>\n",
       "<table border=\"1\" class=\"dataframe\">\n",
       "  <thead>\n",
       "    <tr style=\"text-align: right;\">\n",
       "      <th></th>\n",
       "      <th>directorio</th>\n",
       "      <th>estrato</th>\n",
       "      <th>region</th>\n",
       "      <th>acueducto</th>\n",
       "      <th>alcantarillado</th>\n",
       "      <th>gas_natural_dom</th>\n",
       "      <th>contrato</th>\n",
       "      <th>horas_semana</th>\n",
       "      <th>empleo_secundario</th>\n",
       "      <th>vive_con_padre</th>\n",
       "      <th>vive_con_madre</th>\n",
       "    </tr>\n",
       "  </thead>\n",
       "  <tbody>\n",
       "    <tr>\n",
       "      <th>0</th>\n",
       "      <td>2915591.0</td>\n",
       "      <td>3.0</td>\n",
       "      <td>Central</td>\n",
       "      <td>Sí</td>\n",
       "      <td>Sí</td>\n",
       "      <td>Sí</td>\n",
       "      <td>No.</td>\n",
       "      <td>4.0</td>\n",
       "      <td>No</td>\n",
       "      <td>No</td>\n",
       "      <td>No</td>\n",
       "    </tr>\n",
       "    <tr>\n",
       "      <th>1</th>\n",
       "      <td>2915592.0</td>\n",
       "      <td>1.0</td>\n",
       "      <td>Pacífica</td>\n",
       "      <td>No</td>\n",
       "      <td>No</td>\n",
       "      <td>No</td>\n",
       "      <td>No.</td>\n",
       "      <td>12.0</td>\n",
       "      <td>No</td>\n",
       "      <td>No</td>\n",
       "      <td>No</td>\n",
       "    </tr>\n",
       "    <tr>\n",
       "      <th>2</th>\n",
       "      <td>2915593.0</td>\n",
       "      <td>1.0</td>\n",
       "      <td>Central</td>\n",
       "      <td>Sí</td>\n",
       "      <td>Sí</td>\n",
       "      <td>Sí</td>\n",
       "      <td>No.</td>\n",
       "      <td>30.0</td>\n",
       "      <td>No</td>\n",
       "      <td>No</td>\n",
       "      <td>No</td>\n",
       "    </tr>\n",
       "    <tr>\n",
       "      <th>3</th>\n",
       "      <td>2915593.0</td>\n",
       "      <td>1.0</td>\n",
       "      <td>Central</td>\n",
       "      <td>Sí</td>\n",
       "      <td>Sí</td>\n",
       "      <td>Sí</td>\n",
       "      <td>No.</td>\n",
       "      <td>30.0</td>\n",
       "      <td>No</td>\n",
       "      <td>No</td>\n",
       "      <td>Sí</td>\n",
       "    </tr>\n",
       "    <tr>\n",
       "      <th>4</th>\n",
       "      <td>2915593.0</td>\n",
       "      <td>1.0</td>\n",
       "      <td>Central</td>\n",
       "      <td>Sí</td>\n",
       "      <td>Sí</td>\n",
       "      <td>Sí</td>\n",
       "      <td>No.</td>\n",
       "      <td>30.0</td>\n",
       "      <td>No</td>\n",
       "      <td>No</td>\n",
       "      <td>Sí</td>\n",
       "    </tr>\n",
       "  </tbody>\n",
       "</table>\n",
       "</div>"
      ],
      "text/plain": [
       "   directorio  estrato  ... vive_con_padre vive_con_madre\n",
       "0   2915591.0      3.0  ...             No             No\n",
       "1   2915592.0      1.0  ...             No             No\n",
       "2   2915593.0      1.0  ...             No             No\n",
       "3   2915593.0      1.0  ...             No             Sí\n",
       "4   2915593.0      1.0  ...             No             Sí\n",
       "\n",
       "[5 rows x 11 columns]"
      ]
     },
     "execution_count": 7,
     "metadata": {
      "tags": []
     },
     "output_type": "execute_result"
    }
   ],
   "source": [
    "final_data.head()"
   ]
  },
  {
   "cell_type": "code",
   "execution_count": 8,
   "metadata": {
    "colab": {},
    "colab_type": "code",
    "id": "xpzzUCgqpoGE"
   },
   "outputs": [],
   "source": [
    "def complete_percentage(df, int_mode=False):\n",
    "    comp_perc = {}\n",
    "    for col in df:\n",
    "        perc = df[col].count() * 100\n",
    "        perc /= df.shape[0]\n",
    "        if int_mode:\n",
    "            comp_perc[col] = perc\n",
    "        else:\n",
    "            comp_perc[col] = f\"{perc}% of non-null values\"\n",
    "    return comp_perc"
   ]
  },
  {
   "cell_type": "code",
   "execution_count": 9,
   "metadata": {
    "colab": {},
    "colab_type": "code",
    "id": "sMaTJmKkq4Tv"
   },
   "outputs": [],
   "source": [
    "final_data_null = complete_percentage(final_data)"
   ]
  },
  {
   "cell_type": "code",
   "execution_count": 10,
   "metadata": {
    "colab": {
     "base_uri": "https://localhost:8080/",
     "height": 204
    },
    "colab_type": "code",
    "id": "0xEny1Xqrne3",
    "outputId": "1c7fa871-c394-465f-c679-23f497321fe7"
   },
   "outputs": [
    {
     "data": {
      "text/plain": [
       "{'acueducto': '100.0% of non-null values',\n",
       " 'alcantarillado': '100.0% of non-null values',\n",
       " 'contrato': '49.3623921186081% of non-null values',\n",
       " 'directorio': '100.0% of non-null values',\n",
       " 'empleo_secundario': '49.3623921186081% of non-null values',\n",
       " 'estrato': '98.20557595073386% of non-null values',\n",
       " 'gas_natural_dom': '100.0% of non-null values',\n",
       " 'horas_semana': '49.3623921186081% of non-null values',\n",
       " 'region': '100.0% of non-null values',\n",
       " 'vive_con_madre': '100.0% of non-null values',\n",
       " 'vive_con_padre': '100.0% of non-null values'}"
      ]
     },
     "execution_count": 10,
     "metadata": {
      "tags": []
     },
     "output_type": "execute_result"
    }
   ],
   "source": [
    "final_data_null"
   ]
  },
  {
   "cell_type": "markdown",
   "metadata": {
    "colab_type": "text",
    "id": "zysK8fnp6_IO"
   },
   "source": [
    "- **Exactitud**"
   ]
  },
  {
   "cell_type": "code",
   "execution_count": 13,
   "metadata": {
    "colab": {
     "base_uri": "https://localhost:8080/",
     "height": 680
    },
    "colab_type": "code",
    "id": "UR8SUKZQroRP",
    "outputId": "59a8613e-2cff-439f-e907-0d775eb29646"
   },
   "outputs": [
    {
     "name": "stdout",
     "output_type": "stream",
     "text": [
      "directorio\n",
      "[2915591. 2915592. 2915593. ... 2965178. 2965179. 2965180.]\n",
      "estrato\n",
      "[ 3.  1.  2.  4.  0. nan  5.  9.  6.]\n",
      "region\n",
      "[Central, Pacífica, Oriental, Atlántica, San Andrés, Bogotá]\n",
      "Categories (6, object): [Central, Pacífica, Oriental, Atlántica, San Andrés, Bogotá]\n",
      "acueducto\n",
      "[Sí, No]\n",
      "Categories (2, object): [Sí, No]\n",
      "alcantarillado\n",
      "[Sí, No]\n",
      "Categories (2, object): [Sí, No]\n",
      "gas_natural_dom\n",
      "[Sí, No]\n",
      "Categories (2, object): [Sí, No]\n",
      "contrato\n",
      "[No., NaN, Sí]\n",
      "Categories (2, object): [No., Sí]\n",
      "horas_semana\n",
      "[  4.  12.  30.  nan  25.  20.  45.  48.  40.  75.  50.  70.   8.  54.\n",
      "  36.  44.   6.  21.  84.  14.  10.  28.  56.   9.  18.  55.  96.  42.\n",
      "  60.  35. 100.  72.  98.  80.  11.  24.  49.  77.  27.  46.  63.  32.\n",
      "  64.  31. 105.  37.   3.  16.  15.  71.  59. 126.  58.   5.   7.  33.\n",
      "   1. 112.   2.  66.  38.  52.  68.  85.  78.  22.  76.  90.  53.  83.\n",
      "  86. 140.  43.  67.  39.  65.  17.  62.  92.  41. 119.  23.  95.  79.\n",
      "  91. 110. 108.  51.  73.  47.  13.  89. 120. 107.  19.  82.  57.  97.\n",
      "  94.  87.  61. 114. 133.  81.  74.  29.  26. 102.  34. 104.  69.  88.\n",
      " 115. 118. 116.  93. 132. 117. 101. 136. 103. 127. 123. 106. 125. 109.\n",
      " 128. 113.  99. 130.]\n",
      "empleo_secundario\n",
      "[No, NaN, Sí]\n",
      "Categories (2, object): [No, Sí]\n",
      "vive_con_padre\n",
      "[No, Sí, Fallecido]\n",
      "Categories (3, object): [No, Sí, Fallecido]\n",
      "vive_con_madre\n",
      "[No, Sí, Fallecida]\n",
      "Categories (3, object): [No, Sí, Fallecida]\n"
     ]
    }
   ],
   "source": [
    "for col in final_data:\n",
    "    print(f\"{col}\\n{final_data[col].unique()}\")"
   ]
  },
  {
   "cell_type": "code",
   "execution_count": 15,
   "metadata": {
    "colab": {},
    "colab_type": "code",
    "id": "__rUSSkL7dBW"
   },
   "outputs": [],
   "source": [
    "final_data = final_data.query(\"estrato!=9\")"
   ]
  },
  {
   "cell_type": "markdown",
   "metadata": {
    "colab_type": "text",
    "id": "csc7vp2M9UGy"
   },
   "source": [
    "## **Análisis estadístico univariado**"
   ]
  },
  {
   "cell_type": "markdown",
   "metadata": {},
   "source": [
    "- Como se puede observar, más que todo en estratos 1, 2, 3, 4, y 5, las personas suelen trabajar más horas a la semana."
   ]
  },
  {
   "cell_type": "code",
   "execution_count": null,
   "metadata": {
    "colab": {
     "base_uri": "https://localhost:8080/",
     "height": 299
    },
    "colab_type": "code",
    "id": "kFSKKjZO71l-",
    "outputId": "b3772e68-60dd-4d12-cdf9-2ba7674b8ad0"
   },
   "outputs": [
    {
     "data": {
      "image/png": "[encoded data removed]",
      "text/plain": [
       "<Figure size 432x288 with 1 Axes>"
      ]
     },
     "metadata": {
      "tags": []
     },
     "output_type": "display_data"
    }
   ],
   "source": [
    "sns.violinplot(x=final_data[\"estrato\"], y=final_data[\"horas_semana\"])\n",
    "plt.xlabel(\"Estrato\")\n",
    "plt.ylabel(\"Horas por Semana\")\n",
    "plt.title(\"Trabajo de Horas a la Semana con Respecto al Estrato\")\n",
    "plt.show()"
   ]
  },
  {
   "cell_type": "markdown",
   "metadata": {},
   "source": [
    "- De igual forma, también se ve que hay mayor incidencia en usuarios de estrato 1 y 2 que viven con sus padres."
   ]
  },
  {
   "cell_type": "code",
   "execution_count": 55,
   "metadata": {
    "colab": {
     "base_uri": "https://localhost:8080/",
     "height": 386
    },
    "colab_type": "code",
    "id": "m7o5F4ZVEv_X",
    "outputId": "0511d82e-b39e-4a57-c881-6899be54d9a7"
   },
   "outputs": [
    {
     "data": {
      "image/png": "[encoded data removed]",
      "text/plain": [
       "<Figure size 360x360 with 1 Axes>"
      ]
     },
     "metadata": {
      "tags": []
     },
     "output_type": "display_data"
    }
   ],
   "source": [
    "ax = sns.catplot(\"vive_con_padre\", kind=\"count\", \n",
    "                 hue=\"estrato\", data=final_data, legend=False)\n",
    "ax.set_xlabels(\"Vive con Padre\")\n",
    "ax.set_ylabels(\"Número de Ocurrencias\")\n",
    "plt.legend(loc=\"best\", fontsize=15, title=\"Estrato\", \n",
    "           prop={'size': 12}, bbox_to_anchor=(1.3, 1))\n",
    "plt.title(\"Cantidad de Personas que Viven con el Padre\")\n",
    "plt.show()"
   ]
  },
  {
   "cell_type": "code",
   "execution_count": 82,
   "metadata": {
    "colab": {
     "base_uri": "https://localhost:8080/",
     "height": 384
    },
    "colab_type": "code",
    "id": "Wg0NFVPdGU3g",
    "outputId": "912538c1-b146-4edb-9095-6231449e2755"
   },
   "outputs": [
    {
     "data": {
      "image/png": "[encoded data removed]",
      "text/plain": [
       "<Figure size 360x360 with 1 Axes>"
      ]
     },
     "metadata": {
      "tags": []
     },
     "output_type": "display_data"
    }
   ],
   "source": [
    "ax = sns.catplot(\"vive_con_madre\", kind=\"count\", \n",
    "                 hue=\"estrato\", data=final_data, legend=False)\n",
    "ax.set_xlabels(\"Vive con Madre\")\n",
    "ax.set_ylabels(\"Número de Ocurrencias\")\n",
    "plt.legend(loc=\"best\", fontsize=15, title=\"Estrato\", \n",
    "           prop={'size': 12}, bbox_to_anchor=(1.3, 1))\n",
    "plt.title(\"Cantidad de Personas que Viven con la Madre\")\n",
    "plt.show()"
   ]
  },
  {
   "cell_type": "markdown",
   "metadata": {},
   "source": [
    "- Finalmente, podemos ver que en la región Atlántica, la región central y la pacífica se cuenta con mayor número de usuarios sin un contrato laboral. Lo que puede indicar índices de informalidad en el trabajo."
   ]
  },
  {
   "cell_type": "code",
   "execution_count": 83,
   "metadata": {
    "colab": {
     "base_uri": "https://localhost:8080/",
     "height": 386
    },
    "colab_type": "code",
    "id": "woLy_bInIkHB",
    "outputId": "e8b248c4-25c8-4a6f-823b-e07e41a74b27"
   },
   "outputs": [
    {
     "data": {
      "image/png": "[encoded data removed]",
      "text/plain": [
       "<Figure size 360x360 with 1 Axes>"
      ]
     },
     "metadata": {
      "tags": []
     },
     "output_type": "display_data"
    }
   ],
   "source": [
    "ax = sns.catplot(\"contrato\", kind=\"count\", hue=\"region\", \n",
    "                 data=final_data, legend=False)\n",
    "ax.set_xlabels(\"Contrato\")\n",
    "ax.set_ylabels(\"Número de Ocurrencias\")\n",
    "plt.legend(loc=\"best\", fontsize=15, title=\"Región\", \n",
    "           prop={'size': 12}, bbox_to_anchor=(1.45, 1))\n",
    "plt.title(\"Cantidad de Personas que Trabajan Bajo Contrato Laboral\")\n",
    "plt.show()"
   ]
  },
  {
   "cell_type": "code",
   "execution_count": null,
   "metadata": {
    "colab": {},
    "colab_type": "code",
    "id": "sTOoXs2UJW9U"
   },
   "outputs": [],
   "source": []
  }
 ],
 "metadata": {
  "colab": {
   "name": "lab_3.ipynb",
   "provenance": []
  },
  "kernelspec": {
   "display_name": "ds_venv",
   "language": "python",
   "name": "ds_venv"
  },
  "language_info": {
   "codemirror_mode": {
    "name": "ipython",
    "version": 3
   },
   "file_extension": ".py",
   "mimetype": "text/x-python",
   "name": "python",
   "nbconvert_exporter": "python",
   "pygments_lexer": "ipython3",
   "version": "3.8.2"
  }
 },
 "nbformat": 4,
 "nbformat_minor": 1
}
