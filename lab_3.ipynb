{
  "nbformat": 4,
  "nbformat_minor": 0,
  "metadata": {
    "kernelspec": {
      "display_name": "Python 3",
      "language": "python",
      "name": "python3"
    },
    "language_info": {
      "codemirror_mode": {
        "name": "ipython",
        "version": 3
      },
      "file_extension": ".py",
      "mimetype": "text/x-python",
      "name": "python",
      "nbconvert_exporter": "python",
      "pygments_lexer": "ipython3",
      "version": "3.8.2"
    },
    "colab": {
      "name": "lab_3.ipynb",
      "provenance": []
    }
  },
  "cells": [
    {
      "cell_type": "markdown",
      "metadata": {
        "id": "jv1w83fE9KKL",
        "colab_type": "text"
      },
      "source": [
        "## **Bienvenido a la tercera práctica de Jupyter Notebook**\n",
        "\n",
        "<table align=\"left\">\n",
        "  <td>\n",
        "    <a target=\"_blank\" href=\"https://colab.research.google.com/github/jpcano1/MINE-4101-tareas/blob/master/lab_3.ipynb\"><img src=\"https://www.tensorflow.org/images/colab_logo_32px.png\"/>Run in Google Colab</a>\n",
        "  </td>\n",
        "</table>"
      ]
    },
    {
      "cell_type": "markdown",
      "metadata": {
        "id": "grxFWLea9KKM",
        "colab_type": "text"
      },
      "source": [
        "## **Caso**\n",
        "- Teniendo en cuenta los datos recopilados de la encuesta Nacional de uso del tiempo-ENUT¹, utilizados en la tarea anterior:\n",
        "    1. Plantea las hipótesis de negocio que permitan profundizar el objetivo principal de ENUT (ver sección 1.2 objetivos del Manual de conceptos básicos ENUT²).\n",
        "    2. Identifique las variables que considere necesarias para dar respuesta a estas hipótesis y construya el respectivo dataframe. Puede utilizar todas las fuentes disponibles que se encuentran en la página del DANE\n",
        "    3. Realice un estudio de calidad de datos sobre el dataframe consolidado en el punto anterior, para ello, utilice los conceptos vistos en clase (ejemplo: completitud).\n",
        "    4. Realice un análisis estadístico univariado que permita validar las hipótesis planteadas en el punto 1 y presente las respectivas conclusiones.\n",
        "    \n",
        "> ¹http://microdatos.dane.gov.co/index.php/catalog/214/get_microdata\n",
        "\n",
        "> ²http://microdatos.dane.gov.co/index.php/catalog/214/related_materials\n",
        "\n",
        "***\n",
        "\n",
        "- **Objetivo General**:\n",
        "\n",
        "La encuesta Nacional del Uso del Tiempo, es una investigación desarrollada por el DANE, con el fin de generar información sobre el tiempo dedicado por la   población de 10 años y más a actividades de trabajo y personales\n",
        "\n",
        "- **Objetivos específicos**:\n",
        "    1. Proporcionar información para la construcción de la cuenta satélite de trabajo no remunerado.\n",
        "    2. Producir información para la formulación, seguimiento y evaluación de la política pública con enfoque de género.\n",
        "    3. Proporcionar información para la formulación, seguimiento y evaluación de la política pública en temas relacionados con el uso del tiempo.\n",
        "\n",
        "## **1. Hipótesis de Trabajo**\n",
        "- El estrato influye en el número de horas trabajadas a la semana\n",
        "- Dependiendo del estrato, se sabrá si el usuario vive con el papá o la mamá\n",
        "- Dependiendo de la región del país, se tendrá o no un sistema de acueducto.\n",
        "- (Plan B) Dependiendo del estrato se sabrá si el usuario cuenta con un trabajo secundario."
      ]
    },
    {
      "cell_type": "markdown",
      "metadata": {
        "id": "mSRNhSX9fDGb",
        "colab_type": "text"
      },
      "source": [
        "## **2. Indentificación de Variables**"
      ]
    },
    {
      "cell_type": "code",
      "metadata": {
        "id": "AWWdPMIFYhTm",
        "colab_type": "code",
        "colab": {}
      },
      "source": [
        "!pip install -q pyreadstat\n",
        "!pip install -q https://github.com/pandas-profiling/pandas-profiling/archive/master.zip"
      ],
      "execution_count": null,
      "outputs": []
    },
    {
      "cell_type": "code",
      "metadata": {
        "id": "mhj_6ROyYkfh",
        "colab_type": "code",
        "colab": {}
      },
      "source": [
        "import pandas as pd\n",
        "import numpy as np\n",
        "\n",
        "import requests\n",
        "\n",
        "import seaborn as sns\n",
        "import matplotlib.pyplot as plt\n",
        "plt.style.use(\"ggplot\")\n",
        "\n",
        "import pandas_profiling"
      ],
      "execution_count": 12,
      "outputs": []
    },
    {
      "cell_type": "markdown",
      "metadata": {
        "id": "iWlx8EcJfIad",
        "colab_type": "text"
      },
      "source": [
        "### **Obtención de Datos**"
      ]
    },
    {
      "cell_type": "code",
      "metadata": {
        "id": "imgPF96hZbmy",
        "colab_type": "code",
        "colab": {}
      },
      "source": [
        "# condiciones_vivienda.sav\n",
        "url_condiciones = \"https://docs.google.com/uc?export=download&id=1NR-vs40PQp4_YypFxcL0S3Hz-MvT0Tsr\" \n",
        "\n",
        "# fuerza_trabajo.sav\n",
        "url_fuerza = \"https://docs.google.com/uc?export=download&id=1yR5I34jRgLYfpt5VCi7JjEFDwJ-ypqcd\" \n",
        "\n",
        "# composicion_hogar.sav\n",
        "url_composicion = \"https://docs.google.com/uc?export=download&id=1d-Fgbxd3M886CjJKTyMyy3iH1hgGErVw\""
      ],
      "execution_count": 75,
      "outputs": []
    },
    {
      "cell_type": "code",
      "metadata": {
        "id": "6GpNU4s8ZAOD",
        "colab_type": "code",
        "colab": {}
      },
      "source": [
        "def null_percentage(df, int_mode=False):\n",
        "    \"\"\"\n",
        "    :param df:\n",
        "    :param int_mode:\n",
        "    :return:\n",
        "    \"\"\"\n",
        "    null_percentages = dict()\n",
        "    for col in df.columns:\n",
        "        percentage = df[col].isna().sum() * 100\n",
        "        percentage /= df.shape[0]\n",
        "        if not int_mode:\n",
        "            percentage = f\"{percentage}% of null values\"\n",
        "        null_percentages[col] = percentage\n",
        "    return null_percentages\n",
        "\n",
        "def download_content(url, filename=\"image.jpg\"):\n",
        "    \"\"\"\n",
        "    Función que se encarga de descargar un archivo deseado\n",
        "    :param url: la url de descarga\n",
        "    :param filename: El nombre del archivo\n",
        "    \"\"\"\n",
        "    r = requests.get(url)\n",
        "    with open(filename, \"wb\") as f:\n",
        "        f.write(r.content)\n",
        "    return\n",
        "\n",
        "def drop_null_column(df, drop_perc=85):\n",
        "    \"\"\"\n",
        "    :param df:\n",
        "    :return:\n",
        "    \"\"\"\n",
        "    null_perc = null_percentage(df, int_mode=True)\n",
        "    for col in df.columns:\n",
        "        if null_perc[col] > drop_perc:\n",
        "            df.drop(columns=col, inplace=True)"
      ],
      "execution_count": 35,
      "outputs": []
    },
    {
      "cell_type": "code",
      "metadata": {
        "id": "RtduiW_raBrd",
        "colab_type": "code",
        "colab": {}
      },
      "source": [
        "download_content(url_condiciones, \"condiciones_vivienda.sav\")\n",
        "download_content(url_fuerza, \"fuerza_trabajo.sav\")\n",
        "download_content(url_composicion, \"composicion_hogar.sav\")"
      ],
      "execution_count": 76,
      "outputs": []
    },
    {
      "cell_type": "code",
      "metadata": {
        "id": "FQHDJr4vY2tJ",
        "colab_type": "code",
        "colab": {}
      },
      "source": [
        "data_condiciones = pd.read_spss(\"condiciones_vivienda.sav\")\n",
        "data_fuerza = pd.read_spss(\"fuerza_trabajo.sav\")\n",
        "data_composicion = pd.read_spss(\"composicion_hogar.sav\")"
      ],
      "execution_count": 77,
      "outputs": []
    },
    {
      "cell_type": "code",
      "metadata": {
        "id": "CBNtnt-kYujL",
        "colab_type": "code",
        "colab": {}
      },
      "source": [
        "columns_condiciones = {\n",
        "    \"FEX_C\": \"factores_expansion\",\n",
        "    \"P424\": \"tipo_vivienda\",\n",
        "    \"P4030S1\": \"energia_electrica\",\n",
        "    \"P4030S1A1\": \"estrato\",\n",
        "    \"P4030S5\": \"acueducto\",\n",
        "    \"P4030S3\": \"alcantarillado\",\n",
        "    \"P4030S4\": \"recoleccion_basuras\",\n",
        "    \"P4030S4A1\": \"dias_x_semana\",\n",
        "    \"P4030S2\": \"gas_natural_dom\",\n",
        "    \"P4020\": \"material_pisos\",\n",
        "    \"DIA_REFERENCIA_2\": \"dia_referencia\"\n",
        "}"
      ],
      "execution_count": 78,
      "outputs": []
    },
    {
      "cell_type": "code",
      "metadata": {
        "id": "MioHPSz5a8CT",
        "colab_type": "code",
        "colab": {}
      },
      "source": [
        "columns_fuerza = {\n",
        "    'P1099S1': 'horas_ida',\n",
        "    'P1099S2': 'minutos_ida',\n",
        "    'P1145': 'ganancia_ayudas',\n",
        "    'P1150': 'trabajo_dia',\n",
        "    'P1150S1': 'horas_trabajo',\n",
        "    'P1150S2': 'minutos_trabajo',\n",
        "    'P1151': 'horas_semana',\n",
        "    'P427': 'este_trabajo',\n",
        "    'P428': 'numero_personas',\n",
        "    'P6250': 'empleo_secundario',\n",
        "    'P6370S1': 'oficio_princ',\n",
        "    'P6390S1': 'rama_princ',\n",
        "    'P6400': 'misma_empresa',\n",
        "    'P6426': 'cantidad_tiempo',\n",
        "    'P6440': 'contrato',\n",
        "    'P6500': 'ganancias_mes_pasado',\n",
        "    'P6510': 'ganancia_jubilacion',\n",
        "    'P6545': 'ganancia_arriendo',\n",
        "    'P6750': 'ganancia_neta_mes_pasado',\n",
        "    'P6760': 'numero_meses',\n",
        "    'P6880': 'lugar_trabajo'\n",
        " }"
      ],
      "execution_count": 79,
      "outputs": []
    },
    {
      "cell_type": "code",
      "metadata": {
        "id": "MrTpAsMdeqeK",
        "colab_type": "code",
        "colab": {}
      },
      "source": [
        "columns_composicion = {\n",
        "    'P1172': 'vive_conyuge',\n",
        "    'P1172S1': 'numero_orden',\n",
        "    'P1173': 'se_reconoce',\n",
        "    'P1174': 'comparte_jefatura',\n",
        "    'P425': 'parentesco_jefe',\n",
        "    'P426': 'estado_civil',\n",
        "    'P5754': 'vive_con_padre',\n",
        "    'P5754S2': 'numero_orden_padre',\n",
        "    'P5762': 'vive_con_madre',\n",
        "    'P5762S2': 'numero_orden_madre',\n",
        "    'P6020': 'sexo',\n",
        "    'P6040': 'edad'\n",
        " }"
      ],
      "execution_count": 80,
      "outputs": []
    },
    {
      "cell_type": "markdown",
      "metadata": {
        "id": "5e-LQn7nfLuv",
        "colab_type": "text"
      },
      "source": [
        "### **Limpieza de datos**"
      ]
    },
    {
      "cell_type": "code",
      "metadata": {
        "id": "XY9BUOW9dUnD",
        "colab_type": "code",
        "colab": {}
      },
      "source": [
        "drop_null_column(data_condiciones)\n",
        "drop_null_column(data_fuerza)\n",
        "drop_null_column(data_composicion)"
      ],
      "execution_count": 81,
      "outputs": []
    },
    {
      "cell_type": "code",
      "metadata": {
        "id": "RfNVym8HbJnX",
        "colab_type": "code",
        "colab": {}
      },
      "source": [
        "data_condiciones.rename(columns=columns_condiciones, inplace=True)\n",
        "data_condiciones.rename(columns=lambda x: x.lower(), inplace=True)\n",
        "\n",
        "data_fuerza.rename(columns=columns_fuerza, inplace=True)\n",
        "data_fuerza.rename(columns=lambda x: x.lower(), inplace=True)\n",
        "\n",
        "data_composicion.rename(columns=columns_composicion, inplace=True)\n",
        "data_composicion.rename(columns=lambda x: x.lower(), inplace=True)"
      ],
      "execution_count": 82,
      "outputs": []
    },
    {
      "cell_type": "code",
      "metadata": {
        "id": "6XZKfBYse3de",
        "colab_type": "code",
        "colab": {}
      },
      "source": [
        "variables_fuerza = [\n",
        "    \"directorio\", \"contrato\", \"horas_semana\", \n",
        "    \"empleo_secundario\"\n",
        "]\n",
        "\n",
        "variables_condiciones = [\n",
        "    \"directorio\",  \"estrato\", \"region\", \"acueducto\",\n",
        "    \"alcantarillado\", \"gas_natural_dom\"\n",
        "]\n",
        "\n",
        "variables_composicion = [\n",
        "    \"directorio\", \"vive_con_padre\", \n",
        "    \"vive_con_madre\"\n",
        "]"
      ],
      "execution_count": 83,
      "outputs": []
    },
    {
      "cell_type": "code",
      "metadata": {
        "id": "Q-9rU4L9fka3",
        "colab_type": "code",
        "colab": {}
      },
      "source": [
        "data_condiciones = data_condiciones[variables_condiciones]\n",
        "data_fuerza = data_fuerza[variables_fuerza]\n",
        "data_composicion = data_composicion[variables_composicion]"
      ],
      "execution_count": 84,
      "outputs": []
    },
    {
      "cell_type": "code",
      "metadata": {
        "id": "CIEpfd-WgQIO",
        "colab_type": "code",
        "colab": {}
      },
      "source": [
        "final_data = pd.merge(data_condiciones, \n",
        "                    data_fuerza, \n",
        "                    how=\"inner\", \n",
        "                    on=\"directorio\")\n",
        "final_data = pd.merge(final_data, data_composicion, \n",
        "                    how=\"inner\", on=\"directorio\")"
      ],
      "execution_count": 85,
      "outputs": []
    },
    {
      "cell_type": "code",
      "metadata": {
        "id": "yigUE3DfnSBV",
        "colab_type": "code",
        "colab": {}
      },
      "source": [
        "final_data.to_pickle(\"final_data.pkl.gz\", compression=\"gzip\")"
      ],
      "execution_count": null,
      "outputs": []
    },
    {
      "cell_type": "markdown",
      "metadata": {
        "id": "BR-E9Jk5j5-h",
        "colab_type": "text"
      },
      "source": [
        "## **3. Estudio de Calidad de los Datos**"
      ]
    },
    {
      "cell_type": "code",
      "metadata": {
        "id": "yJ0bPBdigxDo",
        "colab_type": "code",
        "colab": {}
      },
      "source": [
        "# final_data.pkl.gz\n",
        "url_final_data = \"https://docs.google.com/uc?export=download&id=1tQXOJsLhus-F8r_J4605lKYfXNERrviW\""
      ],
      "execution_count": 86,
      "outputs": []
    },
    {
      "cell_type": "code",
      "metadata": {
        "id": "7kGsB9v3n_Wh",
        "colab_type": "code",
        "colab": {}
      },
      "source": [
        "download_content(url_final_data, \"final_data.pkl.gz\")"
      ],
      "execution_count": 87,
      "outputs": []
    },
    {
      "cell_type": "code",
      "metadata": {
        "id": "G6pOb9A-lyRq",
        "colab_type": "code",
        "colab": {}
      },
      "source": [
        "final_data = pd.read_pickle(\"final_data.pkl.gz\")"
      ],
      "execution_count": 88,
      "outputs": []
    },
    {
      "cell_type": "code",
      "metadata": {
        "id": "tqlqtPsCoEtk",
        "colab_type": "code",
        "colab": {
          "base_uri": "https://localhost:8080/",
          "height": 204
        },
        "outputId": "25ca04b3-1839-4971-857d-7d8586d0427d"
      },
      "source": [
        "final_data.head()"
      ],
      "execution_count": 89,
      "outputs": [
        {
          "output_type": "execute_result",
          "data": {
            "text/html": [
              "<div>\n",
              "<style scoped>\n",
              "    .dataframe tbody tr th:only-of-type {\n",
              "        vertical-align: middle;\n",
              "    }\n",
              "\n",
              "    .dataframe tbody tr th {\n",
              "        vertical-align: top;\n",
              "    }\n",
              "\n",
              "    .dataframe thead th {\n",
              "        text-align: right;\n",
              "    }\n",
              "</style>\n",
              "<table border=\"1\" class=\"dataframe\">\n",
              "  <thead>\n",
              "    <tr style=\"text-align: right;\">\n",
              "      <th></th>\n",
              "      <th>directorio</th>\n",
              "      <th>estrato</th>\n",
              "      <th>region</th>\n",
              "      <th>acueducto</th>\n",
              "      <th>alcantarillado</th>\n",
              "      <th>gas_natural_dom</th>\n",
              "      <th>contrato</th>\n",
              "      <th>horas_semana</th>\n",
              "      <th>empleo_secundario</th>\n",
              "      <th>vive_con_padre</th>\n",
              "      <th>vive_con_madre</th>\n",
              "    </tr>\n",
              "  </thead>\n",
              "  <tbody>\n",
              "    <tr>\n",
              "      <th>0</th>\n",
              "      <td>2915591.0</td>\n",
              "      <td>3.0</td>\n",
              "      <td>Central</td>\n",
              "      <td>Sí</td>\n",
              "      <td>Sí</td>\n",
              "      <td>Sí</td>\n",
              "      <td>No.</td>\n",
              "      <td>4.0</td>\n",
              "      <td>No</td>\n",
              "      <td>No</td>\n",
              "      <td>No</td>\n",
              "    </tr>\n",
              "    <tr>\n",
              "      <th>1</th>\n",
              "      <td>2915592.0</td>\n",
              "      <td>1.0</td>\n",
              "      <td>Pacífica</td>\n",
              "      <td>No</td>\n",
              "      <td>No</td>\n",
              "      <td>No</td>\n",
              "      <td>No.</td>\n",
              "      <td>12.0</td>\n",
              "      <td>No</td>\n",
              "      <td>No</td>\n",
              "      <td>No</td>\n",
              "    </tr>\n",
              "    <tr>\n",
              "      <th>2</th>\n",
              "      <td>2915593.0</td>\n",
              "      <td>1.0</td>\n",
              "      <td>Central</td>\n",
              "      <td>Sí</td>\n",
              "      <td>Sí</td>\n",
              "      <td>Sí</td>\n",
              "      <td>No.</td>\n",
              "      <td>30.0</td>\n",
              "      <td>No</td>\n",
              "      <td>No</td>\n",
              "      <td>No</td>\n",
              "    </tr>\n",
              "    <tr>\n",
              "      <th>3</th>\n",
              "      <td>2915593.0</td>\n",
              "      <td>1.0</td>\n",
              "      <td>Central</td>\n",
              "      <td>Sí</td>\n",
              "      <td>Sí</td>\n",
              "      <td>Sí</td>\n",
              "      <td>No.</td>\n",
              "      <td>30.0</td>\n",
              "      <td>No</td>\n",
              "      <td>No</td>\n",
              "      <td>Sí</td>\n",
              "    </tr>\n",
              "    <tr>\n",
              "      <th>4</th>\n",
              "      <td>2915593.0</td>\n",
              "      <td>1.0</td>\n",
              "      <td>Central</td>\n",
              "      <td>Sí</td>\n",
              "      <td>Sí</td>\n",
              "      <td>Sí</td>\n",
              "      <td>No.</td>\n",
              "      <td>30.0</td>\n",
              "      <td>No</td>\n",
              "      <td>No</td>\n",
              "      <td>Sí</td>\n",
              "    </tr>\n",
              "  </tbody>\n",
              "</table>\n",
              "</div>"
            ],
            "text/plain": [
              "   directorio  estrato  ... vive_con_padre vive_con_madre\n",
              "0   2915591.0      3.0  ...             No             No\n",
              "1   2915592.0      1.0  ...             No             No\n",
              "2   2915593.0      1.0  ...             No             No\n",
              "3   2915593.0      1.0  ...             No             Sí\n",
              "4   2915593.0      1.0  ...             No             Sí\n",
              "\n",
              "[5 rows x 11 columns]"
            ]
          },
          "metadata": {
            "tags": []
          },
          "execution_count": 89
        }
      ]
    },
    {
      "cell_type": "code",
      "metadata": {
        "id": "xpzzUCgqpoGE",
        "colab_type": "code",
        "colab": {}
      },
      "source": [
        ""
      ],
      "execution_count": null,
      "outputs": []
    }
  ]
}