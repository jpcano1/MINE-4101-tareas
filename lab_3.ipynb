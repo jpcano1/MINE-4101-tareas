{
  "nbformat": 4,
  "nbformat_minor": 0,
  "metadata": {
    "kernelspec": {
      "display_name": "Python 3",
      "language": "python",
      "name": "python3"
    },
    "language_info": {
      "codemirror_mode": {
        "name": "ipython",
        "version": 3
      },
      "file_extension": ".py",
      "mimetype": "text/x-python",
      "name": "python",
      "nbconvert_exporter": "python",
      "pygments_lexer": "ipython3",
      "version": "3.8.2"
    },
    "colab": {
      "name": "lab_3.ipynb",
      "provenance": []
    }
  },
  "cells": [
    {
      "cell_type": "markdown",
      "metadata": {
        "id": "jv1w83fE9KKL",
        "colab_type": "text"
      },
      "source": [
        "## **Bienvenido a la tercera práctica de Jupyter Notebook**\n",
        "\n",
        "<table align=\"left\">\n",
        "  <td>\n",
        "    <a target=\"_blank\" href=\"https://colab.research.google.com/github/jpcano1/MINE-4101-tareas/blob/master/lab_3.ipynb\"><img src=\"https://www.tensorflow.org/images/colab_logo_32px.png\"/>Run in Google Colab</a>\n",
        "  </td>\n",
        "</table>"
      ]
    },
    {
      "cell_type": "markdown",
      "metadata": {
        "id": "grxFWLea9KKM",
        "colab_type": "text"
      },
      "source": [
        "## **Caso**\n",
        "- Teniendo en cuenta los datos recopilados de la encuesta Nacional de uso del tiempo-ENUT¹, utilizados en la tarea anterior:\n",
        "    1. Plantea las hipótesis de negocio que permitan profundizar el objetivo principal de ENUT (ver sección 1.2 objetivos del Manual de conceptos básicos ENUT²).\n",
        "    2. Identifique las variables que considere necesarias para dar respuesta a estas hipótesis y construya el respectivo dataframe. Puede utilizar todas las fuentes disponibles que se encuentran en la página del DANE\n",
        "    3. Realice un estudio de calidad de datos sobre el dataframe consolidado en el punto anterior, para ello, utilice los conceptos vistos en clase (ejemplo: completitud).\n",
        "    4. Realice un análisis estadístico univariado que permita validar las hipótesis planteadas en el punto 1 y presente las respectivas conclusiones.\n",
        "    \n",
        "> ¹http://microdatos.dane.gov.co/index.php/catalog/214/get_microdata\n",
        "\n",
        "> ²http://microdatos.dane.gov.co/index.php/catalog/214/related_materials\n",
        "\n",
        "***\n",
        "\n",
        "- **Objetivo General**:\n",
        "\n",
        "La encuesta Nacional del Uso del Tiempo, es una investigación desarrollada por el DANE, con el fin de generar información sobre el tiempo dedicado por la   población de 10 años y más a actividades de trabajo y personales\n",
        "\n",
        "- **Objetivos específicos**:\n",
        "    1. Proporcionar información para la construcción de la cuenta satélite de trabajo no remunerado.\n",
        "    2. Producir información para la formulación, seguimiento y evaluación de la política pública con enfoque de género.\n",
        "    3. Proporcionar información para la formulación, seguimiento y evaluación de la política pública en temas relacionados con el uso del tiempo.\n",
        "\n",
        "## **1. Hipótesis de Trabajo**\n",
        "- El estrato influye en el número de horas trabajadas a la semana\n",
        "- Dependiendo del estrato, se sabrá si el usuario vive con el papá o la mamá\n",
        "- Dependiendo de la región del país, se tendrá o no un sistema de acueducto.\n",
        "- (Plan B) Dependiendo del estrato se sabrá si el usuario cuenta con un trabajo secundario."
      ]
    },
    {
      "cell_type": "code",
      "metadata": {
        "id": "oOO7xpDy9KKN",
        "colab_type": "code",
        "colab": {}
      },
      "source": [
        ""
      ],
      "execution_count": null,
      "outputs": []
    }
  ]
}